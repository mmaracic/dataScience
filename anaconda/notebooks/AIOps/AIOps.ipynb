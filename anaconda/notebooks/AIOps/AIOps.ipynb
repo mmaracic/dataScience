{
 "cells": [
  {
   "cell_type": "code",
   "execution_count": null,
   "id": "d0240ae3",
   "metadata": {},
   "outputs": [],
   "source": [
    "%whos"
   ]
  },
  {
   "cell_type": "code",
   "execution_count": null,
   "id": "e91eab08",
   "metadata": {},
   "outputs": [],
   "source": [
    "from os import listdir\n",
    "from os.path import isfile, join\n",
    "mypath = '/opt/notebooks/AIOps/parquet'\n",
    "onlyfiles = [f for f in listdir(mypath) if f.count('basic_data') == 0 and isfile(join(mypath, f))]\n",
    "print(onlyfiles)"
   ]
  },
  {
   "cell_type": "code",
   "execution_count": null,
   "id": "7a6a23a0",
   "metadata": {},
   "outputs": [],
   "source": [
    "fileName = join(mypath, onlyfiles[0])\n",
    "file = pd.read_parquet(fileName)\n",
    "print(fileName)\n",
    "print(file.info())"
   ]
  },
  {
   "cell_type": "code",
   "execution_count": null,
   "id": "8fc3a62d",
   "metadata": {},
   "outputs": [],
   "source": [
    "file.head()"
   ]
  },
  {
   "cell_type": "code",
   "execution_count": null,
   "id": "c0cbecae",
   "metadata": {},
   "outputs": [],
   "source": [
    "#read selected columns from files\n",
    "import pandas as pd\n",
    "data = pd.DataFrame()\n",
    "for f in onlyfiles:\n",
    "    file = join(mypath, f)\n",
    "    day = pd.read_parquet(file, columns=['timestamp', 'span_destination_service_name', 'transaction_id', 'span_id', 'span_action', 'span_type', 'span_subtype', 'span_name', 'span_duration_us'])\n",
    "    data = data.append(day)\n",
    "    print(file)\n",
    "print('Done')"
   ]
  },
  {
   "cell_type": "code",
   "execution_count": null,
   "id": "16fce8f8",
   "metadata": {},
   "outputs": [],
   "source": [
    "data.info()"
   ]
  },
  {
   "cell_type": "code",
   "execution_count": null,
   "id": "d1607fee",
   "metadata": {},
   "outputs": [],
   "source": [
    "data.to_parquet('/opt/notebooks/AIOps/parquet/basic_data.parquet')"
   ]
  },
  {
   "cell_type": "code",
   "execution_count": null,
   "id": "12480af4",
   "metadata": {},
   "outputs": [],
   "source": [
    "import pandas as pd\n",
    "#data = pd.read_parquet('/opt/notebooks/AIOps/parquet/basic_data.parquet')"
   ]
  },
  {
   "cell_type": "code",
   "execution_count": null,
   "id": "ac1afa02",
   "metadata": {},
   "outputs": [],
   "source": [
    "pd.to_datetime(data.loc[:, 'timestamp']).dt.date.unique().size"
   ]
  },
  {
   "cell_type": "code",
   "execution_count": null,
   "id": "0d77883d",
   "metadata": {},
   "outputs": [],
   "source": [
    "#60% od the data is logging\n",
    "data_no_logging = data[(data['span_action'] != 'send') & (data['span_type'] != 'messaging') & (data['span_subtype'] != 'kafka')]\n",
    "data_no_logging.head(20)"
   ]
  },
  {
   "cell_type": "code",
   "execution_count": null,
   "id": "8bda368e",
   "metadata": {},
   "outputs": [],
   "source": [
    "print(data.shape, data_no_logging.shape)"
   ]
  },
  {
   "cell_type": "code",
   "execution_count": null,
   "id": "c782232b",
   "metadata": {},
   "outputs": [],
   "source": [
    "pd.to_datetime(data_no_logging.loc[:, 'timestamp']).dt.date.unique().size"
   ]
  },
  {
   "cell_type": "code",
   "execution_count": null,
   "id": "f5b33fa0",
   "metadata": {},
   "outputs": [],
   "source": [
    "data_no_logging.to_parquet('/opt/notebooks/AIOps/parquet/basic_data_no_logging.parquet')"
   ]
  },
  {
   "cell_type": "code",
   "execution_count": null,
   "id": "95790a24",
   "metadata": {},
   "outputs": [],
   "source": [
    "import pandas as pd\n",
    "data_no_logging = pd.read_parquet('/opt/notebooks/AIOps/parquet/basic_data_no_logging.parquet')"
   ]
  },
  {
   "cell_type": "code",
   "execution_count": null,
   "id": "70e25ece",
   "metadata": {},
   "outputs": [],
   "source": [
    "data_no_logging.set_index('span_destination_service_name', inplace=True, drop=False)"
   ]
  },
  {
   "cell_type": "code",
   "execution_count": null,
   "id": "04800843",
   "metadata": {},
   "outputs": [],
   "source": [
    "#get unique service names\n",
    "service_names = data_no_logging.loc[:, 'span_destination_service_name'].unique()\n",
    "display(service_names)"
   ]
  },
  {
   "cell_type": "code",
   "execution_count": null,
   "id": "b93a235a",
   "metadata": {},
   "outputs": [],
   "source": [
    "#unknown service\n",
    "#data_no_logging[data_no_logging['span_destination_service_name'] ==  service_names[9]].head(20)"
   ]
  },
  {
   "cell_type": "code",
   "execution_count": null,
   "id": "25dd96ac",
   "metadata": {},
   "outputs": [],
   "source": [
    "grouped_by_service = data_no_logging.groupby(level = 'span_destination_service_name')\n",
    "count_by_service = grouped_by_service.size()\n",
    "display(count_by_service)"
   ]
  },
  {
   "cell_type": "code",
   "execution_count": null,
   "id": "d66a042d",
   "metadata": {},
   "outputs": [],
   "source": [
    "#get unique span types\n",
    "data_no_logging.loc[:, 'span_type'].unique()"
   ]
  },
  {
   "cell_type": "code",
   "execution_count": null,
   "id": "f8e6eabe",
   "metadata": {},
   "outputs": [],
   "source": [
    "#get unique span subtypes\n",
    "data_no_logging.loc[:, 'span_subtype'].unique()"
   ]
  },
  {
   "cell_type": "code",
   "execution_count": null,
   "id": "87edc0e8",
   "metadata": {},
   "outputs": [],
   "source": [
    "#get unique span name\n",
    "data_no_logging.loc[:, 'span_name'].unique()"
   ]
  },
  {
   "cell_type": "code",
   "execution_count": null,
   "id": "881ab720",
   "metadata": {},
   "outputs": [],
   "source": [
    "data_no_logging.loc[data_no_logging['span_destination_service_name'] == '', 'span_name'].shape"
   ]
  },
  {
   "cell_type": "code",
   "execution_count": null,
   "id": "93482c9c",
   "metadata": {},
   "outputs": [],
   "source": [
    "data_no_logging.loc[data_no_logging['span_destination_service_name'] == '', 'span_name'].unique()"
   ]
  },
  {
   "cell_type": "code",
   "execution_count": null,
   "id": "ce27e496",
   "metadata": {},
   "outputs": [],
   "source": [
    "#update service name for rows that have service name empty\n",
    "data_no_logging.loc[(data_no_logging['span_destination_service_name'] == '') & (data_no_logging['span_name'].str.contains('productInventory') == 1), 'span_destination_service_name'] = 'productInventory'\n",
    "data_no_logging.loc[(data_no_logging['span_destination_service_name'] == '') & (data_no_logging['span_name'].str.contains('profileManagement') == 1), 'span_destination_service_name'] = 'profileManagement'\n",
    "data_no_logging.loc[(data_no_logging['span_destination_service_name'] == '') & (data_no_logging['span_name'].str.contains('am-publicweb') == 1), 'span_destination_service_name'] = 'am-publicweb'\n",
    "data_no_logging.loc[(data_no_logging['span_destination_service_name'] == '') & (data_no_logging['span_name'].str.contains('api-gw') == 1), 'span_destination_service_name'] = 'api-gw'\n",
    "data_no_logging.loc[(data_no_logging['span_destination_service_name'] == '') & (data_no_logging['span_name'].str.contains('services.mw') == 1), 'span_destination_service_name'] = 'services.mw'"
   ]
  },
  {
   "cell_type": "code",
   "execution_count": null,
   "id": "b08ed9ca",
   "metadata": {},
   "outputs": [],
   "source": [
    "#analysis for service 1\n",
    "service1 = service_names[1]\n",
    "service1_data = data_no_logging[data_no_logging['span_destination_service_name'] == service1]\n",
    "display(service1_data.shape)\n",
    "service1_data.to_parquet('/opt/notebooks/AIOps/parquet/service1_basic_data.parquet')"
   ]
  },
  {
   "cell_type": "code",
   "execution_count": null,
   "id": "070341a5",
   "metadata": {},
   "outputs": [],
   "source": [
    "service1_data.loc[:, 'date'] = pd.to_datetime(service1_data.loc[:, 'timestamp']).dt.date\n",
    "service1_data.loc[:, 'day'] = pd.to_datetime(service1_data.loc[:, 'timestamp']).dt.day_of_week\n",
    "service1_data.loc[:, 'hour'] = pd.to_datetime(service1_data.loc[:, 'timestamp']).dt.hour\n",
    "service1_data.loc[:, 'minute'] = pd.to_datetime(service1_data.loc[:, 'timestamp']).dt.minute\n",
    "service1_data.loc[:, 'second'] = pd.to_datetime(service1_data.loc[:, 'timestamp']).dt.second"
   ]
  },
  {
   "cell_type": "code",
   "execution_count": null,
   "id": "6e4b6cea",
   "metadata": {},
   "outputs": [],
   "source": [
    "service1_data.head()"
   ]
  },
  {
   "cell_type": "code",
   "execution_count": null,
   "id": "9e4b64d9",
   "metadata": {},
   "outputs": [],
   "source": [
    "service1_data['date'].unique().size"
   ]
  },
  {
   "cell_type": "code",
   "execution_count": null,
   "id": "fa26b594",
   "metadata": {},
   "outputs": [],
   "source": []
  }
 ],
 "metadata": {
  "kernelspec": {
   "display_name": "Python 3",
   "language": "python",
   "name": "python3"
  },
  "language_info": {
   "codemirror_mode": {
    "name": "ipython",
    "version": 3
   },
   "file_extension": ".py",
   "mimetype": "text/x-python",
   "name": "python",
   "nbconvert_exporter": "python",
   "pygments_lexer": "ipython3",
   "version": "3.8.8"
  }
 },
 "nbformat": 4,
 "nbformat_minor": 5
}
