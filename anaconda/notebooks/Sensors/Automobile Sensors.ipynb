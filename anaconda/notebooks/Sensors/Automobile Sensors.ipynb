{
 "cells": [
  {
   "cell_type": "code",
   "execution_count": 1,
   "id": "d0240ae3",
   "metadata": {},
   "outputs": [
    {
     "name": "stdout",
     "output_type": "stream",
     "text": [
      "/opt/notebooks/Sensors\n"
     ]
    }
   ],
   "source": [
    "#current directory\n",
    "import os\n",
    "cwd = os.getcwd()\n",
    "print(cwd)"
   ]
  },
  {
   "cell_type": "code",
   "execution_count": 2,
   "id": "e91eab08",
   "metadata": {},
   "outputs": [
    {
     "name": "stdout",
     "output_type": "stream",
     "text": [
      "['2020-01-01.csv', '2020-01-02.csv', '2020-01-03.csv', '2020-01-04.csv', '2020-01-05.csv', '2020-01-06.csv', '2020-01-07.csv', '2020-01-08.csv', '2020-01-09.csv', '2020-01-10.csv', '2020-01-11.csv', '2020-01-12.csv', '2020-01-13.csv', '2020-01-14.csv', '2020-01-15.csv', '2020-01-16.csv', '2020-01-17.csv', '2020-01-18.csv', '2020-01-19.csv', '2020-01-20.csv', '2020-01-21.csv', '2020-01-22.csv', '2020-01-23.csv', '2020-01-24.csv', '2020-01-25.csv', '2020-01-26.csv', '2020-01-27.csv', '2020-01-28.csv', '2020-01-29.csv', '2020-01-30.csv', '2020-01-31.csv', '2020-02-01.csv', '2020-02-02.csv', '2020-02-03.csv', '2020-02-04.csv', '2020-02-05.csv', '2020-02-06.csv', '2020-02-07.csv', '2020-02-08.csv', '2020-02-09.csv', '2020-02-10.csv', '2020-02-11.csv', '2020-02-12.csv', '2020-02-13.csv', '2020-02-14.csv', '2020-02-15.csv', '2020-02-16.csv', '2020-02-17.csv', '2020-02-18.csv', '2020-02-19.csv', '2020-02-20.csv', '2020-02-21.csv', '2020-02-22.csv', '2020-02-23.csv', '2020-02-24.csv', '2020-02-25.csv', '2020-02-26.csv', '2020-02-27.csv', '2020-02-28.csv', '2020-02-29.csv', '2020-03-01.csv', '2020-03-02.csv', '2020-03-03.csv', '2020-03-04.csv', '2020-03-05.csv', '2020-03-06.csv', '2020-03-07.csv', '2020-03-08.csv', '2020-03-09.csv', '2020-03-10.csv', '2020-03-11.csv', '2020-03-12.csv', '2020-03-13.csv', '2020-03-14.csv', '2020-03-15.csv', '2020-03-16.csv', '2020-03-17.csv', '2020-03-18.csv', '2020-03-19.csv', '2020-03-20.csv', '2020-03-21.csv', '2020-03-22.csv', '2020-03-23.csv', '2020-03-24.csv', '2020-03-25.csv', '2020-03-26.csv', '2020-03-27.csv', '2020-03-28.csv', '2020-03-29.csv', '2020-03-30.csv', '2020-03-31.csv', '2020-04-01.csv', '2020-04-02.csv', '2020-04-03.csv', '2020-04-04.csv', '2020-04-05.csv', '2020-04-06.csv', '2020-04-07.csv', '2020-04-08.csv', '2020-04-09.csv', '2020-04-10.csv', '2020-04-11.csv', '2020-04-12.csv', '2020-04-13.csv', '2020-04-14.csv', '2020-04-15.csv', '2020-04-16.csv', '2020-04-17.csv', '2020-04-18.csv', '2020-04-19.csv', '2020-04-20.csv', '2020-04-21.csv', '2020-04-22.csv', '2020-04-23.csv', '2020-04-24.csv', '2020-04-25.csv', '2020-04-26.csv', '2020-04-27.csv', '2020-04-28.csv', '2020-04-29.csv', '2020-04-30.csv', '2020-05-01.csv', '2020-05-02.csv', '2020-05-03.csv', '2020-05-04.csv', '2020-05-05.csv', '2020-05-06.csv', '2020-05-07.csv', '2020-05-08.csv', '2020-05-09.csv', '2020-05-10.csv', '2020-05-11.csv', '2020-05-12.csv', '2020-05-13.csv', '2020-05-14.csv', '2020-05-15.csv', '2020-05-16.csv', '2020-05-17.csv', '2020-05-18.csv', '2020-05-19.csv', '2020-05-20.csv', '2020-05-21.csv', '2020-05-22.csv', '2020-05-23.csv', '2020-05-24.csv', '2020-05-25.csv', '2020-05-26.csv', '2020-05-27.csv', '2020-05-28.csv', '2020-05-29.csv', '2020-05-30.csv', '2020-05-31.csv', '2020-06-01.csv', '2020-06-02.csv', '2020-06-03.csv', '2020-06-04.csv', '2020-06-05.csv', '2020-06-06.csv', '2020-06-07.csv', '2020-06-08.csv', '2020-06-09.csv', '2020-06-10.csv', '2020-06-11.csv', '2020-06-12.csv', '2020-06-13.csv', '2020-06-14.csv', '2020-06-15.csv', '2020-06-16.csv', '2020-06-17.csv', '2020-06-18.csv', '2020-06-19.csv', '2020-06-20.csv', '2020-06-21.csv', '2020-06-22.csv', '2020-06-23.csv']\n"
     ]
    }
   ],
   "source": [
    "from os import listdir\n",
    "from os.path import isfile, join\n",
    "mypath = '/opt/notebooks/Sensors/2020_sensor_data'\n",
    "onlyfiles = [f for f in listdir(mypath) if isfile(join(mypath, f))]\n",
    "print(onlyfiles)"
   ]
  },
  {
   "cell_type": "code",
   "execution_count": 3,
   "id": "7a6a23a0",
   "metadata": {},
   "outputs": [
    {
     "name": "stdout",
     "output_type": "stream",
     "text": [
      "/opt/notebooks/Sensors/2020_sensor_data/2020-01-01.csv\n",
      "<bound method DataFrame.info of              date    serial_number             type       capacity  failure  \\\n",
      "0      2020-01-01   MJ0351YNG9Z0XA  HDS5C3030ALA630  3000592982016        0   \n",
      "1      2020-01-01         Z305B2QN      ST4000DM000  4000787030016        0   \n",
      "2      2020-01-01   MJ0351YNG9Z7LA  HDS5C3030ALA630  3000592982016        0   \n",
      "3      2020-01-01   MJ0351YNGABYAA  HDS5C3030ALA630  3000592982016        0   \n",
      "4      2020-01-01  WD-WMC4N2899475         WD30EFRX  3000592982016        0   \n",
      "...           ...              ...              ...            ...      ...   \n",
      "57540  2020-01-01         Z3016V0V      ST4000DM000  4000787030016        0   \n",
      "57541  2020-01-01   MJ1323YNG1LZJC  HDS5C3030ALA630  3000592982016        0   \n",
      "57542  2020-01-01         Z301EVVA      ST4000DM000  4000787030016        0   \n",
      "57543  2020-01-01         Z3041KPQ      ST4000DM000  4000787030016        0   \n",
      "57544  2020-01-01         S300YQMQ      ST4000DM000  4000787030016        0   \n",
      "\n",
      "       stat_1_normalized  stat_1_raw  stat_2_normalized  stat_2_raw  \\\n",
      "0                    100           0              135.0       108.0   \n",
      "1                    113    54551400                NaN         NaN   \n",
      "2                    100           0              136.0       104.0   \n",
      "3                    100           0              136.0       104.0   \n",
      "4                    200           0                NaN         NaN   \n",
      "...                  ...         ...                ...         ...   \n",
      "57540                117   143199640                NaN         NaN   \n",
      "57541                100           0              100.0         0.0   \n",
      "57542                120   236607184                NaN         NaN   \n",
      "57543                119   207461592                NaN         NaN   \n",
      "57544                119   202966128                NaN         NaN   \n",
      "\n",
      "       stat_3_normalized  ...  stat_250_normalized  stat_250_raw  \\\n",
      "0                    143  ...                  NaN           NaN   \n",
      "1                     96  ...                  NaN           NaN   \n",
      "2                    124  ...                  NaN           NaN   \n",
      "3                    137  ...                  NaN           NaN   \n",
      "4                    175  ...                  NaN           NaN   \n",
      "...                  ...  ...                  ...           ...   \n",
      "57540                 91  ...                  NaN           NaN   \n",
      "57541                124  ...                  NaN           NaN   \n",
      "57542                 93  ...                  NaN           NaN   \n",
      "57543                 95  ...                  NaN           NaN   \n",
      "57544                 97  ...                  NaN           NaN   \n",
      "\n",
      "       stat_251_normalized  stat_251_raw  stat_252_normalized  stat_252_raw  \\\n",
      "0                      NaN           NaN                  NaN           NaN   \n",
      "1                      NaN           NaN                  NaN           NaN   \n",
      "2                      NaN           NaN                  NaN           NaN   \n",
      "3                      NaN           NaN                  NaN           NaN   \n",
      "4                      NaN           NaN                  NaN           NaN   \n",
      "...                    ...           ...                  ...           ...   \n",
      "57540                  NaN           NaN                  NaN           NaN   \n",
      "57541                  NaN           NaN                  NaN           NaN   \n",
      "57542                  NaN           NaN                  NaN           NaN   \n",
      "57543                  NaN           NaN                  NaN           NaN   \n",
      "57544                  NaN           NaN                  NaN           NaN   \n",
      "\n",
      "       stat_254_normalized  stat_254_raw  stat_255_normalized  stat_255_raw  \n",
      "0                      NaN           NaN                  NaN           NaN  \n",
      "1                      NaN           NaN                  NaN           NaN  \n",
      "2                      NaN           NaN                  NaN           NaN  \n",
      "3                      NaN           NaN                  NaN           NaN  \n",
      "4                      NaN           NaN                  NaN           NaN  \n",
      "...                    ...           ...                  ...           ...  \n",
      "57540                  NaN           NaN                  NaN           NaN  \n",
      "57541                  NaN           NaN                  NaN           NaN  \n",
      "57542                  NaN           NaN                  NaN           NaN  \n",
      "57543                  NaN           NaN                  NaN           NaN  \n",
      "57544                  NaN           NaN                  NaN           NaN  \n",
      "\n",
      "[57545 rows x 95 columns]>\n"
     ]
    }
   ],
   "source": [
    "import pandas as pd\n",
    "file = join(mypath, onlyfiles[0])\n",
    "day = pd.read_csv(file)\n",
    "print(file)\n",
    "print(day.info)\n",
    "#print('Data', day)"
   ]
  },
  {
   "cell_type": "code",
   "execution_count": 4,
   "id": "c0cbecae",
   "metadata": {},
   "outputs": [
    {
     "name": "stdout",
     "output_type": "stream",
     "text": [
      "/opt/notebooks/Sensors/2020_sensor_data/2020-01-01.csv\n",
      "/opt/notebooks/Sensors/2020_sensor_data/2020-01-02.csv\n",
      "/opt/notebooks/Sensors/2020_sensor_data/2020-01-03.csv\n",
      "/opt/notebooks/Sensors/2020_sensor_data/2020-01-04.csv\n",
      "/opt/notebooks/Sensors/2020_sensor_data/2020-01-05.csv\n",
      "/opt/notebooks/Sensors/2020_sensor_data/2020-01-06.csv\n",
      "/opt/notebooks/Sensors/2020_sensor_data/2020-01-07.csv\n",
      "/opt/notebooks/Sensors/2020_sensor_data/2020-01-08.csv\n",
      "/opt/notebooks/Sensors/2020_sensor_data/2020-01-09.csv\n",
      "/opt/notebooks/Sensors/2020_sensor_data/2020-01-10.csv\n",
      "/opt/notebooks/Sensors/2020_sensor_data/2020-01-11.csv\n",
      "/opt/notebooks/Sensors/2020_sensor_data/2020-01-12.csv\n",
      "/opt/notebooks/Sensors/2020_sensor_data/2020-01-13.csv\n",
      "/opt/notebooks/Sensors/2020_sensor_data/2020-01-14.csv\n",
      "/opt/notebooks/Sensors/2020_sensor_data/2020-01-15.csv\n",
      "/opt/notebooks/Sensors/2020_sensor_data/2020-01-16.csv\n",
      "/opt/notebooks/Sensors/2020_sensor_data/2020-01-17.csv\n",
      "/opt/notebooks/Sensors/2020_sensor_data/2020-01-18.csv\n",
      "/opt/notebooks/Sensors/2020_sensor_data/2020-01-19.csv\n",
      "/opt/notebooks/Sensors/2020_sensor_data/2020-01-20.csv\n",
      "/opt/notebooks/Sensors/2020_sensor_data/2020-01-21.csv\n",
      "/opt/notebooks/Sensors/2020_sensor_data/2020-01-22.csv\n",
      "/opt/notebooks/Sensors/2020_sensor_data/2020-01-23.csv\n",
      "/opt/notebooks/Sensors/2020_sensor_data/2020-01-24.csv\n",
      "/opt/notebooks/Sensors/2020_sensor_data/2020-01-25.csv\n",
      "/opt/notebooks/Sensors/2020_sensor_data/2020-01-26.csv\n",
      "/opt/notebooks/Sensors/2020_sensor_data/2020-01-27.csv\n",
      "/opt/notebooks/Sensors/2020_sensor_data/2020-01-28.csv\n",
      "/opt/notebooks/Sensors/2020_sensor_data/2020-01-29.csv\n",
      "/opt/notebooks/Sensors/2020_sensor_data/2020-01-30.csv\n",
      "/opt/notebooks/Sensors/2020_sensor_data/2020-01-31.csv\n",
      "/opt/notebooks/Sensors/2020_sensor_data/2020-02-01.csv\n",
      "/opt/notebooks/Sensors/2020_sensor_data/2020-02-02.csv\n",
      "/opt/notebooks/Sensors/2020_sensor_data/2020-02-03.csv\n",
      "/opt/notebooks/Sensors/2020_sensor_data/2020-02-04.csv\n",
      "/opt/notebooks/Sensors/2020_sensor_data/2020-02-05.csv\n",
      "/opt/notebooks/Sensors/2020_sensor_data/2020-02-06.csv\n",
      "/opt/notebooks/Sensors/2020_sensor_data/2020-02-07.csv\n",
      "/opt/notebooks/Sensors/2020_sensor_data/2020-02-08.csv\n",
      "/opt/notebooks/Sensors/2020_sensor_data/2020-02-09.csv\n",
      "/opt/notebooks/Sensors/2020_sensor_data/2020-02-10.csv\n",
      "/opt/notebooks/Sensors/2020_sensor_data/2020-02-11.csv\n",
      "/opt/notebooks/Sensors/2020_sensor_data/2020-02-12.csv\n",
      "/opt/notebooks/Sensors/2020_sensor_data/2020-02-13.csv\n",
      "/opt/notebooks/Sensors/2020_sensor_data/2020-02-14.csv\n",
      "/opt/notebooks/Sensors/2020_sensor_data/2020-02-15.csv\n",
      "/opt/notebooks/Sensors/2020_sensor_data/2020-02-16.csv\n",
      "/opt/notebooks/Sensors/2020_sensor_data/2020-02-17.csv\n",
      "/opt/notebooks/Sensors/2020_sensor_data/2020-02-18.csv\n",
      "/opt/notebooks/Sensors/2020_sensor_data/2020-02-19.csv\n",
      "/opt/notebooks/Sensors/2020_sensor_data/2020-02-20.csv\n",
      "/opt/notebooks/Sensors/2020_sensor_data/2020-02-21.csv\n",
      "/opt/notebooks/Sensors/2020_sensor_data/2020-02-22.csv\n",
      "/opt/notebooks/Sensors/2020_sensor_data/2020-02-23.csv\n",
      "/opt/notebooks/Sensors/2020_sensor_data/2020-02-24.csv\n",
      "/opt/notebooks/Sensors/2020_sensor_data/2020-02-25.csv\n",
      "/opt/notebooks/Sensors/2020_sensor_data/2020-02-26.csv\n",
      "/opt/notebooks/Sensors/2020_sensor_data/2020-02-27.csv\n",
      "/opt/notebooks/Sensors/2020_sensor_data/2020-02-28.csv\n",
      "/opt/notebooks/Sensors/2020_sensor_data/2020-02-29.csv\n",
      "/opt/notebooks/Sensors/2020_sensor_data/2020-03-01.csv\n",
      "/opt/notebooks/Sensors/2020_sensor_data/2020-03-02.csv\n",
      "/opt/notebooks/Sensors/2020_sensor_data/2020-03-03.csv\n",
      "/opt/notebooks/Sensors/2020_sensor_data/2020-03-04.csv\n",
      "/opt/notebooks/Sensors/2020_sensor_data/2020-03-05.csv\n",
      "/opt/notebooks/Sensors/2020_sensor_data/2020-03-06.csv\n",
      "/opt/notebooks/Sensors/2020_sensor_data/2020-03-07.csv\n",
      "/opt/notebooks/Sensors/2020_sensor_data/2020-03-08.csv\n",
      "/opt/notebooks/Sensors/2020_sensor_data/2020-03-09.csv\n",
      "/opt/notebooks/Sensors/2020_sensor_data/2020-03-10.csv\n",
      "/opt/notebooks/Sensors/2020_sensor_data/2020-03-11.csv\n",
      "/opt/notebooks/Sensors/2020_sensor_data/2020-03-12.csv\n",
      "/opt/notebooks/Sensors/2020_sensor_data/2020-03-13.csv\n",
      "/opt/notebooks/Sensors/2020_sensor_data/2020-03-14.csv\n",
      "/opt/notebooks/Sensors/2020_sensor_data/2020-03-15.csv\n",
      "/opt/notebooks/Sensors/2020_sensor_data/2020-03-16.csv\n",
      "/opt/notebooks/Sensors/2020_sensor_data/2020-03-17.csv\n",
      "/opt/notebooks/Sensors/2020_sensor_data/2020-03-18.csv\n",
      "/opt/notebooks/Sensors/2020_sensor_data/2020-03-19.csv\n",
      "/opt/notebooks/Sensors/2020_sensor_data/2020-03-20.csv\n",
      "/opt/notebooks/Sensors/2020_sensor_data/2020-03-21.csv\n",
      "/opt/notebooks/Sensors/2020_sensor_data/2020-03-22.csv\n",
      "/opt/notebooks/Sensors/2020_sensor_data/2020-03-23.csv\n",
      "/opt/notebooks/Sensors/2020_sensor_data/2020-03-24.csv\n",
      "/opt/notebooks/Sensors/2020_sensor_data/2020-03-25.csv\n",
      "/opt/notebooks/Sensors/2020_sensor_data/2020-03-26.csv\n",
      "/opt/notebooks/Sensors/2020_sensor_data/2020-03-27.csv\n",
      "/opt/notebooks/Sensors/2020_sensor_data/2020-03-28.csv\n",
      "/opt/notebooks/Sensors/2020_sensor_data/2020-03-29.csv\n",
      "/opt/notebooks/Sensors/2020_sensor_data/2020-03-30.csv\n",
      "/opt/notebooks/Sensors/2020_sensor_data/2020-03-31.csv\n",
      "/opt/notebooks/Sensors/2020_sensor_data/2020-04-01.csv\n",
      "/opt/notebooks/Sensors/2020_sensor_data/2020-04-02.csv\n",
      "/opt/notebooks/Sensors/2020_sensor_data/2020-04-03.csv\n",
      "/opt/notebooks/Sensors/2020_sensor_data/2020-04-04.csv\n",
      "/opt/notebooks/Sensors/2020_sensor_data/2020-04-05.csv\n",
      "/opt/notebooks/Sensors/2020_sensor_data/2020-04-06.csv\n",
      "/opt/notebooks/Sensors/2020_sensor_data/2020-04-07.csv\n",
      "/opt/notebooks/Sensors/2020_sensor_data/2020-04-08.csv\n",
      "/opt/notebooks/Sensors/2020_sensor_data/2020-04-09.csv\n",
      "/opt/notebooks/Sensors/2020_sensor_data/2020-04-10.csv\n",
      "/opt/notebooks/Sensors/2020_sensor_data/2020-04-11.csv\n",
      "/opt/notebooks/Sensors/2020_sensor_data/2020-04-12.csv\n",
      "/opt/notebooks/Sensors/2020_sensor_data/2020-04-13.csv\n",
      "/opt/notebooks/Sensors/2020_sensor_data/2020-04-14.csv\n",
      "/opt/notebooks/Sensors/2020_sensor_data/2020-04-15.csv\n",
      "/opt/notebooks/Sensors/2020_sensor_data/2020-04-16.csv\n",
      "/opt/notebooks/Sensors/2020_sensor_data/2020-04-17.csv\n",
      "/opt/notebooks/Sensors/2020_sensor_data/2020-04-18.csv\n",
      "/opt/notebooks/Sensors/2020_sensor_data/2020-04-19.csv\n",
      "/opt/notebooks/Sensors/2020_sensor_data/2020-04-20.csv\n",
      "/opt/notebooks/Sensors/2020_sensor_data/2020-04-21.csv\n",
      "/opt/notebooks/Sensors/2020_sensor_data/2020-04-22.csv\n",
      "/opt/notebooks/Sensors/2020_sensor_data/2020-04-23.csv\n",
      "/opt/notebooks/Sensors/2020_sensor_data/2020-04-24.csv\n",
      "/opt/notebooks/Sensors/2020_sensor_data/2020-04-25.csv\n",
      "/opt/notebooks/Sensors/2020_sensor_data/2020-04-26.csv\n",
      "/opt/notebooks/Sensors/2020_sensor_data/2020-04-27.csv\n",
      "/opt/notebooks/Sensors/2020_sensor_data/2020-04-28.csv\n",
      "/opt/notebooks/Sensors/2020_sensor_data/2020-04-29.csv\n",
      "/opt/notebooks/Sensors/2020_sensor_data/2020-04-30.csv\n",
      "/opt/notebooks/Sensors/2020_sensor_data/2020-05-01.csv\n",
      "/opt/notebooks/Sensors/2020_sensor_data/2020-05-02.csv\n",
      "/opt/notebooks/Sensors/2020_sensor_data/2020-05-03.csv\n",
      "/opt/notebooks/Sensors/2020_sensor_data/2020-05-04.csv\n",
      "/opt/notebooks/Sensors/2020_sensor_data/2020-05-05.csv\n",
      "/opt/notebooks/Sensors/2020_sensor_data/2020-05-06.csv\n",
      "/opt/notebooks/Sensors/2020_sensor_data/2020-05-07.csv\n",
      "/opt/notebooks/Sensors/2020_sensor_data/2020-05-08.csv\n",
      "/opt/notebooks/Sensors/2020_sensor_data/2020-05-09.csv\n",
      "/opt/notebooks/Sensors/2020_sensor_data/2020-05-10.csv\n",
      "/opt/notebooks/Sensors/2020_sensor_data/2020-05-11.csv\n",
      "/opt/notebooks/Sensors/2020_sensor_data/2020-05-12.csv\n",
      "/opt/notebooks/Sensors/2020_sensor_data/2020-05-13.csv\n",
      "/opt/notebooks/Sensors/2020_sensor_data/2020-05-14.csv\n",
      "/opt/notebooks/Sensors/2020_sensor_data/2020-05-15.csv\n",
      "/opt/notebooks/Sensors/2020_sensor_data/2020-05-16.csv\n",
      "/opt/notebooks/Sensors/2020_sensor_data/2020-05-17.csv\n",
      "/opt/notebooks/Sensors/2020_sensor_data/2020-05-18.csv\n",
      "/opt/notebooks/Sensors/2020_sensor_data/2020-05-19.csv\n",
      "/opt/notebooks/Sensors/2020_sensor_data/2020-05-20.csv\n",
      "/opt/notebooks/Sensors/2020_sensor_data/2020-05-21.csv\n",
      "/opt/notebooks/Sensors/2020_sensor_data/2020-05-22.csv\n",
      "/opt/notebooks/Sensors/2020_sensor_data/2020-05-23.csv\n",
      "/opt/notebooks/Sensors/2020_sensor_data/2020-05-24.csv\n",
      "/opt/notebooks/Sensors/2020_sensor_data/2020-05-25.csv\n",
      "/opt/notebooks/Sensors/2020_sensor_data/2020-05-26.csv\n",
      "/opt/notebooks/Sensors/2020_sensor_data/2020-05-27.csv\n",
      "/opt/notebooks/Sensors/2020_sensor_data/2020-05-28.csv\n"
     ]
    },
    {
     "name": "stdout",
     "output_type": "stream",
     "text": [
      "/opt/notebooks/Sensors/2020_sensor_data/2020-05-29.csv\n",
      "/opt/notebooks/Sensors/2020_sensor_data/2020-05-30.csv\n",
      "/opt/notebooks/Sensors/2020_sensor_data/2020-05-31.csv\n",
      "/opt/notebooks/Sensors/2020_sensor_data/2020-06-01.csv\n",
      "/opt/notebooks/Sensors/2020_sensor_data/2020-06-02.csv\n",
      "/opt/notebooks/Sensors/2020_sensor_data/2020-06-03.csv\n",
      "/opt/notebooks/Sensors/2020_sensor_data/2020-06-04.csv\n",
      "/opt/notebooks/Sensors/2020_sensor_data/2020-06-05.csv\n",
      "/opt/notebooks/Sensors/2020_sensor_data/2020-06-06.csv\n",
      "/opt/notebooks/Sensors/2020_sensor_data/2020-06-07.csv\n",
      "/opt/notebooks/Sensors/2020_sensor_data/2020-06-08.csv\n",
      "/opt/notebooks/Sensors/2020_sensor_data/2020-06-09.csv\n",
      "/opt/notebooks/Sensors/2020_sensor_data/2020-06-10.csv\n",
      "/opt/notebooks/Sensors/2020_sensor_data/2020-06-11.csv\n",
      "/opt/notebooks/Sensors/2020_sensor_data/2020-06-12.csv\n",
      "/opt/notebooks/Sensors/2020_sensor_data/2020-06-13.csv\n",
      "/opt/notebooks/Sensors/2020_sensor_data/2020-06-14.csv\n",
      "/opt/notebooks/Sensors/2020_sensor_data/2020-06-15.csv\n",
      "/opt/notebooks/Sensors/2020_sensor_data/2020-06-16.csv\n",
      "/opt/notebooks/Sensors/2020_sensor_data/2020-06-17.csv\n",
      "/opt/notebooks/Sensors/2020_sensor_data/2020-06-18.csv\n",
      "/opt/notebooks/Sensors/2020_sensor_data/2020-06-19.csv\n",
      "/opt/notebooks/Sensors/2020_sensor_data/2020-06-20.csv\n",
      "/opt/notebooks/Sensors/2020_sensor_data/2020-06-21.csv\n",
      "/opt/notebooks/Sensors/2020_sensor_data/2020-06-22.csv\n",
      "/opt/notebooks/Sensors/2020_sensor_data/2020-06-23.csv\n",
      "Done\n"
     ]
    }
   ],
   "source": [
    "#read selected columns from files\n",
    "import pandas as pd\n",
    "data = pd.DataFrame()\n",
    "for f in onlyfiles:\n",
    "    file = join(mypath, f)\n",
    "    day = pd.read_csv(file, usecols=['date', 'serial_number', 'type', 'failure'])\n",
    "    data = data.append(day, ignore_index=True)\n",
    "    print(file)\n",
    "print('Done')\n"
   ]
  },
  {
   "cell_type": "code",
   "execution_count": 5,
   "id": "16fce8f8",
   "metadata": {},
   "outputs": [
    {
     "name": "stdout",
     "output_type": "stream",
     "text": [
      "<class 'pandas.core.frame.DataFrame'>\n",
      "RangeIndex: 10982984 entries, 0 to 10982983\n",
      "Data columns (total 4 columns):\n",
      " #   Column         Dtype \n",
      "---  ------         ----- \n",
      " 0   date           object\n",
      " 1   serial_number  object\n",
      " 2   type           object\n",
      " 3   failure        int64 \n",
      "dtypes: int64(1), object(3)\n",
      "memory usage: 335.2+ MB\n"
     ]
    }
   ],
   "source": [
    "data.info()"
   ]
  },
  {
   "cell_type": "code",
   "execution_count": 9,
   "id": "7561facc",
   "metadata": {},
   "outputs": [],
   "source": [
    "data.to_parquet('/opt/notebooks/Sensors/parquet/sensor-basic-data.parquet')"
   ]
  },
  {
   "cell_type": "code",
   "execution_count": null,
   "id": "f914039a",
   "metadata": {},
   "outputs": [],
   "source": [
    "data = pd.read_parquet('/opt/notebooks/Sensors/parquet/sensor-basic-data.parquet')"
   ]
  },
  {
   "cell_type": "code",
   "execution_count": 6,
   "id": "d2cbe5d3",
   "metadata": {},
   "outputs": [
    {
     "data": {
      "text/plain": [
       "date                  2020-01-01\n",
       "serial_number     MJ0351YNG9Z0XA\n",
       "type             HDS5C3030ALA630\n",
       "failure                        0\n",
       "Name: 0, dtype: object"
      ]
     },
     "execution_count": 6,
     "metadata": {},
     "output_type": "execute_result"
    }
   ],
   "source": [
    "#select row by index (or label)\n",
    "data.loc[0]"
   ]
  },
  {
   "cell_type": "code",
   "execution_count": 7,
   "id": "04800843",
   "metadata": {},
   "outputs": [
    {
     "data": {
      "text/plain": [
       "70923"
      ]
     },
     "execution_count": 7,
     "metadata": {},
     "output_type": "execute_result"
    }
   ],
   "source": [
    "#select all rows, but one column and count unique values for serial number\n",
    "data.loc[:, 'serial_number'].unique().size"
   ]
  },
  {
   "cell_type": "code",
   "execution_count": 8,
   "id": "dcea3c75",
   "metadata": {},
   "outputs": [
    {
     "data": {
      "text/plain": [
       "array(['MJ0351YNG9Z0XA', 'Z305B2QN', 'MJ0351YNG9Z7LA', ...,\n",
       "       'PL1331LAHD3VEH', 'WD-WCC4N1SFT3ST', 'Z305DW8H'], dtype=object)"
      ]
     },
     "execution_count": 8,
     "metadata": {},
     "output_type": "execute_result"
    }
   ],
   "source": [
    "#select all rows, but one column and get unique values for serial number\n",
    "data.loc[:, 'serial_number'].unique()"
   ]
  },
  {
   "cell_type": "code",
   "execution_count": 10,
   "id": "fcdc9c5f",
   "metadata": {},
   "outputs": [
    {
     "name": "stdout",
     "output_type": "stream",
     "text": [
      "<class 'pandas.core.frame.DataFrame'>\n",
      "Int64Index: 794019 entries, 0 to 10982981\n",
      "Data columns (total 4 columns):\n",
      " #   Column         Non-Null Count   Dtype \n",
      "---  ------         --------------   ----- \n",
      " 0   date           794019 non-null  object\n",
      " 1   serial_number  794019 non-null  object\n",
      " 2   type           794019 non-null  object\n",
      " 3   failure        794019 non-null  int64 \n",
      "dtypes: int64(1), object(3)\n",
      "memory usage: 30.3+ MB\n"
     ]
    }
   ],
   "source": [
    "#extracting a subset of rows for a type\n",
    "single = data[data['type'] == 'HDS5C3030ALA630'].copy()\n",
    "single.info()"
   ]
  },
  {
   "cell_type": "code",
   "execution_count": 10,
   "id": "bff2e9c0",
   "metadata": {},
   "outputs": [
    {
     "data": {
      "image/png": "[encoded data removed]",
      "text/plain": [
       "<Figure size 432x288 with 1 Axes>"
      ]
     },
     "metadata": {
      "needs_background": "light"
     },
     "output_type": "display_data"
    }
   ],
   "source": [
    "import pandas as pd\n",
    "import matplotlib.pyplot as plt\n",
    "\n",
    "single.plot()\n",
    "\n",
    "plt.show() "
   ]
  },
  {
   "cell_type": "code",
   "execution_count": 11,
   "id": "995a820a",
   "metadata": {},
   "outputs": [
    {
     "data": {
      "text/plain": [
       "<AxesSubplot:ylabel='Frequency'>"
      ]
     },
     "execution_count": 11,
     "metadata": {},
     "output_type": "execute_result"
    },
    {
     "data": {
      "image/png": "[encoded data removed]",
      "text/plain": [
       "<Figure size 432x288 with 1 Axes>"
      ]
     },
     "metadata": {
      "needs_background": "light"
     },
     "output_type": "display_data"
    }
   ],
   "source": [
    "single[\"failure\"].plot(kind = 'hist')"
   ]
  },
  {
   "cell_type": "code",
   "execution_count": 12,
   "id": "29a8182c",
   "metadata": {},
   "outputs": [
    {
     "data": {
      "text/plain": [
       "68"
      ]
     },
     "execution_count": 12,
     "metadata": {},
     "output_type": "execute_result"
    }
   ],
   "source": [
    "#select all rows, but one column and count unique values for type\n",
    "data.loc[:, 'type'].unique().size"
   ]
  },
  {
   "cell_type": "code",
   "execution_count": 13,
   "id": "b5aa67c5",
   "metadata": {},
   "outputs": [
    {
     "name": "stdout",
     "output_type": "stream",
     "text": [
      "['HDS5C3030ALA630' 'ST4000DM000' 'WD30EFRX' 'HDS5C4040ALE630'\n",
      " 'HMS5C4040ALE640' 'HMS5C4040BLE640' 'ST6000DX000' 'HDS723030ALA640'\n",
      " 'HDS722020ALA330' 'ST31500541AS' 'ST4000DX000' 'WD60EFRX' 'WD5000LPVX'\n",
      " 'HUH728080ALE600' 'WD1600AAJS' 'ST320LT007' 'HN' 'MD04ABA500V'\n",
      " 'ST9320325AS' 'MD04ABA400V' 'DT01ACA300' 'HDS724040ALE640' 'ST3160318AS'\n",
      " 'WD20EFRX' 'ST9250315AS' 'ST3160316AS' 'HDS723020BLA642' 'ST2000VN000'\n",
      " 'WD3200AAJB' 'WD40EFRX' 'WD800AAJS' 'WD3200BEKX' 'WD800JB' 'WD5000BPKT'\n",
      " 'HDT725025VLA380' 'WD1600AAJB' 'HDS723030BLE640' 'WD800AAJB' 'WD800LB'\n",
      " 'HDS5C3030BLE630' 'WD3200BEKT' 'WD5002ABYS' 'ST250LT007' 'WD2500AAJS'\n",
      " 'WD800BB' 'WD2500BEVT' 'WD2500BPVT' 'WD5003ABYX' 'WD2500AAJB'\n",
      " 'WD3200LPVX' 'ST31500341AS' 'WD3200AAJS' 'WD3200AAKS' 'WD800JD' 'HD154UI'\n",
      " 'ST3500320AS' 'WD1600BPVT' 'WD10EADS' 'WD10EACS' 'WD10EARS' 'WD10EADX'\n",
      " 'WD10EARX' 'WD15EARS' 'WD10EALS' 'WD1001FALS' 'ST4000DX002' 'ST8000DM002'\n",
      " 'MQ01ABF050']\n"
     ]
    }
   ],
   "source": [
    "#select all rows, but one column and get unique values for type\n",
    "sensor_types = data.loc[:, 'type'].unique()\n",
    "print(sensor_types)"
   ]
  },
  {
   "cell_type": "code",
   "execution_count": 14,
   "id": "faf6e28a",
   "metadata": {},
   "outputs": [],
   "source": [
    "grouped_by_sensor = data.groupby('type')"
   ]
  },
  {
   "cell_type": "code",
   "execution_count": 15,
   "id": "62a372d7",
   "metadata": {},
   "outputs": [
    {
     "data": {
      "text/plain": [
       "type\n",
       "DT01ACA300           8161\n",
       "HD154UI                 5\n",
       "HDS5C3030ALA630    794019\n",
       "HDS5C3030BLE630       175\n",
       "HDS5C4040ALE630    473298\n",
       "                    ...  \n",
       "WD800AAJS            1733\n",
       "WD800BB               424\n",
       "WD800JB               384\n",
       "WD800JD                84\n",
       "WD800LB                76\n",
       "Length: 68, dtype: int64"
      ]
     },
     "metadata": {},
     "output_type": "display_data"
    }
   ],
   "source": [
    "count_by_sensor = grouped_by_sensor.size()\n",
    "display(count_by_sensor)"
   ]
  },
  {
   "cell_type": "code",
   "execution_count": 12,
   "id": "ce4570fa",
   "metadata": {},
   "outputs": [],
   "source": [
    "#sensor type data extraction function\n",
    "def extractionFunction(files, sensor_type):\n",
    "    data = pd.DataFrame()\n",
    "    for f in onlyfiles:\n",
    "        file = join(mypath, f)\n",
    "        day = pd.read_csv(file)\n",
    "        day_by_sensor = day[day['type'] == sensor_type]\n",
    "        data = data.append(day_by_sensor, ignore_index=True)\n",
    "        print(file)\n",
    "    print('Done')\n",
    "    return data"
   ]
  },
  {
   "cell_type": "code",
   "execution_count": 13,
   "id": "ff5cd2bb",
   "metadata": {},
   "outputs": [],
   "source": [
    "#sensor type and serial number data extraction function\n",
    "def extractionFunction(files, sensor_type, train_serial_number_list, test_serial_number_list):\n",
    "    train_data = pd.DataFrame()\n",
    "    test_data = pd.DataFrame()\n",
    "    for f in onlyfiles:\n",
    "        file = join(mypath, f)\n",
    "        day = pd.read_csv(file)\n",
    "        train_day = day[(day['type'] == sensor_type) & (day['serial_number'].isin(train_serial_number_list))]\n",
    "        test_day = day[(day['type'] == sensor_type) & (day['serial_number'].isin(test_serial_number_list))]\n",
    "        train_data = train_data.append(train_day, ignore_index=True)\n",
    "        test_data = test_data.append(test_day, ignore_index=True)\n",
    "        print(file)\n",
    "    print('Done')\n",
    "    return train_data,test_data"
   ]
  },
  {
   "cell_type": "code",
   "execution_count": 14,
   "id": "6fb1e614",
   "metadata": {},
   "outputs": [
    {
     "data": {
      "text/plain": [
       "(48,)"
      ]
     },
     "execution_count": 14,
     "metadata": {},
     "output_type": "execute_result"
    }
   ],
   "source": [
    "#filtering rows and columns\n",
    "DT01ACA300_sensor_serials = data.loc[data['type'] == 'DT01ACA300', 'serial_number'].unique()\n",
    "DT01ACA300_sensor_serials.shape"
   ]
  },
  {
   "cell_type": "code",
   "execution_count": 15,
   "id": "df9a5e67",
   "metadata": {},
   "outputs": [
    {
     "data": {
      "text/plain": [
       "array(['Z262JG9AS', 'Z262EVJAS', 'Z262A0JAS', '13H87YWAS', '13H8B3SGS',\n",
       "       'Z252JSPAS', 'Z252A55AS', 'Z252EGAAS', 'Z252A7MAS', 'Z252E8NAS',\n",
       "       'Z252MP6AS', '13H89KSGS', 'Z262JRXAS', 'Z262G0UAS', '13H883WAS',\n",
       "       'Z252A59AS', '13H2B97AS', 'Z262G13AS', 'Z252E3ZAS', 'Z262E7ZAS',\n",
       "       'Z2529ZDAS', 'Z252A0ZAS', 'Z2623ZGAS', 'Z252A47AS', 'Z262E7VAS',\n",
       "       'Z262JRNAS', '13H8B2RGS', 'Z262A16AS', 'Z262A7AAS', 'Z262E92AS',\n",
       "       'Z262A0TAS', 'Z2623WBAS', '13H85BMGS'], dtype=object)"
      ]
     },
     "metadata": {},
     "output_type": "display_data"
    },
    {
     "data": {
      "text/plain": [
       "array(['Z252MY8AS', '13H8AB0GS', 'Z262JM4AS', '13H8D70AS', 'Z252MZ8AS',\n",
       "       '13H7X2HAS', '13H89U2GS', 'Z252MWSAS', 'Z252A53AS', '13H32WEAS',\n",
       "       'Z252A30AS', '13H6A21GS', 'Z252N0WAS', 'Z262A2AAS', 'Z262G2UAS'],\n",
       "      dtype=object)"
      ]
     },
     "metadata": {},
     "output_type": "display_data"
    }
   ],
   "source": [
    "from sklearn.model_selection import train_test_split\n",
    "train_serials,test_serials = train_test_split(DT01ACA300_sensor_serials, train_size = 0.7, random_state = 42)\n",
    "display(train_serials,test_serials)"
   ]
  },
  {
   "cell_type": "code",
   "execution_count": 16,
   "id": "5c1438b0",
   "metadata": {},
   "outputs": [
    {
     "name": "stdout",
     "output_type": "stream",
     "text": [
      "/opt/notebooks/Sensors/2020_sensor_data/2020-01-01.csv\n",
      "/opt/notebooks/Sensors/2020_sensor_data/2020-01-02.csv\n",
      "/opt/notebooks/Sensors/2020_sensor_data/2020-01-03.csv\n",
      "/opt/notebooks/Sensors/2020_sensor_data/2020-01-04.csv\n",
      "/opt/notebooks/Sensors/2020_sensor_data/2020-01-05.csv\n",
      "/opt/notebooks/Sensors/2020_sensor_data/2020-01-06.csv\n",
      "/opt/notebooks/Sensors/2020_sensor_data/2020-01-07.csv\n",
      "/opt/notebooks/Sensors/2020_sensor_data/2020-01-08.csv\n",
      "/opt/notebooks/Sensors/2020_sensor_data/2020-01-09.csv\n",
      "/opt/notebooks/Sensors/2020_sensor_data/2020-01-10.csv\n",
      "/opt/notebooks/Sensors/2020_sensor_data/2020-01-11.csv\n",
      "/opt/notebooks/Sensors/2020_sensor_data/2020-01-12.csv\n",
      "/opt/notebooks/Sensors/2020_sensor_data/2020-01-13.csv\n",
      "/opt/notebooks/Sensors/2020_sensor_data/2020-01-14.csv\n",
      "/opt/notebooks/Sensors/2020_sensor_data/2020-01-15.csv\n",
      "/opt/notebooks/Sensors/2020_sensor_data/2020-01-16.csv\n",
      "/opt/notebooks/Sensors/2020_sensor_data/2020-01-17.csv\n",
      "/opt/notebooks/Sensors/2020_sensor_data/2020-01-18.csv\n",
      "/opt/notebooks/Sensors/2020_sensor_data/2020-01-19.csv\n",
      "/opt/notebooks/Sensors/2020_sensor_data/2020-01-20.csv\n",
      "/opt/notebooks/Sensors/2020_sensor_data/2020-01-21.csv\n",
      "/opt/notebooks/Sensors/2020_sensor_data/2020-01-22.csv\n",
      "/opt/notebooks/Sensors/2020_sensor_data/2020-01-23.csv\n",
      "/opt/notebooks/Sensors/2020_sensor_data/2020-01-24.csv\n",
      "/opt/notebooks/Sensors/2020_sensor_data/2020-01-25.csv\n",
      "/opt/notebooks/Sensors/2020_sensor_data/2020-01-26.csv\n",
      "/opt/notebooks/Sensors/2020_sensor_data/2020-01-27.csv\n",
      "/opt/notebooks/Sensors/2020_sensor_data/2020-01-28.csv\n",
      "/opt/notebooks/Sensors/2020_sensor_data/2020-01-29.csv\n",
      "/opt/notebooks/Sensors/2020_sensor_data/2020-01-30.csv\n",
      "/opt/notebooks/Sensors/2020_sensor_data/2020-01-31.csv\n",
      "/opt/notebooks/Sensors/2020_sensor_data/2020-02-01.csv\n",
      "/opt/notebooks/Sensors/2020_sensor_data/2020-02-02.csv\n",
      "/opt/notebooks/Sensors/2020_sensor_data/2020-02-03.csv\n",
      "/opt/notebooks/Sensors/2020_sensor_data/2020-02-04.csv\n",
      "/opt/notebooks/Sensors/2020_sensor_data/2020-02-05.csv\n",
      "/opt/notebooks/Sensors/2020_sensor_data/2020-02-06.csv\n",
      "/opt/notebooks/Sensors/2020_sensor_data/2020-02-07.csv\n",
      "/opt/notebooks/Sensors/2020_sensor_data/2020-02-08.csv\n",
      "/opt/notebooks/Sensors/2020_sensor_data/2020-02-09.csv\n",
      "/opt/notebooks/Sensors/2020_sensor_data/2020-02-10.csv\n",
      "/opt/notebooks/Sensors/2020_sensor_data/2020-02-11.csv\n",
      "/opt/notebooks/Sensors/2020_sensor_data/2020-02-12.csv\n",
      "/opt/notebooks/Sensors/2020_sensor_data/2020-02-13.csv\n",
      "/opt/notebooks/Sensors/2020_sensor_data/2020-02-14.csv\n",
      "/opt/notebooks/Sensors/2020_sensor_data/2020-02-15.csv\n",
      "/opt/notebooks/Sensors/2020_sensor_data/2020-02-16.csv\n",
      "/opt/notebooks/Sensors/2020_sensor_data/2020-02-17.csv\n",
      "/opt/notebooks/Sensors/2020_sensor_data/2020-02-18.csv\n",
      "/opt/notebooks/Sensors/2020_sensor_data/2020-02-19.csv\n",
      "/opt/notebooks/Sensors/2020_sensor_data/2020-02-20.csv\n",
      "/opt/notebooks/Sensors/2020_sensor_data/2020-02-21.csv\n",
      "/opt/notebooks/Sensors/2020_sensor_data/2020-02-22.csv\n",
      "/opt/notebooks/Sensors/2020_sensor_data/2020-02-23.csv\n",
      "/opt/notebooks/Sensors/2020_sensor_data/2020-02-24.csv\n",
      "/opt/notebooks/Sensors/2020_sensor_data/2020-02-25.csv\n",
      "/opt/notebooks/Sensors/2020_sensor_data/2020-02-26.csv\n",
      "/opt/notebooks/Sensors/2020_sensor_data/2020-02-27.csv\n",
      "/opt/notebooks/Sensors/2020_sensor_data/2020-02-28.csv\n",
      "/opt/notebooks/Sensors/2020_sensor_data/2020-02-29.csv\n",
      "/opt/notebooks/Sensors/2020_sensor_data/2020-03-01.csv\n",
      "/opt/notebooks/Sensors/2020_sensor_data/2020-03-02.csv\n",
      "/opt/notebooks/Sensors/2020_sensor_data/2020-03-03.csv\n",
      "/opt/notebooks/Sensors/2020_sensor_data/2020-03-04.csv\n",
      "/opt/notebooks/Sensors/2020_sensor_data/2020-03-05.csv\n",
      "/opt/notebooks/Sensors/2020_sensor_data/2020-03-06.csv\n",
      "/opt/notebooks/Sensors/2020_sensor_data/2020-03-07.csv\n",
      "/opt/notebooks/Sensors/2020_sensor_data/2020-03-08.csv\n",
      "/opt/notebooks/Sensors/2020_sensor_data/2020-03-09.csv\n",
      "/opt/notebooks/Sensors/2020_sensor_data/2020-03-10.csv\n",
      "/opt/notebooks/Sensors/2020_sensor_data/2020-03-11.csv\n",
      "/opt/notebooks/Sensors/2020_sensor_data/2020-03-12.csv\n",
      "/opt/notebooks/Sensors/2020_sensor_data/2020-03-13.csv\n",
      "/opt/notebooks/Sensors/2020_sensor_data/2020-03-14.csv\n",
      "/opt/notebooks/Sensors/2020_sensor_data/2020-03-15.csv\n",
      "/opt/notebooks/Sensors/2020_sensor_data/2020-03-16.csv\n",
      "/opt/notebooks/Sensors/2020_sensor_data/2020-03-17.csv\n",
      "/opt/notebooks/Sensors/2020_sensor_data/2020-03-18.csv\n",
      "/opt/notebooks/Sensors/2020_sensor_data/2020-03-19.csv\n",
      "/opt/notebooks/Sensors/2020_sensor_data/2020-03-20.csv\n",
      "/opt/notebooks/Sensors/2020_sensor_data/2020-03-21.csv\n",
      "/opt/notebooks/Sensors/2020_sensor_data/2020-03-22.csv\n",
      "/opt/notebooks/Sensors/2020_sensor_data/2020-03-23.csv\n",
      "/opt/notebooks/Sensors/2020_sensor_data/2020-03-24.csv\n",
      "/opt/notebooks/Sensors/2020_sensor_data/2020-03-25.csv\n",
      "/opt/notebooks/Sensors/2020_sensor_data/2020-03-26.csv\n",
      "/opt/notebooks/Sensors/2020_sensor_data/2020-03-27.csv\n",
      "/opt/notebooks/Sensors/2020_sensor_data/2020-03-28.csv\n",
      "/opt/notebooks/Sensors/2020_sensor_data/2020-03-29.csv\n",
      "/opt/notebooks/Sensors/2020_sensor_data/2020-03-30.csv\n",
      "/opt/notebooks/Sensors/2020_sensor_data/2020-03-31.csv\n",
      "/opt/notebooks/Sensors/2020_sensor_data/2020-04-01.csv\n",
      "/opt/notebooks/Sensors/2020_sensor_data/2020-04-02.csv\n",
      "/opt/notebooks/Sensors/2020_sensor_data/2020-04-03.csv\n",
      "/opt/notebooks/Sensors/2020_sensor_data/2020-04-04.csv\n",
      "/opt/notebooks/Sensors/2020_sensor_data/2020-04-05.csv\n",
      "/opt/notebooks/Sensors/2020_sensor_data/2020-04-06.csv\n",
      "/opt/notebooks/Sensors/2020_sensor_data/2020-04-07.csv\n",
      "/opt/notebooks/Sensors/2020_sensor_data/2020-04-08.csv\n",
      "/opt/notebooks/Sensors/2020_sensor_data/2020-04-09.csv\n",
      "/opt/notebooks/Sensors/2020_sensor_data/2020-04-10.csv\n",
      "/opt/notebooks/Sensors/2020_sensor_data/2020-04-11.csv\n",
      "/opt/notebooks/Sensors/2020_sensor_data/2020-04-12.csv\n",
      "/opt/notebooks/Sensors/2020_sensor_data/2020-04-13.csv\n",
      "/opt/notebooks/Sensors/2020_sensor_data/2020-04-14.csv\n",
      "/opt/notebooks/Sensors/2020_sensor_data/2020-04-15.csv\n",
      "/opt/notebooks/Sensors/2020_sensor_data/2020-04-16.csv\n",
      "/opt/notebooks/Sensors/2020_sensor_data/2020-04-17.csv\n",
      "/opt/notebooks/Sensors/2020_sensor_data/2020-04-18.csv\n",
      "/opt/notebooks/Sensors/2020_sensor_data/2020-04-19.csv\n",
      "/opt/notebooks/Sensors/2020_sensor_data/2020-04-20.csv\n",
      "/opt/notebooks/Sensors/2020_sensor_data/2020-04-21.csv\n",
      "/opt/notebooks/Sensors/2020_sensor_data/2020-04-22.csv\n",
      "/opt/notebooks/Sensors/2020_sensor_data/2020-04-23.csv\n",
      "/opt/notebooks/Sensors/2020_sensor_data/2020-04-24.csv\n",
      "/opt/notebooks/Sensors/2020_sensor_data/2020-04-25.csv\n",
      "/opt/notebooks/Sensors/2020_sensor_data/2020-04-26.csv\n",
      "/opt/notebooks/Sensors/2020_sensor_data/2020-04-27.csv\n",
      "/opt/notebooks/Sensors/2020_sensor_data/2020-04-28.csv\n",
      "/opt/notebooks/Sensors/2020_sensor_data/2020-04-29.csv\n",
      "/opt/notebooks/Sensors/2020_sensor_data/2020-04-30.csv\n",
      "/opt/notebooks/Sensors/2020_sensor_data/2020-05-01.csv\n",
      "/opt/notebooks/Sensors/2020_sensor_data/2020-05-02.csv\n",
      "/opt/notebooks/Sensors/2020_sensor_data/2020-05-03.csv\n",
      "/opt/notebooks/Sensors/2020_sensor_data/2020-05-04.csv\n",
      "/opt/notebooks/Sensors/2020_sensor_data/2020-05-05.csv\n",
      "/opt/notebooks/Sensors/2020_sensor_data/2020-05-06.csv\n",
      "/opt/notebooks/Sensors/2020_sensor_data/2020-05-07.csv\n",
      "/opt/notebooks/Sensors/2020_sensor_data/2020-05-08.csv\n",
      "/opt/notebooks/Sensors/2020_sensor_data/2020-05-09.csv\n",
      "/opt/notebooks/Sensors/2020_sensor_data/2020-05-10.csv\n",
      "/opt/notebooks/Sensors/2020_sensor_data/2020-05-11.csv\n",
      "/opt/notebooks/Sensors/2020_sensor_data/2020-05-12.csv\n",
      "/opt/notebooks/Sensors/2020_sensor_data/2020-05-13.csv\n",
      "/opt/notebooks/Sensors/2020_sensor_data/2020-05-14.csv\n",
      "/opt/notebooks/Sensors/2020_sensor_data/2020-05-15.csv\n",
      "/opt/notebooks/Sensors/2020_sensor_data/2020-05-16.csv\n",
      "/opt/notebooks/Sensors/2020_sensor_data/2020-05-17.csv\n",
      "/opt/notebooks/Sensors/2020_sensor_data/2020-05-18.csv\n",
      "/opt/notebooks/Sensors/2020_sensor_data/2020-05-19.csv\n",
      "/opt/notebooks/Sensors/2020_sensor_data/2020-05-20.csv\n",
      "/opt/notebooks/Sensors/2020_sensor_data/2020-05-21.csv\n",
      "/opt/notebooks/Sensors/2020_sensor_data/2020-05-22.csv\n",
      "/opt/notebooks/Sensors/2020_sensor_data/2020-05-23.csv\n",
      "/opt/notebooks/Sensors/2020_sensor_data/2020-05-24.csv\n",
      "/opt/notebooks/Sensors/2020_sensor_data/2020-05-25.csv\n",
      "/opt/notebooks/Sensors/2020_sensor_data/2020-05-26.csv\n",
      "/opt/notebooks/Sensors/2020_sensor_data/2020-05-27.csv\n",
      "/opt/notebooks/Sensors/2020_sensor_data/2020-05-28.csv\n"
     ]
    },
    {
     "name": "stdout",
     "output_type": "stream",
     "text": [
      "/opt/notebooks/Sensors/2020_sensor_data/2020-05-29.csv\n",
      "/opt/notebooks/Sensors/2020_sensor_data/2020-05-30.csv\n",
      "/opt/notebooks/Sensors/2020_sensor_data/2020-05-31.csv\n",
      "/opt/notebooks/Sensors/2020_sensor_data/2020-06-01.csv\n",
      "/opt/notebooks/Sensors/2020_sensor_data/2020-06-02.csv\n",
      "/opt/notebooks/Sensors/2020_sensor_data/2020-06-03.csv\n",
      "/opt/notebooks/Sensors/2020_sensor_data/2020-06-04.csv\n",
      "/opt/notebooks/Sensors/2020_sensor_data/2020-06-05.csv\n",
      "/opt/notebooks/Sensors/2020_sensor_data/2020-06-06.csv\n",
      "/opt/notebooks/Sensors/2020_sensor_data/2020-06-07.csv\n",
      "/opt/notebooks/Sensors/2020_sensor_data/2020-06-08.csv\n",
      "/opt/notebooks/Sensors/2020_sensor_data/2020-06-09.csv\n",
      "/opt/notebooks/Sensors/2020_sensor_data/2020-06-10.csv\n",
      "/opt/notebooks/Sensors/2020_sensor_data/2020-06-11.csv\n",
      "/opt/notebooks/Sensors/2020_sensor_data/2020-06-12.csv\n",
      "/opt/notebooks/Sensors/2020_sensor_data/2020-06-13.csv\n",
      "/opt/notebooks/Sensors/2020_sensor_data/2020-06-14.csv\n",
      "/opt/notebooks/Sensors/2020_sensor_data/2020-06-15.csv\n",
      "/opt/notebooks/Sensors/2020_sensor_data/2020-06-16.csv\n",
      "/opt/notebooks/Sensors/2020_sensor_data/2020-06-17.csv\n",
      "/opt/notebooks/Sensors/2020_sensor_data/2020-06-18.csv\n",
      "/opt/notebooks/Sensors/2020_sensor_data/2020-06-19.csv\n",
      "/opt/notebooks/Sensors/2020_sensor_data/2020-06-20.csv\n",
      "/opt/notebooks/Sensors/2020_sensor_data/2020-06-21.csv\n",
      "/opt/notebooks/Sensors/2020_sensor_data/2020-06-22.csv\n",
      "/opt/notebooks/Sensors/2020_sensor_data/2020-06-23.csv\n",
      "Done\n"
     ]
    },
    {
     "data": {
      "text/plain": [
       "(5536, 95)"
      ]
     },
     "metadata": {},
     "output_type": "display_data"
    },
    {
     "data": {
      "text/plain": [
       "(2625, 95)"
      ]
     },
     "metadata": {},
     "output_type": "display_data"
    }
   ],
   "source": [
    "#small number of failures\n",
    "DT01ACA300_train,DT01ACA300_test = extractionFunction(onlyfiles, 'DT01ACA300', train_serials, test_serials)\n",
    "display(DT01ACA300_train.shape, DT01ACA300_test.shape)"
   ]
  },
  {
   "cell_type": "code",
   "execution_count": 17,
   "id": "f879c198",
   "metadata": {},
   "outputs": [
    {
     "data": {
      "text/html": [
       "<div>\n",
       "<style scoped>\n",
       "    .dataframe tbody tr th:only-of-type {\n",
       "        vertical-align: middle;\n",
       "    }\n",
       "\n",
       "    .dataframe tbody tr th {\n",
       "        vertical-align: top;\n",
       "    }\n",
       "\n",
       "    .dataframe thead th {\n",
       "        text-align: right;\n",
       "    }\n",
       "</style>\n",
       "<table border=\"1\" class=\"dataframe\">\n",
       "  <thead>\n",
       "    <tr style=\"text-align: right;\">\n",
       "      <th></th>\n",
       "      <th>date</th>\n",
       "      <th>serial_number</th>\n",
       "      <th>type</th>\n",
       "      <th>capacity</th>\n",
       "      <th>failure</th>\n",
       "      <th>stat_1_normalized</th>\n",
       "      <th>stat_1_raw</th>\n",
       "      <th>stat_2_normalized</th>\n",
       "      <th>stat_2_raw</th>\n",
       "      <th>stat_3_normalized</th>\n",
       "      <th>...</th>\n",
       "      <th>stat_250_normalized</th>\n",
       "      <th>stat_250_raw</th>\n",
       "      <th>stat_251_normalized</th>\n",
       "      <th>stat_251_raw</th>\n",
       "      <th>stat_252_normalized</th>\n",
       "      <th>stat_252_raw</th>\n",
       "      <th>stat_254_normalized</th>\n",
       "      <th>stat_254_raw</th>\n",
       "      <th>stat_255_normalized</th>\n",
       "      <th>stat_255_raw</th>\n",
       "    </tr>\n",
       "  </thead>\n",
       "  <tbody>\n",
       "    <tr>\n",
       "      <th>2147</th>\n",
       "      <td>2020-03-08</td>\n",
       "      <td>Z262JRXAS</td>\n",
       "      <td>DT01ACA300</td>\n",
       "      <td>3000592982016</td>\n",
       "      <td>1</td>\n",
       "      <td>86.0</td>\n",
       "      <td>4653147.0</td>\n",
       "      <td>138.0</td>\n",
       "      <td>74.0</td>\n",
       "      <td>133.0</td>\n",
       "      <td>...</td>\n",
       "      <td>NaN</td>\n",
       "      <td>NaN</td>\n",
       "      <td>NaN</td>\n",
       "      <td>NaN</td>\n",
       "      <td>NaN</td>\n",
       "      <td>NaN</td>\n",
       "      <td>NaN</td>\n",
       "      <td>NaN</td>\n",
       "      <td>NaN</td>\n",
       "      <td>NaN</td>\n",
       "    </tr>\n",
       "    <tr>\n",
       "      <th>3543</th>\n",
       "      <td>2020-04-20</td>\n",
       "      <td>13H883WAS</td>\n",
       "      <td>DT01ACA300</td>\n",
       "      <td>3000592982016</td>\n",
       "      <td>1</td>\n",
       "      <td>99.0</td>\n",
       "      <td>65538.0</td>\n",
       "      <td>100.0</td>\n",
       "      <td>0.0</td>\n",
       "      <td>132.0</td>\n",
       "      <td>...</td>\n",
       "      <td>NaN</td>\n",
       "      <td>NaN</td>\n",
       "      <td>NaN</td>\n",
       "      <td>NaN</td>\n",
       "      <td>NaN</td>\n",
       "      <td>NaN</td>\n",
       "      <td>NaN</td>\n",
       "      <td>NaN</td>\n",
       "      <td>NaN</td>\n",
       "      <td>NaN</td>\n",
       "    </tr>\n",
       "  </tbody>\n",
       "</table>\n",
       "<p>2 rows × 95 columns</p>\n",
       "</div>"
      ],
      "text/plain": [
       "            date serial_number        type       capacity  failure  \\\n",
       "2147  2020-03-08     Z262JRXAS  DT01ACA300  3000592982016        1   \n",
       "3543  2020-04-20     13H883WAS  DT01ACA300  3000592982016        1   \n",
       "\n",
       "      stat_1_normalized  stat_1_raw  stat_2_normalized  stat_2_raw  \\\n",
       "2147               86.0   4653147.0              138.0        74.0   \n",
       "3543               99.0     65538.0              100.0         0.0   \n",
       "\n",
       "      stat_3_normalized  ...  stat_250_normalized  stat_250_raw  \\\n",
       "2147              133.0  ...                  NaN           NaN   \n",
       "3543              132.0  ...                  NaN           NaN   \n",
       "\n",
       "      stat_251_normalized  stat_251_raw  stat_252_normalized  stat_252_raw  \\\n",
       "2147                  NaN           NaN                  NaN           NaN   \n",
       "3543                  NaN           NaN                  NaN           NaN   \n",
       "\n",
       "      stat_254_normalized  stat_254_raw  stat_255_normalized  stat_255_raw  \n",
       "2147                  NaN           NaN                  NaN           NaN  \n",
       "3543                  NaN           NaN                  NaN           NaN  \n",
       "\n",
       "[2 rows x 95 columns]"
      ]
     },
     "execution_count": 17,
     "metadata": {},
     "output_type": "execute_result"
    },
    {
     "data": {
      "image/png": "[encoded data removed]",
      "text/plain": [
       "<Figure size 432x288 with 1 Axes>"
      ]
     },
     "metadata": {
      "needs_background": "light"
     },
     "output_type": "display_data"
    }
   ],
   "source": [
    "DT01ACA300_train['failure'].plot()\n",
    "DT01ACA300_train[DT01ACA300_train['failure'] == 1]"
   ]
  },
  {
   "cell_type": "code",
   "execution_count": 22,
   "id": "db33816a",
   "metadata": {},
   "outputs": [
    {
     "data": {
      "text/html": [
       "<div>\n",
       "<style scoped>\n",
       "    .dataframe tbody tr th:only-of-type {\n",
       "        vertical-align: middle;\n",
       "    }\n",
       "\n",
       "    .dataframe tbody tr th {\n",
       "        vertical-align: top;\n",
       "    }\n",
       "\n",
       "    .dataframe thead th {\n",
       "        text-align: right;\n",
       "    }\n",
       "</style>\n",
       "<table border=\"1\" class=\"dataframe\">\n",
       "  <thead>\n",
       "    <tr style=\"text-align: right;\">\n",
       "      <th></th>\n",
       "      <th>date</th>\n",
       "      <th>serial_number</th>\n",
       "      <th>type</th>\n",
       "      <th>capacity</th>\n",
       "      <th>failure</th>\n",
       "      <th>stat_1_normalized</th>\n",
       "      <th>stat_1_raw</th>\n",
       "      <th>stat_2_normalized</th>\n",
       "      <th>stat_2_raw</th>\n",
       "      <th>stat_3_normalized</th>\n",
       "      <th>...</th>\n",
       "      <th>stat_250_normalized</th>\n",
       "      <th>stat_250_raw</th>\n",
       "      <th>stat_251_normalized</th>\n",
       "      <th>stat_251_raw</th>\n",
       "      <th>stat_252_normalized</th>\n",
       "      <th>stat_252_raw</th>\n",
       "      <th>stat_254_normalized</th>\n",
       "      <th>stat_254_raw</th>\n",
       "      <th>stat_255_normalized</th>\n",
       "      <th>stat_255_raw</th>\n",
       "    </tr>\n",
       "  </thead>\n",
       "  <tbody>\n",
       "  </tbody>\n",
       "</table>\n",
       "<p>0 rows × 95 columns</p>\n",
       "</div>"
      ],
      "text/plain": [
       "Empty DataFrame\n",
       "Columns: [date, serial_number, type, capacity, failure, stat_1_normalized, stat_1_raw, stat_2_normalized, stat_2_raw, stat_3_normalized, stat_3_raw, stat_4_normalized, stat_4_raw, stat_5_normalized, stat_5_raw, stat_7_normalized, stat_7_raw, stat_8_normalized, stat_8_raw, stat_9_normalized, stat_9_raw, stat_10_normalized, stat_10_raw, stat_11_normalized, stat_11_raw, stat_12_normalized, stat_12_raw, stat_13_normalized, stat_13_raw, stat_15_normalized, stat_15_raw, stat_22_normalized, stat_22_raw, stat_183_normalized, stat_183_raw, stat_184_normalized, stat_184_raw, stat_187_normalized, stat_187_raw, stat_188_normalized, stat_188_raw, stat_189_normalized, stat_189_raw, stat_190_normalized, stat_190_raw, stat_191_normalized, stat_191_raw, stat_192_normalized, stat_192_raw, stat_193_normalized, stat_193_raw, stat_194_normalized, stat_194_raw, stat_195_normalized, stat_195_raw, stat_196_normalized, stat_196_raw, stat_197_normalized, stat_197_raw, stat_198_normalized, stat_198_raw, stat_199_normalized, stat_199_raw, stat_200_normalized, stat_200_raw, stat_201_normalized, stat_201_raw, stat_220_normalized, stat_220_raw, stat_222_normalized, stat_222_raw, stat_223_normalized, stat_223_raw, stat_224_normalized, stat_224_raw, stat_225_normalized, stat_225_raw, stat_226_normalized, stat_226_raw, stat_240_normalized, stat_240_raw, stat_241_normalized, stat_241_raw, stat_242_normalized, stat_242_raw, stat_250_normalized, stat_250_raw, stat_251_normalized, stat_251_raw, stat_252_normalized, stat_252_raw, stat_254_normalized, stat_254_raw, stat_255_normalized, stat_255_raw]\n",
       "Index: []\n",
       "\n",
       "[0 rows x 95 columns]"
      ]
     },
     "execution_count": 22,
     "metadata": {},
     "output_type": "execute_result"
    },
    {
     "data": {
      "image/png": "[encoded data removed]",
      "text/plain": [
       "<Figure size 432x288 with 1 Axes>"
      ]
     },
     "metadata": {
      "needs_background": "light"
     },
     "output_type": "display_data"
    }
   ],
   "source": [
    "DT01ACA300_test['failure'].plot()\n",
    "DT01ACA300_test[DT01ACA300_test['failure'] == 1]"
   ]
  },
  {
   "cell_type": "code",
   "execution_count": 18,
   "id": "4d5d70db",
   "metadata": {},
   "outputs": [
    {
     "name": "stdout",
     "output_type": "stream",
     "text": [
      "/opt/notebooks/Sensors/2020_sensor_data/2020-01-01.csv\n",
      "/opt/notebooks/Sensors/2020_sensor_data/2020-01-02.csv\n",
      "/opt/notebooks/Sensors/2020_sensor_data/2020-01-03.csv\n",
      "/opt/notebooks/Sensors/2020_sensor_data/2020-01-04.csv\n",
      "/opt/notebooks/Sensors/2020_sensor_data/2020-01-05.csv\n",
      "/opt/notebooks/Sensors/2020_sensor_data/2020-01-06.csv\n",
      "/opt/notebooks/Sensors/2020_sensor_data/2020-01-07.csv\n",
      "/opt/notebooks/Sensors/2020_sensor_data/2020-01-08.csv\n",
      "/opt/notebooks/Sensors/2020_sensor_data/2020-01-09.csv\n",
      "/opt/notebooks/Sensors/2020_sensor_data/2020-01-10.csv\n",
      "/opt/notebooks/Sensors/2020_sensor_data/2020-01-11.csv\n",
      "/opt/notebooks/Sensors/2020_sensor_data/2020-01-12.csv\n",
      "/opt/notebooks/Sensors/2020_sensor_data/2020-01-13.csv\n",
      "/opt/notebooks/Sensors/2020_sensor_data/2020-01-14.csv\n",
      "/opt/notebooks/Sensors/2020_sensor_data/2020-01-15.csv\n",
      "/opt/notebooks/Sensors/2020_sensor_data/2020-01-16.csv\n",
      "/opt/notebooks/Sensors/2020_sensor_data/2020-01-17.csv\n",
      "/opt/notebooks/Sensors/2020_sensor_data/2020-01-18.csv\n",
      "/opt/notebooks/Sensors/2020_sensor_data/2020-01-19.csv\n",
      "/opt/notebooks/Sensors/2020_sensor_data/2020-01-20.csv\n",
      "/opt/notebooks/Sensors/2020_sensor_data/2020-01-21.csv\n",
      "/opt/notebooks/Sensors/2020_sensor_data/2020-01-22.csv\n",
      "/opt/notebooks/Sensors/2020_sensor_data/2020-01-23.csv\n",
      "/opt/notebooks/Sensors/2020_sensor_data/2020-01-24.csv\n",
      "/opt/notebooks/Sensors/2020_sensor_data/2020-01-25.csv\n",
      "/opt/notebooks/Sensors/2020_sensor_data/2020-01-26.csv\n",
      "/opt/notebooks/Sensors/2020_sensor_data/2020-01-27.csv\n",
      "/opt/notebooks/Sensors/2020_sensor_data/2020-01-28.csv\n",
      "/opt/notebooks/Sensors/2020_sensor_data/2020-01-29.csv\n",
      "/opt/notebooks/Sensors/2020_sensor_data/2020-01-30.csv\n",
      "/opt/notebooks/Sensors/2020_sensor_data/2020-01-31.csv\n",
      "/opt/notebooks/Sensors/2020_sensor_data/2020-02-01.csv\n",
      "/opt/notebooks/Sensors/2020_sensor_data/2020-02-02.csv\n",
      "/opt/notebooks/Sensors/2020_sensor_data/2020-02-03.csv\n",
      "/opt/notebooks/Sensors/2020_sensor_data/2020-02-04.csv\n",
      "/opt/notebooks/Sensors/2020_sensor_data/2020-02-05.csv\n",
      "/opt/notebooks/Sensors/2020_sensor_data/2020-02-06.csv\n",
      "/opt/notebooks/Sensors/2020_sensor_data/2020-02-07.csv\n",
      "/opt/notebooks/Sensors/2020_sensor_data/2020-02-08.csv\n",
      "/opt/notebooks/Sensors/2020_sensor_data/2020-02-09.csv\n",
      "/opt/notebooks/Sensors/2020_sensor_data/2020-02-10.csv\n",
      "/opt/notebooks/Sensors/2020_sensor_data/2020-02-11.csv\n",
      "/opt/notebooks/Sensors/2020_sensor_data/2020-02-12.csv\n",
      "/opt/notebooks/Sensors/2020_sensor_data/2020-02-13.csv\n",
      "/opt/notebooks/Sensors/2020_sensor_data/2020-02-14.csv\n",
      "/opt/notebooks/Sensors/2020_sensor_data/2020-02-15.csv\n",
      "/opt/notebooks/Sensors/2020_sensor_data/2020-02-16.csv\n",
      "/opt/notebooks/Sensors/2020_sensor_data/2020-02-17.csv\n",
      "/opt/notebooks/Sensors/2020_sensor_data/2020-02-18.csv\n",
      "/opt/notebooks/Sensors/2020_sensor_data/2020-02-19.csv\n",
      "/opt/notebooks/Sensors/2020_sensor_data/2020-02-20.csv\n",
      "/opt/notebooks/Sensors/2020_sensor_data/2020-02-21.csv\n",
      "/opt/notebooks/Sensors/2020_sensor_data/2020-02-22.csv\n",
      "/opt/notebooks/Sensors/2020_sensor_data/2020-02-23.csv\n",
      "/opt/notebooks/Sensors/2020_sensor_data/2020-02-24.csv\n",
      "/opt/notebooks/Sensors/2020_sensor_data/2020-02-25.csv\n",
      "/opt/notebooks/Sensors/2020_sensor_data/2020-02-26.csv\n",
      "/opt/notebooks/Sensors/2020_sensor_data/2020-02-27.csv\n",
      "/opt/notebooks/Sensors/2020_sensor_data/2020-02-28.csv\n",
      "/opt/notebooks/Sensors/2020_sensor_data/2020-02-29.csv\n",
      "/opt/notebooks/Sensors/2020_sensor_data/2020-03-01.csv\n",
      "/opt/notebooks/Sensors/2020_sensor_data/2020-03-02.csv\n",
      "/opt/notebooks/Sensors/2020_sensor_data/2020-03-03.csv\n",
      "/opt/notebooks/Sensors/2020_sensor_data/2020-03-04.csv\n",
      "/opt/notebooks/Sensors/2020_sensor_data/2020-03-05.csv\n",
      "/opt/notebooks/Sensors/2020_sensor_data/2020-03-06.csv\n",
      "/opt/notebooks/Sensors/2020_sensor_data/2020-03-07.csv\n",
      "/opt/notebooks/Sensors/2020_sensor_data/2020-03-08.csv\n",
      "/opt/notebooks/Sensors/2020_sensor_data/2020-03-09.csv\n",
      "/opt/notebooks/Sensors/2020_sensor_data/2020-03-10.csv\n",
      "/opt/notebooks/Sensors/2020_sensor_data/2020-03-11.csv\n",
      "/opt/notebooks/Sensors/2020_sensor_data/2020-03-12.csv\n",
      "/opt/notebooks/Sensors/2020_sensor_data/2020-03-13.csv\n",
      "/opt/notebooks/Sensors/2020_sensor_data/2020-03-14.csv\n",
      "/opt/notebooks/Sensors/2020_sensor_data/2020-03-15.csv\n",
      "/opt/notebooks/Sensors/2020_sensor_data/2020-03-16.csv\n",
      "/opt/notebooks/Sensors/2020_sensor_data/2020-03-17.csv\n",
      "/opt/notebooks/Sensors/2020_sensor_data/2020-03-18.csv\n",
      "/opt/notebooks/Sensors/2020_sensor_data/2020-03-19.csv\n",
      "/opt/notebooks/Sensors/2020_sensor_data/2020-03-20.csv\n",
      "/opt/notebooks/Sensors/2020_sensor_data/2020-03-21.csv\n",
      "/opt/notebooks/Sensors/2020_sensor_data/2020-03-22.csv\n",
      "/opt/notebooks/Sensors/2020_sensor_data/2020-03-23.csv\n",
      "/opt/notebooks/Sensors/2020_sensor_data/2020-03-24.csv\n",
      "/opt/notebooks/Sensors/2020_sensor_data/2020-03-25.csv\n",
      "/opt/notebooks/Sensors/2020_sensor_data/2020-03-26.csv\n",
      "/opt/notebooks/Sensors/2020_sensor_data/2020-03-27.csv\n",
      "/opt/notebooks/Sensors/2020_sensor_data/2020-03-28.csv\n",
      "/opt/notebooks/Sensors/2020_sensor_data/2020-03-29.csv\n",
      "/opt/notebooks/Sensors/2020_sensor_data/2020-03-30.csv\n",
      "/opt/notebooks/Sensors/2020_sensor_data/2020-03-31.csv\n",
      "/opt/notebooks/Sensors/2020_sensor_data/2020-04-01.csv\n",
      "/opt/notebooks/Sensors/2020_sensor_data/2020-04-02.csv\n",
      "/opt/notebooks/Sensors/2020_sensor_data/2020-04-03.csv\n",
      "/opt/notebooks/Sensors/2020_sensor_data/2020-04-04.csv\n",
      "/opt/notebooks/Sensors/2020_sensor_data/2020-04-05.csv\n",
      "/opt/notebooks/Sensors/2020_sensor_data/2020-04-06.csv\n",
      "/opt/notebooks/Sensors/2020_sensor_data/2020-04-07.csv\n",
      "/opt/notebooks/Sensors/2020_sensor_data/2020-04-08.csv\n",
      "/opt/notebooks/Sensors/2020_sensor_data/2020-04-09.csv\n",
      "/opt/notebooks/Sensors/2020_sensor_data/2020-04-10.csv\n",
      "/opt/notebooks/Sensors/2020_sensor_data/2020-04-11.csv\n",
      "/opt/notebooks/Sensors/2020_sensor_data/2020-04-12.csv\n",
      "/opt/notebooks/Sensors/2020_sensor_data/2020-04-13.csv\n",
      "/opt/notebooks/Sensors/2020_sensor_data/2020-04-14.csv\n",
      "/opt/notebooks/Sensors/2020_sensor_data/2020-04-15.csv\n",
      "/opt/notebooks/Sensors/2020_sensor_data/2020-04-16.csv\n",
      "/opt/notebooks/Sensors/2020_sensor_data/2020-04-17.csv\n",
      "/opt/notebooks/Sensors/2020_sensor_data/2020-04-18.csv\n",
      "/opt/notebooks/Sensors/2020_sensor_data/2020-04-19.csv\n",
      "/opt/notebooks/Sensors/2020_sensor_data/2020-04-20.csv\n",
      "/opt/notebooks/Sensors/2020_sensor_data/2020-04-21.csv\n",
      "/opt/notebooks/Sensors/2020_sensor_data/2020-04-22.csv\n",
      "/opt/notebooks/Sensors/2020_sensor_data/2020-04-23.csv\n",
      "/opt/notebooks/Sensors/2020_sensor_data/2020-04-24.csv\n",
      "/opt/notebooks/Sensors/2020_sensor_data/2020-04-25.csv\n",
      "/opt/notebooks/Sensors/2020_sensor_data/2020-04-26.csv\n",
      "/opt/notebooks/Sensors/2020_sensor_data/2020-04-27.csv\n",
      "/opt/notebooks/Sensors/2020_sensor_data/2020-04-28.csv\n",
      "/opt/notebooks/Sensors/2020_sensor_data/2020-04-29.csv\n",
      "/opt/notebooks/Sensors/2020_sensor_data/2020-04-30.csv\n",
      "/opt/notebooks/Sensors/2020_sensor_data/2020-05-01.csv\n",
      "/opt/notebooks/Sensors/2020_sensor_data/2020-05-02.csv\n",
      "/opt/notebooks/Sensors/2020_sensor_data/2020-05-03.csv\n",
      "/opt/notebooks/Sensors/2020_sensor_data/2020-05-04.csv\n",
      "/opt/notebooks/Sensors/2020_sensor_data/2020-05-05.csv\n",
      "/opt/notebooks/Sensors/2020_sensor_data/2020-05-06.csv\n",
      "/opt/notebooks/Sensors/2020_sensor_data/2020-05-07.csv\n",
      "/opt/notebooks/Sensors/2020_sensor_data/2020-05-08.csv\n",
      "/opt/notebooks/Sensors/2020_sensor_data/2020-05-09.csv\n",
      "/opt/notebooks/Sensors/2020_sensor_data/2020-05-10.csv\n",
      "/opt/notebooks/Sensors/2020_sensor_data/2020-05-11.csv\n",
      "/opt/notebooks/Sensors/2020_sensor_data/2020-05-12.csv\n",
      "/opt/notebooks/Sensors/2020_sensor_data/2020-05-13.csv\n",
      "/opt/notebooks/Sensors/2020_sensor_data/2020-05-14.csv\n",
      "/opt/notebooks/Sensors/2020_sensor_data/2020-05-15.csv\n",
      "/opt/notebooks/Sensors/2020_sensor_data/2020-05-16.csv\n",
      "/opt/notebooks/Sensors/2020_sensor_data/2020-05-17.csv\n",
      "/opt/notebooks/Sensors/2020_sensor_data/2020-05-18.csv\n",
      "/opt/notebooks/Sensors/2020_sensor_data/2020-05-19.csv\n",
      "/opt/notebooks/Sensors/2020_sensor_data/2020-05-20.csv\n",
      "/opt/notebooks/Sensors/2020_sensor_data/2020-05-21.csv\n",
      "/opt/notebooks/Sensors/2020_sensor_data/2020-05-22.csv\n",
      "/opt/notebooks/Sensors/2020_sensor_data/2020-05-23.csv\n",
      "/opt/notebooks/Sensors/2020_sensor_data/2020-05-24.csv\n",
      "/opt/notebooks/Sensors/2020_sensor_data/2020-05-25.csv\n",
      "/opt/notebooks/Sensors/2020_sensor_data/2020-05-26.csv\n",
      "/opt/notebooks/Sensors/2020_sensor_data/2020-05-27.csv\n",
      "/opt/notebooks/Sensors/2020_sensor_data/2020-05-28.csv\n"
     ]
    },
    {
     "name": "stdout",
     "output_type": "stream",
     "text": [
      "/opt/notebooks/Sensors/2020_sensor_data/2020-05-29.csv\n",
      "/opt/notebooks/Sensors/2020_sensor_data/2020-05-30.csv\n",
      "/opt/notebooks/Sensors/2020_sensor_data/2020-05-31.csv\n",
      "/opt/notebooks/Sensors/2020_sensor_data/2020-06-01.csv\n",
      "/opt/notebooks/Sensors/2020_sensor_data/2020-06-02.csv\n",
      "/opt/notebooks/Sensors/2020_sensor_data/2020-06-03.csv\n",
      "/opt/notebooks/Sensors/2020_sensor_data/2020-06-04.csv\n",
      "/opt/notebooks/Sensors/2020_sensor_data/2020-06-05.csv\n",
      "/opt/notebooks/Sensors/2020_sensor_data/2020-06-06.csv\n",
      "/opt/notebooks/Sensors/2020_sensor_data/2020-06-07.csv\n",
      "/opt/notebooks/Sensors/2020_sensor_data/2020-06-08.csv\n",
      "/opt/notebooks/Sensors/2020_sensor_data/2020-06-09.csv\n",
      "/opt/notebooks/Sensors/2020_sensor_data/2020-06-10.csv\n",
      "/opt/notebooks/Sensors/2020_sensor_data/2020-06-11.csv\n",
      "/opt/notebooks/Sensors/2020_sensor_data/2020-06-12.csv\n",
      "/opt/notebooks/Sensors/2020_sensor_data/2020-06-13.csv\n",
      "/opt/notebooks/Sensors/2020_sensor_data/2020-06-14.csv\n",
      "/opt/notebooks/Sensors/2020_sensor_data/2020-06-15.csv\n",
      "/opt/notebooks/Sensors/2020_sensor_data/2020-06-16.csv\n",
      "/opt/notebooks/Sensors/2020_sensor_data/2020-06-17.csv\n",
      "/opt/notebooks/Sensors/2020_sensor_data/2020-06-18.csv\n",
      "/opt/notebooks/Sensors/2020_sensor_data/2020-06-19.csv\n",
      "/opt/notebooks/Sensors/2020_sensor_data/2020-06-20.csv\n",
      "/opt/notebooks/Sensors/2020_sensor_data/2020-06-21.csv\n",
      "/opt/notebooks/Sensors/2020_sensor_data/2020-06-22.csv\n",
      "/opt/notebooks/Sensors/2020_sensor_data/2020-06-23.csv\n",
      "Done\n"
     ]
    }
   ],
   "source": [
    "#enough failures\n",
    "#filtering rows and columns\n",
    "HDS5C4040ALE630_sensor_serials = data.loc[data['type'] == 'HDS5C4040ALE630', 'serial_number'].unique()\n",
    "HDS5C4040ALE630_sensor_serials.shape\n",
    "HDS5C4040ALE630_train_serials,HDS5C4040ALE630_test_serials = train_test_split(HDS5C4040ALE630_sensor_serials, train_size = 0.7, random_state = 42)\n",
    "HDS5C4040ALE630_train,HDS5C4040ALE630_test = extractionFunction(onlyfiles, 'HDS5C4040ALE630', HDS5C4040ALE630_train_serials, HDS5C4040ALE630_test_serials)"
   ]
  },
  {
   "cell_type": "code",
   "execution_count": 19,
   "id": "9cba6a9b",
   "metadata": {},
   "outputs": [],
   "source": [
    "HDS5C4040ALE630_train.to_parquet('/opt/notebooks/Sensors/parquet/HDS5C4040ALE630_train.parquet')\n",
    "HDS5C4040ALE630_test.to_parquet('/opt/notebooks/Sensors/parquet/HDS5C4040ALE630_test.parquet')"
   ]
  },
  {
   "cell_type": "code",
   "execution_count": null,
   "id": "7d106540",
   "metadata": {},
   "outputs": [],
   "source": [
    "HDS5C4040ALE630_train = pd.read_parquet('/opt/notebooks/Sensors/parquet/HDS5C4040ALE630_train.parquet')\n",
    "HDS5C4040ALE630_test = pd.read_parquet('/opt/notebooks/Sensors/parquet/HDS5C4040ALE630_test.parquet')"
   ]
  },
  {
   "cell_type": "code",
   "execution_count": 20,
   "id": "d62f639c",
   "metadata": {},
   "outputs": [
    {
     "data": {
      "text/html": [
       "<div>\n",
       "<style scoped>\n",
       "    .dataframe tbody tr th:only-of-type {\n",
       "        vertical-align: middle;\n",
       "    }\n",
       "\n",
       "    .dataframe tbody tr th {\n",
       "        vertical-align: top;\n",
       "    }\n",
       "\n",
       "    .dataframe thead th {\n",
       "        text-align: right;\n",
       "    }\n",
       "</style>\n",
       "<table border=\"1\" class=\"dataframe\">\n",
       "  <thead>\n",
       "    <tr style=\"text-align: right;\">\n",
       "      <th></th>\n",
       "      <th>date</th>\n",
       "      <th>serial_number</th>\n",
       "      <th>type</th>\n",
       "      <th>capacity</th>\n",
       "      <th>failure</th>\n",
       "      <th>stat_1_normalized</th>\n",
       "      <th>stat_1_raw</th>\n",
       "      <th>stat_2_normalized</th>\n",
       "      <th>stat_2_raw</th>\n",
       "      <th>stat_3_normalized</th>\n",
       "      <th>...</th>\n",
       "      <th>stat_250_normalized</th>\n",
       "      <th>stat_250_raw</th>\n",
       "      <th>stat_251_normalized</th>\n",
       "      <th>stat_251_raw</th>\n",
       "      <th>stat_252_normalized</th>\n",
       "      <th>stat_252_raw</th>\n",
       "      <th>stat_254_normalized</th>\n",
       "      <th>stat_254_raw</th>\n",
       "      <th>stat_255_normalized</th>\n",
       "      <th>stat_255_raw</th>\n",
       "    </tr>\n",
       "  </thead>\n",
       "  <tbody>\n",
       "    <tr>\n",
       "      <th>2402</th>\n",
       "      <td>2020-01-02</td>\n",
       "      <td>PL1301LAG3594H</td>\n",
       "      <td>HDS5C4040ALE630</td>\n",
       "      <td>4000787030016</td>\n",
       "      <td>1</td>\n",
       "      <td>85.0</td>\n",
       "      <td>14548994.0</td>\n",
       "      <td>135.0</td>\n",
       "      <td>98.0</td>\n",
       "      <td>126.0</td>\n",
       "      <td>...</td>\n",
       "      <td>NaN</td>\n",
       "      <td>NaN</td>\n",
       "      <td>NaN</td>\n",
       "      <td>NaN</td>\n",
       "      <td>NaN</td>\n",
       "      <td>NaN</td>\n",
       "      <td>NaN</td>\n",
       "      <td>NaN</td>\n",
       "      <td>NaN</td>\n",
       "      <td>NaN</td>\n",
       "    </tr>\n",
       "    <tr>\n",
       "      <th>38650</th>\n",
       "      <td>2020-01-21</td>\n",
       "      <td>PL1311LAG3D6WH</td>\n",
       "      <td>HDS5C4040ALE630</td>\n",
       "      <td>4000787030016</td>\n",
       "      <td>1</td>\n",
       "      <td>74.0</td>\n",
       "      <td>99615823.0</td>\n",
       "      <td>134.0</td>\n",
       "      <td>100.0</td>\n",
       "      <td>123.0</td>\n",
       "      <td>...</td>\n",
       "      <td>NaN</td>\n",
       "      <td>NaN</td>\n",
       "      <td>NaN</td>\n",
       "      <td>NaN</td>\n",
       "      <td>NaN</td>\n",
       "      <td>NaN</td>\n",
       "      <td>NaN</td>\n",
       "      <td>NaN</td>\n",
       "      <td>NaN</td>\n",
       "      <td>NaN</td>\n",
       "    </tr>\n",
       "    <tr>\n",
       "      <th>50239</th>\n",
       "      <td>2020-01-27</td>\n",
       "      <td>PL2310LAG0MBEC</td>\n",
       "      <td>HDS5C4040ALE630</td>\n",
       "      <td>4000787030016</td>\n",
       "      <td>1</td>\n",
       "      <td>100.0</td>\n",
       "      <td>0.0</td>\n",
       "      <td>134.0</td>\n",
       "      <td>100.0</td>\n",
       "      <td>124.0</td>\n",
       "      <td>...</td>\n",
       "      <td>NaN</td>\n",
       "      <td>NaN</td>\n",
       "      <td>NaN</td>\n",
       "      <td>NaN</td>\n",
       "      <td>NaN</td>\n",
       "      <td>NaN</td>\n",
       "      <td>NaN</td>\n",
       "      <td>NaN</td>\n",
       "      <td>NaN</td>\n",
       "      <td>NaN</td>\n",
       "    </tr>\n",
       "    <tr>\n",
       "      <th>88705</th>\n",
       "      <td>2020-02-16</td>\n",
       "      <td>PL1321LAG34GMH</td>\n",
       "      <td>HDS5C4040ALE630</td>\n",
       "      <td>4000787030016</td>\n",
       "      <td>1</td>\n",
       "      <td>99.0</td>\n",
       "      <td>131072.0</td>\n",
       "      <td>135.0</td>\n",
       "      <td>97.0</td>\n",
       "      <td>126.0</td>\n",
       "      <td>...</td>\n",
       "      <td>NaN</td>\n",
       "      <td>NaN</td>\n",
       "      <td>NaN</td>\n",
       "      <td>NaN</td>\n",
       "      <td>NaN</td>\n",
       "      <td>NaN</td>\n",
       "      <td>NaN</td>\n",
       "      <td>NaN</td>\n",
       "      <td>NaN</td>\n",
       "      <td>NaN</td>\n",
       "    </tr>\n",
       "    <tr>\n",
       "      <th>117767</th>\n",
       "      <td>2020-03-03</td>\n",
       "      <td>PL1321LAG34N8H</td>\n",
       "      <td>HDS5C4040ALE630</td>\n",
       "      <td>4000787030016</td>\n",
       "      <td>1</td>\n",
       "      <td>86.0</td>\n",
       "      <td>2687066.0</td>\n",
       "      <td>133.0</td>\n",
       "      <td>104.0</td>\n",
       "      <td>122.0</td>\n",
       "      <td>...</td>\n",
       "      <td>NaN</td>\n",
       "      <td>NaN</td>\n",
       "      <td>NaN</td>\n",
       "      <td>NaN</td>\n",
       "      <td>NaN</td>\n",
       "      <td>NaN</td>\n",
       "      <td>NaN</td>\n",
       "      <td>NaN</td>\n",
       "      <td>NaN</td>\n",
       "      <td>NaN</td>\n",
       "    </tr>\n",
       "    <tr>\n",
       "      <th>129432</th>\n",
       "      <td>2020-03-09</td>\n",
       "      <td>PL1311LAG2E3LH</td>\n",
       "      <td>HDS5C4040ALE630</td>\n",
       "      <td>4000787030016</td>\n",
       "      <td>1</td>\n",
       "      <td>100.0</td>\n",
       "      <td>65536.0</td>\n",
       "      <td>136.0</td>\n",
       "      <td>95.0</td>\n",
       "      <td>128.0</td>\n",
       "      <td>...</td>\n",
       "      <td>NaN</td>\n",
       "      <td>NaN</td>\n",
       "      <td>NaN</td>\n",
       "      <td>NaN</td>\n",
       "      <td>NaN</td>\n",
       "      <td>NaN</td>\n",
       "      <td>NaN</td>\n",
       "      <td>NaN</td>\n",
       "      <td>NaN</td>\n",
       "      <td>NaN</td>\n",
       "    </tr>\n",
       "    <tr>\n",
       "      <th>173326</th>\n",
       "      <td>2020-04-01</td>\n",
       "      <td>PL1311LAG2B1NH</td>\n",
       "      <td>HDS5C4040ALE630</td>\n",
       "      <td>4000787030016</td>\n",
       "      <td>1</td>\n",
       "      <td>92.0</td>\n",
       "      <td>1245206.0</td>\n",
       "      <td>134.0</td>\n",
       "      <td>100.0</td>\n",
       "      <td>124.0</td>\n",
       "      <td>...</td>\n",
       "      <td>NaN</td>\n",
       "      <td>NaN</td>\n",
       "      <td>NaN</td>\n",
       "      <td>NaN</td>\n",
       "      <td>NaN</td>\n",
       "      <td>NaN</td>\n",
       "      <td>NaN</td>\n",
       "      <td>NaN</td>\n",
       "      <td>NaN</td>\n",
       "      <td>NaN</td>\n",
       "    </tr>\n",
       "  </tbody>\n",
       "</table>\n",
       "<p>7 rows × 95 columns</p>\n",
       "</div>"
      ],
      "text/plain": [
       "              date   serial_number             type       capacity  failure  \\\n",
       "2402    2020-01-02  PL1301LAG3594H  HDS5C4040ALE630  4000787030016        1   \n",
       "38650   2020-01-21  PL1311LAG3D6WH  HDS5C4040ALE630  4000787030016        1   \n",
       "50239   2020-01-27  PL2310LAG0MBEC  HDS5C4040ALE630  4000787030016        1   \n",
       "88705   2020-02-16  PL1321LAG34GMH  HDS5C4040ALE630  4000787030016        1   \n",
       "117767  2020-03-03  PL1321LAG34N8H  HDS5C4040ALE630  4000787030016        1   \n",
       "129432  2020-03-09  PL1311LAG2E3LH  HDS5C4040ALE630  4000787030016        1   \n",
       "173326  2020-04-01  PL1311LAG2B1NH  HDS5C4040ALE630  4000787030016        1   \n",
       "\n",
       "        stat_1_normalized  stat_1_raw  stat_2_normalized  stat_2_raw  \\\n",
       "2402                 85.0  14548994.0              135.0        98.0   \n",
       "38650                74.0  99615823.0              134.0       100.0   \n",
       "50239               100.0         0.0              134.0       100.0   \n",
       "88705                99.0    131072.0              135.0        97.0   \n",
       "117767               86.0   2687066.0              133.0       104.0   \n",
       "129432              100.0     65536.0              136.0        95.0   \n",
       "173326               92.0   1245206.0              134.0       100.0   \n",
       "\n",
       "        stat_3_normalized  ...  stat_250_normalized  stat_250_raw  \\\n",
       "2402                126.0  ...                  NaN           NaN   \n",
       "38650               123.0  ...                  NaN           NaN   \n",
       "50239               124.0  ...                  NaN           NaN   \n",
       "88705               126.0  ...                  NaN           NaN   \n",
       "117767              122.0  ...                  NaN           NaN   \n",
       "129432              128.0  ...                  NaN           NaN   \n",
       "173326              124.0  ...                  NaN           NaN   \n",
       "\n",
       "        stat_251_normalized  stat_251_raw  stat_252_normalized  stat_252_raw  \\\n",
       "2402                    NaN           NaN                  NaN           NaN   \n",
       "38650                   NaN           NaN                  NaN           NaN   \n",
       "50239                   NaN           NaN                  NaN           NaN   \n",
       "88705                   NaN           NaN                  NaN           NaN   \n",
       "117767                  NaN           NaN                  NaN           NaN   \n",
       "129432                  NaN           NaN                  NaN           NaN   \n",
       "173326                  NaN           NaN                  NaN           NaN   \n",
       "\n",
       "        stat_254_normalized  stat_254_raw  stat_255_normalized  stat_255_raw  \n",
       "2402                    NaN           NaN                  NaN           NaN  \n",
       "38650                   NaN           NaN                  NaN           NaN  \n",
       "50239                   NaN           NaN                  NaN           NaN  \n",
       "88705                   NaN           NaN                  NaN           NaN  \n",
       "117767                  NaN           NaN                  NaN           NaN  \n",
       "129432                  NaN           NaN                  NaN           NaN  \n",
       "173326                  NaN           NaN                  NaN           NaN  \n",
       "\n",
       "[7 rows x 95 columns]"
      ]
     },
     "execution_count": 20,
     "metadata": {},
     "output_type": "execute_result"
    },
    {
     "data": {
      "image/png": "[encoded data removed]",
      "text/plain": [
       "<Figure size 432x288 with 1 Axes>"
      ]
     },
     "metadata": {
      "needs_background": "light"
     },
     "output_type": "display_data"
    }
   ],
   "source": [
    "HDS5C4040ALE630_train['failure'].plot()\n",
    "HDS5C4040ALE630_train[HDS5C4040ALE630_train['failure'] == 1]"
   ]
  },
  {
   "cell_type": "code",
   "execution_count": 21,
   "id": "90945b61",
   "metadata": {},
   "outputs": [
    {
     "data": {
      "text/html": [
       "<div>\n",
       "<style scoped>\n",
       "    .dataframe tbody tr th:only-of-type {\n",
       "        vertical-align: middle;\n",
       "    }\n",
       "\n",
       "    .dataframe tbody tr th {\n",
       "        vertical-align: top;\n",
       "    }\n",
       "\n",
       "    .dataframe thead th {\n",
       "        text-align: right;\n",
       "    }\n",
       "</style>\n",
       "<table border=\"1\" class=\"dataframe\">\n",
       "  <thead>\n",
       "    <tr style=\"text-align: right;\">\n",
       "      <th></th>\n",
       "      <th>date</th>\n",
       "      <th>serial_number</th>\n",
       "      <th>type</th>\n",
       "      <th>capacity</th>\n",
       "      <th>failure</th>\n",
       "      <th>stat_1_normalized</th>\n",
       "      <th>stat_1_raw</th>\n",
       "      <th>stat_2_normalized</th>\n",
       "      <th>stat_2_raw</th>\n",
       "      <th>stat_3_normalized</th>\n",
       "      <th>...</th>\n",
       "      <th>stat_250_normalized</th>\n",
       "      <th>stat_250_raw</th>\n",
       "      <th>stat_251_normalized</th>\n",
       "      <th>stat_251_raw</th>\n",
       "      <th>stat_252_normalized</th>\n",
       "      <th>stat_252_raw</th>\n",
       "      <th>stat_254_normalized</th>\n",
       "      <th>stat_254_raw</th>\n",
       "      <th>stat_255_normalized</th>\n",
       "      <th>stat_255_raw</th>\n",
       "    </tr>\n",
       "  </thead>\n",
       "  <tbody>\n",
       "    <tr>\n",
       "      <th>66415</th>\n",
       "      <td>2020-03-22</td>\n",
       "      <td>PL1321LAG2DHGH</td>\n",
       "      <td>HDS5C4040ALE630</td>\n",
       "      <td>4000787030016</td>\n",
       "      <td>1</td>\n",
       "      <td>99.0</td>\n",
       "      <td>65538.0</td>\n",
       "      <td>134.0</td>\n",
       "      <td>100.0</td>\n",
       "      <td>131.0</td>\n",
       "      <td>...</td>\n",
       "      <td>NaN</td>\n",
       "      <td>NaN</td>\n",
       "      <td>NaN</td>\n",
       "      <td>NaN</td>\n",
       "      <td>NaN</td>\n",
       "      <td>NaN</td>\n",
       "      <td>NaN</td>\n",
       "      <td>NaN</td>\n",
       "      <td>NaN</td>\n",
       "      <td>NaN</td>\n",
       "    </tr>\n",
       "  </tbody>\n",
       "</table>\n",
       "<p>1 rows × 95 columns</p>\n",
       "</div>"
      ],
      "text/plain": [
       "             date   serial_number             type       capacity  failure  \\\n",
       "66415  2020-03-22  PL1321LAG2DHGH  HDS5C4040ALE630  4000787030016        1   \n",
       "\n",
       "       stat_1_normalized  stat_1_raw  stat_2_normalized  stat_2_raw  \\\n",
       "66415               99.0     65538.0              134.0       100.0   \n",
       "\n",
       "       stat_3_normalized  ...  stat_250_normalized  stat_250_raw  \\\n",
       "66415              131.0  ...                  NaN           NaN   \n",
       "\n",
       "       stat_251_normalized  stat_251_raw  stat_252_normalized  stat_252_raw  \\\n",
       "66415                  NaN           NaN                  NaN           NaN   \n",
       "\n",
       "       stat_254_normalized  stat_254_raw  stat_255_normalized  stat_255_raw  \n",
       "66415                  NaN           NaN                  NaN           NaN  \n",
       "\n",
       "[1 rows x 95 columns]"
      ]
     },
     "execution_count": 21,
     "metadata": {},
     "output_type": "execute_result"
    },
    {
     "data": {
      "image/png": "[encoded data removed]",
      "text/plain": [
       "<Figure size 432x288 with 1 Axes>"
      ]
     },
     "metadata": {
      "needs_background": "light"
     },
     "output_type": "display_data"
    }
   ],
   "source": [
    "HDS5C4040ALE630_test['failure'].plot()\n",
    "HDS5C4040ALE630_test[HDS5C4040ALE630_test['failure'] == 1]"
   ]
  },
  {
   "cell_type": "code",
   "execution_count": 22,
   "id": "85f46dc3",
   "metadata": {},
   "outputs": [],
   "source": [
    "HDS5C4040ALE630_train_x = HDS5C4040ALE630_train.iloc[:, 5::2]\n",
    "HDS5C4040ALE630_train_y = HDS5C4040ALE630_train.iloc[:, 4]"
   ]
  },
  {
   "cell_type": "code",
   "execution_count": 23,
   "id": "a8f6d321",
   "metadata": {},
   "outputs": [],
   "source": [
    "def adjustFailure(input_y_series):\n",
    "    input_fail_indices = input_y_series.index[input_y_series == 1]\n",
    "    display(input_fail_indices)\n",
    "    adjusted_y_series = input_y_series.copy()\n",
    "    for failure_index in input_fail_indices:\n",
    "        for step in range(1, 7):\n",
    "            index = failure_index-step\n",
    "            if (index<0 or adjusted_y_series[index] == 1):\n",
    "                break\n",
    "            adjusted_y_series[index] = 1\n",
    "    return adjusted_y_series"
   ]
  },
  {
   "cell_type": "code",
   "execution_count": 24,
   "id": "a53d884e",
   "metadata": {},
   "outputs": [
    {
     "data": {
      "text/plain": [
       "Int64Index([2402, 38650, 50239, 88705, 117767, 129432, 173326], dtype='int64')"
      ]
     },
     "metadata": {},
     "output_type": "display_data"
    },
    {
     "data": {
      "text/plain": [
       "(7,)"
      ]
     },
     "metadata": {},
     "output_type": "display_data"
    },
    {
     "data": {
      "text/plain": [
       "(49,)"
      ]
     },
     "metadata": {},
     "output_type": "display_data"
    }
   ],
   "source": [
    "HDS5C4040ALE630_train_y_adjusted = adjustFailure(HDS5C4040ALE630_train_y)\n",
    "display(HDS5C4040ALE630_train_y[HDS5C4040ALE630_train_y == 1].shape)\n",
    "display(HDS5C4040ALE630_train_y_adjusted[HDS5C4040ALE630_train_y_adjusted == 1].shape)"
   ]
  },
  {
   "cell_type": "code",
   "execution_count": 25,
   "id": "b07a792b",
   "metadata": {},
   "outputs": [
    {
     "name": "stdout",
     "output_type": "stream",
     "text": [
      "<class 'pandas.core.frame.DataFrame'>\n",
      "RangeIndex: 331078 entries, 0 to 331077\n",
      "Data columns (total 45 columns):\n",
      " #   Column               Non-Null Count   Dtype  \n",
      "---  ------               --------------   -----  \n",
      " 0   stat_1_normalized    331078 non-null  float64\n",
      " 1   stat_2_normalized    331078 non-null  float64\n",
      " 2   stat_3_normalized    331078 non-null  float64\n",
      " 3   stat_4_normalized    331078 non-null  float64\n",
      " 4   stat_5_normalized    331078 non-null  float64\n",
      " 5   stat_7_normalized    331078 non-null  float64\n",
      " 6   stat_8_normalized    331078 non-null  float64\n",
      " 7   stat_9_normalized    331078 non-null  float64\n",
      " 8   stat_10_normalized   331078 non-null  float64\n",
      " 9   stat_11_normalized   0 non-null       float64\n",
      " 10  stat_12_normalized   331078 non-null  float64\n",
      " 11  stat_13_normalized   0 non-null       float64\n",
      " 12  stat_15_normalized   0 non-null       float64\n",
      " 13  stat_22_normalized   0 non-null       float64\n",
      " 14  stat_183_normalized  0 non-null       float64\n",
      " 15  stat_184_normalized  0 non-null       float64\n",
      " 16  stat_187_normalized  0 non-null       float64\n",
      " 17  stat_188_normalized  0 non-null       float64\n",
      " 18  stat_189_normalized  0 non-null       float64\n",
      " 19  stat_190_normalized  0 non-null       float64\n",
      " 20  stat_191_normalized  0 non-null       float64\n",
      " 21  stat_192_normalized  331078 non-null  float64\n",
      " 22  stat_193_normalized  331078 non-null  float64\n",
      " 23  stat_194_normalized  331078 non-null  float64\n",
      " 24  stat_195_normalized  0 non-null       float64\n",
      " 25  stat_196_normalized  331078 non-null  float64\n",
      " 26  stat_197_normalized  331078 non-null  float64\n",
      " 27  stat_198_normalized  331078 non-null  float64\n",
      " 28  stat_199_normalized  331078 non-null  float64\n",
      " 29  stat_200_normalized  0 non-null       float64\n",
      " 30  stat_201_normalized  0 non-null       float64\n",
      " 31  stat_220_normalized  0 non-null       float64\n",
      " 32  stat_222_normalized  0 non-null       float64\n",
      " 33  stat_223_normalized  0 non-null       float64\n",
      " 34  stat_224_normalized  0 non-null       float64\n",
      " 35  stat_225_normalized  0 non-null       float64\n",
      " 36  stat_226_normalized  0 non-null       float64\n",
      " 37  stat_240_normalized  0 non-null       float64\n",
      " 38  stat_241_normalized  0 non-null       float64\n",
      " 39  stat_242_normalized  0 non-null       float64\n",
      " 40  stat_250_normalized  0 non-null       float64\n",
      " 41  stat_251_normalized  0 non-null       float64\n",
      " 42  stat_252_normalized  0 non-null       float64\n",
      " 43  stat_254_normalized  0 non-null       float64\n",
      " 44  stat_255_normalized  0 non-null       float64\n",
      "dtypes: float64(45)\n",
      "memory usage: 113.7 MB\n"
     ]
    }
   ],
   "source": [
    "#x data health\n",
    "HDS5C4040ALE630_train_x.info()"
   ]
  },
  {
   "cell_type": "code",
   "execution_count": 28,
   "id": "92b391a0",
   "metadata": {},
   "outputs": [],
   "source": [
    "#eliminating 'empty' attributes\n",
    "HDS5C4040ALE630_train_x_adjusted = HDS5C4040ALE630_train_x.iloc[:, [0, 1, 2, 3, 4, 5, 6, 7, 8, 10, 21, 22, 23, 25, 26, 27, 28]]"
   ]
  },
  {
   "cell_type": "code",
   "execution_count": 29,
   "id": "50df1f62",
   "metadata": {},
   "outputs": [
    {
     "data": {
      "text/plain": [
       "SVR()"
      ]
     },
     "execution_count": 29,
     "metadata": {},
     "output_type": "execute_result"
    }
   ],
   "source": [
    "from sklearn.svm import SVR\n",
    "regressor = SVR(kernel = 'rbf')\n",
    "regressor.fit(HDS5C4040ALE630_train_x_adjusted, HDS5C4040ALE630_train_y_adjusted)"
   ]
  },
  {
   "cell_type": "code",
   "execution_count": 30,
   "id": "e72f438b",
   "metadata": {},
   "outputs": [
    {
     "data": {
      "text/plain": [
       "['/opt/notebooks/Sensors/parquet/HDS5C4040ALE630_svr.joblib.pkl']"
      ]
     },
     "execution_count": 30,
     "metadata": {},
     "output_type": "execute_result"
    }
   ],
   "source": [
    "import joblib\n",
    "joblib.dump(regressor, '/opt/notebooks/Sensors/parquet/HDS5C4040ALE630_svr.joblib.pkl', compress=9)"
   ]
  },
  {
   "cell_type": "code",
   "execution_count": 35,
   "id": "70955344",
   "metadata": {},
   "outputs": [],
   "source": [
    "regressor = joblib.load('/opt/notebooks/Sensors/parquet/HDS5C4040ALE630_svr.joblib.pkl')"
   ]
  },
  {
   "cell_type": "code",
   "execution_count": 36,
   "id": "29c95851",
   "metadata": {},
   "outputs": [
    {
     "data": {
      "text/plain": [
       "Int64Index([66415], dtype='int64')"
      ]
     },
     "metadata": {},
     "output_type": "display_data"
    }
   ],
   "source": [
    "#test data\n",
    "HDS5C4040ALE630_test_x = HDS5C4040ALE630_test.iloc[:, 5::2]\n",
    "HDS5C4040ALE630_test_y = HDS5C4040ALE630_test.iloc[:, 4]\n",
    "HDS5C4040ALE630_test_y_adjusted = adjustFailure(HDS5C4040ALE630_test_y)\n",
    "HDS5C4040ALE630_test_x_adjusted = HDS5C4040ALE630_test_x.iloc[:, [0, 1, 2, 3, 4, 5, 6, 7, 8, 10, 21, 22, 23, 25, 26, 27, 28]]\n",
    "\n",
    "test_y_pred = regressor.predict(HDS5C4040ALE630_test_x_adjusted)"
   ]
  },
  {
   "cell_type": "code",
   "execution_count": 32,
   "id": "bba1bb47",
   "metadata": {},
   "outputs": [],
   "source": [
    "def histogramValues(y_diff_series, bins):\n",
    "    histogram = {}\n",
    "    for i in range(0, len(bins)-1):\n",
    "        histogram[bins[i], bins[i+1]] = y_diff_series[(y_diff_series >= bins[i]) & (y_diff_series < bins[i+1])].size\n",
    "    display(histogram)\n",
    "    return histogram"
   ]
  },
  {
   "cell_type": "code",
   "execution_count": 37,
   "id": "f15a8f29",
   "metadata": {},
   "outputs": [
    {
     "data": {
      "text/plain": [
       "(142220,)"
      ]
     },
     "metadata": {},
     "output_type": "display_data"
    },
    {
     "data": {
      "text/plain": [
       "{(0.0, 0.1): 112608,\n",
       " (0.1, 0.2): 29605,\n",
       " (0.2, 0.3): 0,\n",
       " (0.3, 0.4): 0,\n",
       " (0.4, 0.5): 0,\n",
       " (0.5, 0.6): 0,\n",
       " (0.6, 0.7): 0,\n",
       " (0.7, 0.8): 0,\n",
       " (0.8, 0.9): 2,\n",
       " (0.9, 1.0): 5}"
      ]
     },
     "metadata": {},
     "output_type": "display_data"
    },
    {
     "data": {
      "image/png": "[encoded data removed]",
      "text/plain": [
       "<Figure size 432x288 with 1 Axes>"
      ]
     },
     "metadata": {
      "needs_background": "light"
     },
     "output_type": "display_data"
    }
   ],
   "source": [
    "HDS5C4040ALE630_diff = HDS5C4040ALE630_test_y_adjusted.subtract(test_y_pred)\n",
    "HDS5C4040ALE630_diff_abs = HDS5C4040ALE630_diff.abs()\n",
    "bins = [0.0, 0.1, 0.2, 0.3, 0.4, 0.5, 0.6, 0.7, 0.8, 0.9, 1.0]\n",
    "HDS5C4040ALE630_diff_abs.plot.hist(bins = bins)\n",
    "display(HDS5C4040ALE630_diff_abs.shape)\n",
    "HDS5C4040ALE630_diff_count = histogramValues(HDS5C4040ALE630_diff_abs, bins)"
   ]
  },
  {
   "cell_type": "code",
   "execution_count": 34,
   "id": "48a28f53",
   "metadata": {},
   "outputs": [
    {
     "data": {
      "text/html": [
       "<div>\n",
       "<style scoped>\n",
       "    .dataframe tbody tr th:only-of-type {\n",
       "        vertical-align: middle;\n",
       "    }\n",
       "\n",
       "    .dataframe tbody tr th {\n",
       "        vertical-align: top;\n",
       "    }\n",
       "\n",
       "    .dataframe thead th {\n",
       "        text-align: right;\n",
       "    }\n",
       "</style>\n",
       "<table border=\"1\" class=\"dataframe\">\n",
       "  <thead>\n",
       "    <tr style=\"text-align: right;\">\n",
       "      <th></th>\n",
       "      <th>original</th>\n",
       "      <th>original_adjusted</th>\n",
       "      <th>predicted</th>\n",
       "      <th>diff</th>\n",
       "    </tr>\n",
       "  </thead>\n",
       "  <tbody>\n",
       "    <tr>\n",
       "      <th>66409</th>\n",
       "      <td>0</td>\n",
       "      <td>1</td>\n",
       "      <td>0.100054</td>\n",
       "      <td>0.899946</td>\n",
       "    </tr>\n",
       "    <tr>\n",
       "      <th>66410</th>\n",
       "      <td>0</td>\n",
       "      <td>1</td>\n",
       "      <td>0.100025</td>\n",
       "      <td>0.899975</td>\n",
       "    </tr>\n",
       "    <tr>\n",
       "      <th>66411</th>\n",
       "      <td>0</td>\n",
       "      <td>1</td>\n",
       "      <td>0.099826</td>\n",
       "      <td>0.900174</td>\n",
       "    </tr>\n",
       "    <tr>\n",
       "      <th>66412</th>\n",
       "      <td>0</td>\n",
       "      <td>1</td>\n",
       "      <td>0.099777</td>\n",
       "      <td>0.900223</td>\n",
       "    </tr>\n",
       "    <tr>\n",
       "      <th>66413</th>\n",
       "      <td>0</td>\n",
       "      <td>1</td>\n",
       "      <td>0.099645</td>\n",
       "      <td>0.900355</td>\n",
       "    </tr>\n",
       "    <tr>\n",
       "      <th>66414</th>\n",
       "      <td>0</td>\n",
       "      <td>1</td>\n",
       "      <td>0.099967</td>\n",
       "      <td>0.900033</td>\n",
       "    </tr>\n",
       "    <tr>\n",
       "      <th>66415</th>\n",
       "      <td>1</td>\n",
       "      <td>1</td>\n",
       "      <td>0.099995</td>\n",
       "      <td>0.900005</td>\n",
       "    </tr>\n",
       "  </tbody>\n",
       "</table>\n",
       "</div>"
      ],
      "text/plain": [
       "       original  original_adjusted  predicted      diff\n",
       "66409         0                  1   0.100054  0.899946\n",
       "66410         0                  1   0.100025  0.899975\n",
       "66411         0                  1   0.099826  0.900174\n",
       "66412         0                  1   0.099777  0.900223\n",
       "66413         0                  1   0.099645  0.900355\n",
       "66414         0                  1   0.099967  0.900033\n",
       "66415         1                  1   0.099995  0.900005"
      ]
     },
     "metadata": {},
     "output_type": "display_data"
    }
   ],
   "source": [
    "HDS5C4040ALE630_result = pd.DataFrame({'original': HDS5C4040ALE630_test_y, 'original_adjusted': HDS5C4040ALE630_test_y_adjusted, 'predicted': test_y_pred, 'diff': HDS5C4040ALE630_diff_abs})\n",
    "display(HDS5C4040ALE630_result[HDS5C4040ALE630_result['diff']>0.5])"
   ]
  },
  {
   "cell_type": "code",
   "execution_count": null,
   "id": "2fea0ba7",
   "metadata": {},
   "outputs": [],
   "source": [
    "#only failure in the test samples was not correctly predicted"
   ]
  },
  {
   "cell_type": "code",
   "execution_count": 70,
   "id": "fb71f5f7",
   "metadata": {},
   "outputs": [
    {
     "name": "stderr",
     "output_type": "stream",
     "text": [
      "/opt/conda/lib/python3.8/site-packages/statsmodels/stats/weightstats.py:746: RuntimeWarning: invalid value encountered in double_scalars\n",
      "  zstat = (value1 - value2 - diff) / std_diff\n"
     ]
    },
    {
     "data": {
      "text/html": [
       "<div>\n",
       "<style scoped>\n",
       "    .dataframe tbody tr th:only-of-type {\n",
       "        vertical-align: middle;\n",
       "    }\n",
       "\n",
       "    .dataframe tbody tr th {\n",
       "        vertical-align: top;\n",
       "    }\n",
       "\n",
       "    .dataframe thead th {\n",
       "        text-align: right;\n",
       "    }\n",
       "</style>\n",
       "<table border=\"1\" class=\"dataframe\">\n",
       "  <thead>\n",
       "    <tr style=\"text-align: right;\">\n",
       "      <th></th>\n",
       "      <th>index</th>\n",
       "      <th>pval</th>\n",
       "      <th>test_std</th>\n",
       "      <th>train_std</th>\n",
       "      <th>z-test</th>\n",
       "    </tr>\n",
       "  </thead>\n",
       "  <tbody>\n",
       "    <tr>\n",
       "      <th>0</th>\n",
       "      <td>0.0</td>\n",
       "      <td>1.086093e-42</td>\n",
       "      <td>0.620340</td>\n",
       "      <td>1.114356</td>\n",
       "      <td>13.695101</td>\n",
       "    </tr>\n",
       "    <tr>\n",
       "      <th>1</th>\n",
       "      <td>1.0</td>\n",
       "      <td>9.968321e-16</td>\n",
       "      <td>1.211564</td>\n",
       "      <td>1.169372</td>\n",
       "      <td>-8.027248</td>\n",
       "    </tr>\n",
       "    <tr>\n",
       "      <th>2</th>\n",
       "      <td>2.0</td>\n",
       "      <td>2.271925e-65</td>\n",
       "      <td>9.741558</td>\n",
       "      <td>9.728567</td>\n",
       "      <td>17.075162</td>\n",
       "    </tr>\n",
       "    <tr>\n",
       "      <th>3</th>\n",
       "      <td>3.0</td>\n",
       "      <td>NaN</td>\n",
       "      <td>0.000000</td>\n",
       "      <td>0.000000</td>\n",
       "      <td>NaN</td>\n",
       "    </tr>\n",
       "    <tr>\n",
       "      <th>4</th>\n",
       "      <td>4.0</td>\n",
       "      <td>6.737482e-26</td>\n",
       "      <td>0.000000</td>\n",
       "      <td>0.448551</td>\n",
       "      <td>10.523431</td>\n",
       "    </tr>\n",
       "    <tr>\n",
       "      <th>5</th>\n",
       "      <td>5.0</td>\n",
       "      <td>5.382742e-01</td>\n",
       "      <td>0.002652</td>\n",
       "      <td>0.001738</td>\n",
       "      <td>-0.615425</td>\n",
       "    </tr>\n",
       "    <tr>\n",
       "      <th>6</th>\n",
       "      <td>6.0</td>\n",
       "      <td>2.905074e-63</td>\n",
       "      <td>1.282401</td>\n",
       "      <td>1.325587</td>\n",
       "      <td>-16.789659</td>\n",
       "    </tr>\n",
       "    <tr>\n",
       "      <th>7</th>\n",
       "      <td>7.0</td>\n",
       "      <td>2.115677e-09</td>\n",
       "      <td>0.598971</td>\n",
       "      <td>0.608346</td>\n",
       "      <td>-5.988667</td>\n",
       "    </tr>\n",
       "    <tr>\n",
       "      <th>8</th>\n",
       "      <td>8.0</td>\n",
       "      <td>2.328370e-35</td>\n",
       "      <td>0.350568</td>\n",
       "      <td>0.362555</td>\n",
       "      <td>12.409245</td>\n",
       "    </tr>\n",
       "    <tr>\n",
       "      <th>9</th>\n",
       "      <td>9.0</td>\n",
       "      <td>NaN</td>\n",
       "      <td>0.000000</td>\n",
       "      <td>0.000000</td>\n",
       "      <td>NaN</td>\n",
       "    </tr>\n",
       "    <tr>\n",
       "      <th>10</th>\n",
       "      <td>10.0</td>\n",
       "      <td>4.224543e-18</td>\n",
       "      <td>0.000000</td>\n",
       "      <td>0.321786</td>\n",
       "      <td>8.672576</td>\n",
       "    </tr>\n",
       "    <tr>\n",
       "      <th>11</th>\n",
       "      <td>11.0</td>\n",
       "      <td>4.224543e-18</td>\n",
       "      <td>0.000000</td>\n",
       "      <td>0.321786</td>\n",
       "      <td>8.672576</td>\n",
       "    </tr>\n",
       "    <tr>\n",
       "      <th>12</th>\n",
       "      <td>12.0</td>\n",
       "      <td>9.417095e-160</td>\n",
       "      <td>22.874990</td>\n",
       "      <td>23.917743</td>\n",
       "      <td>26.931418</td>\n",
       "    </tr>\n",
       "    <tr>\n",
       "      <th>13</th>\n",
       "      <td>13.0</td>\n",
       "      <td>1.045289e-28</td>\n",
       "      <td>0.000000</td>\n",
       "      <td>1.012900</td>\n",
       "      <td>11.116290</td>\n",
       "    </tr>\n",
       "    <tr>\n",
       "      <th>14</th>\n",
       "      <td>14.0</td>\n",
       "      <td>NaN</td>\n",
       "      <td>0.000000</td>\n",
       "      <td>0.000000</td>\n",
       "      <td>NaN</td>\n",
       "    </tr>\n",
       "    <tr>\n",
       "      <th>15</th>\n",
       "      <td>15.0</td>\n",
       "      <td>NaN</td>\n",
       "      <td>0.000000</td>\n",
       "      <td>0.000000</td>\n",
       "      <td>NaN</td>\n",
       "    </tr>\n",
       "    <tr>\n",
       "      <th>16</th>\n",
       "      <td>16.0</td>\n",
       "      <td>NaN</td>\n",
       "      <td>0.000000</td>\n",
       "      <td>0.000000</td>\n",
       "      <td>NaN</td>\n",
       "    </tr>\n",
       "  </tbody>\n",
       "</table>\n",
       "</div>"
      ],
      "text/plain": [
       "    index           pval   test_std  train_std     z-test\n",
       "0     0.0   1.086093e-42   0.620340   1.114356  13.695101\n",
       "1     1.0   9.968321e-16   1.211564   1.169372  -8.027248\n",
       "2     2.0   2.271925e-65   9.741558   9.728567  17.075162\n",
       "3     3.0            NaN   0.000000   0.000000        NaN\n",
       "4     4.0   6.737482e-26   0.000000   0.448551  10.523431\n",
       "5     5.0   5.382742e-01   0.002652   0.001738  -0.615425\n",
       "6     6.0   2.905074e-63   1.282401   1.325587 -16.789659\n",
       "7     7.0   2.115677e-09   0.598971   0.608346  -5.988667\n",
       "8     8.0   2.328370e-35   0.350568   0.362555  12.409245\n",
       "9     9.0            NaN   0.000000   0.000000        NaN\n",
       "10   10.0   4.224543e-18   0.000000   0.321786   8.672576\n",
       "11   11.0   4.224543e-18   0.000000   0.321786   8.672576\n",
       "12   12.0  9.417095e-160  22.874990  23.917743  26.931418\n",
       "13   13.0   1.045289e-28   0.000000   1.012900  11.116290\n",
       "14   14.0            NaN   0.000000   0.000000        NaN\n",
       "15   15.0            NaN   0.000000   0.000000        NaN\n",
       "16   16.0            NaN   0.000000   0.000000        NaN"
      ]
     },
     "metadata": {},
     "output_type": "display_data"
    }
   ],
   "source": [
    "#analysis of separability for each attribute using Z test\n",
    "from scipy import stats\n",
    "from statsmodels.stats import weightstats as stests\n",
    "HDS5C4040ALE630_attr_quality = pd.DataFrame()\n",
    "for i in range(0,HDS5C4040ALE630_test_x_adjusted.shape[1]):\n",
    "    attribute_test = HDS5C4040ALE630_test_x_adjusted.iloc[:, i]\n",
    "    attribute_train = HDS5C4040ALE630_train_x_adjusted.iloc[:, i]\n",
    "    ztest,pval = stests.ztest(attribute_test, x2=attribute_train, value=0,alternative='two-sided')\n",
    "    row = pd.Series({'index': i, 'z-test': ztest, 'pval': pval, 'test_std': attribute_test.describe()['std'], 'train_std': attribute_train.describe()['std']})\n",
    "    HDS5C4040ALE630_attr_quality=HDS5C4040ALE630_attr_quality.append(row, ignore_index=True)\n",
    "display(HDS5C4040ALE630_attr_quality)"
   ]
  },
  {
   "cell_type": "code",
   "execution_count": null,
   "id": "12377736",
   "metadata": {},
   "outputs": [],
   "source": [
    "#attributes 3, 9, 14, 15, 16, have no variatian whatsoever and could confuse regression\n",
    "#index 5 does not satisfy pVal <0.5 condition"
   ]
  }
 ],
 "metadata": {
  "kernelspec": {
   "display_name": "Python 3",
   "language": "python",
   "name": "python3"
  },
  "language_info": {
   "codemirror_mode": {
    "name": "ipython",
    "version": 3
   },
   "file_extension": ".py",
   "mimetype": "text/x-python",
   "name": "python",
   "nbconvert_exporter": "python",
   "pygments_lexer": "ipython3",
   "version": "3.8.8"
  }
 },
 "nbformat": 4,
 "nbformat_minor": 5
}
