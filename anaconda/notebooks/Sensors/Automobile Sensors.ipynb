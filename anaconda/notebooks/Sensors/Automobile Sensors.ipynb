{
 "cells": [
  {
   "cell_type": "code",
   "execution_count": 1,
   "id": "d0240ae3",
   "metadata": {},
   "outputs": [
    {
     "name": "stdout",
     "output_type": "stream",
     "text": [
      "/opt/notebooks/Sensors\n"
     ]
    }
   ],
   "source": [
    "#current directory\n",
    "import os\n",
    "cwd = os.getcwd()\n",
    "print(cwd)"
   ]
  },
  {
   "cell_type": "code",
   "execution_count": 2,
   "id": "e91eab08",
   "metadata": {},
   "outputs": [
    {
     "name": "stdout",
     "output_type": "stream",
     "text": [
      "['2020-05-12.csv', '2020-01-10.csv', '2020-06-10.csv', '2020-06-23.csv', '2020-03-03.csv', '2020-06-07.csv', '2020-01-19.csv', '2020-01-28.csv', '2020-03-27.csv', '2020-03-14.csv', '2020-04-16.csv', '2020-06-13.csv', '2020-03-02.csv', '2020-03-06.csv', '2020-06-12.csv', '2020-02-11.csv', '2020-04-23.csv', '2020-02-03.csv', '2020-01-15.csv', '2020-01-13.csv', '2020-05-17.csv', '2020-01-27.csv', '2020-05-10.csv', '2020-01-25.csv', '2020-01-02.csv', '2020-06-06.csv', '2020-05-24.csv', '2020-02-27.csv', '2020-05-14.csv', '2020-03-11.csv', '2020-02-08.csv', '2020-03-19.csv', '2020-01-14.csv', '2020-03-29.csv', '2020-01-04.csv', '2020-01-23.csv', '2020-06-03.csv', '2020-04-29.csv', '2020-01-30.csv', '2020-02-02.csv', '2020-06-17.csv', '2020-01-11.csv', '2020-06-09.csv', '2020-02-21.csv', '2020-03-25.csv', '2020-01-20.csv', '2020-06-05.csv', '2020-02-19.csv', '2020-06-04.csv', '2020-03-09.csv', '2020-03-15.csv', '2020-03-20.csv', '2020-01-18.csv', '2020-05-04.csv', '2020-02-01.csv', '2020-04-22.csv', '2020-04-10.csv', '2020-05-18.csv', '2020-06-08.csv', '2020-04-09.csv', '2020-03-26.csv', '2020-02-10.csv', '2020-04-03.csv', '2020-04-15.csv', '2020-04-08.csv', '2020-02-12.csv', '2020-05-01.csv', '2020-04-13.csv', '2020-04-02.csv', '2020-05-13.csv', '2020-06-14.csv', '2020-03-28.csv', '2020-03-08.csv', '2020-05-07.csv', '2020-02-04.csv', '2020-04-06.csv', '2020-05-06.csv', '2020-06-21.csv', '2020-05-19.csv', '2020-02-13.csv', '2020-03-30.csv', '2020-03-21.csv', '2020-05-03.csv', '2020-01-24.csv', '2020-06-22.csv', '2020-01-09.csv', '2020-01-31.csv', '2020-04-14.csv', '2020-04-07.csv', '2020-05-05.csv', '2020-02-20.csv', '2020-04-20.csv', '2020-02-15.csv', '2020-05-16.csv', '2020-01-08.csv', '2020-03-04.csv', '2020-05-02.csv', '2020-03-23.csv', '2020-02-14.csv', '2020-03-10.csv', '2020-05-22.csv', '2020-02-05.csv', '2020-04-26.csv', '2020-06-01.csv', '2020-02-28.csv', '2020-02-17.csv', '2020-04-24.csv', '2020-03-12.csv', '2020-05-11.csv', '2020-06-11.csv', '2020-02-16.csv', '2020-06-18.csv', '2020-01-12.csv', '2020-02-22.csv', '2020-02-25.csv', '2020-05-28.csv', '2020-05-21.csv', '2020-03-05.csv', '2020-05-08.csv', '2020-01-05.csv', '2020-01-21.csv', '2020-03-07.csv', '2020-05-25.csv', '2020-03-24.csv', '2020-06-19.csv', '2020-03-01.csv', '2020-03-31.csv', '2020-04-19.csv', '2020-03-22.csv', '2020-03-13.csv', '2020-05-30.csv', '2020-02-23.csv', '2020-04-28.csv', '2020-05-29.csv', '2020-03-16.csv', '2020-06-20.csv', '2020-04-17.csv', '2020-05-31.csv', '2020-04-27.csv', '2020-01-07.csv', '2020-05-23.csv', '2020-03-18.csv', '2020-02-07.csv', '2020-01-29.csv', '2020-04-25.csv', '2020-04-30.csv', '2020-01-16.csv', '2020-04-21.csv', '2020-05-20.csv', '2020-01-26.csv', '2020-04-12.csv', '2020-02-06.csv', '2020-02-26.csv', '2020-04-18.csv', '2020-01-06.csv', '2020-06-02.csv', '2020-06-16.csv', '2020-04-11.csv', '2020-01-03.csv', '2020-05-09.csv', '2020-02-24.csv', '2020-02-09.csv', '2020-02-29.csv', '2020-04-05.csv', '2020-01-17.csv', '2020-01-01.csv', '2020-03-17.csv', '2020-05-26.csv', '2020-05-15.csv', '2020-04-04.csv', '2020-06-15.csv', '2020-01-22.csv', '2020-02-18.csv', '2020-04-01.csv', '2020-05-27.csv']\n"
     ]
    }
   ],
   "source": [
    "from os import listdir\n",
    "from os.path import isfile, join\n",
    "mypath = '/opt/notebooks/Sensors/infinum/2020_sensor_data'\n",
    "onlyfiles = [f for f in listdir(mypath) if isfile(join(mypath, f))]\n",
    "print(onlyfiles)"
   ]
  },
  {
   "cell_type": "code",
   "execution_count": 3,
   "id": "7a6a23a0",
   "metadata": {},
   "outputs": [
    {
     "name": "stdout",
     "output_type": "stream",
     "text": [
      "/opt/notebooks/Sensors/infinum/2020_sensor_data/2020-05-12.csv\n",
      "<bound method DataFrame.info of              date   serial_number             type       capacity  failure  \\\n",
      "0      2020-05-12  MJ0351YNG9Z0XA  HDS5C3030ALA630  3000592982016        0   \n",
      "1      2020-05-12  MJ0351YNG9WJSA  HDS5C3030ALA630  3000592982016        0   \n",
      "2      2020-05-12  PL1321LAG34XWH  HDS5C4040ALE630  4000787030016        0   \n",
      "3      2020-05-12  MJ0351YNGABYAA  HDS5C3030ALA630  3000592982016        0   \n",
      "4      2020-05-12        Z305B2QN      ST4000DM000  4000787030016        0   \n",
      "...           ...             ...              ...            ...      ...   \n",
      "66397  2020-05-12  MJ1311YNG3G5NA  HDS5C3030ALA630  3000592982016        0   \n",
      "66398  2020-05-12        Z3016V0V      ST4000DM000  4000787030016        0   \n",
      "66399  2020-05-12  MJ1323YNG1LZJC  HDS5C3030ALA630  3000592982016        0   \n",
      "66400  2020-05-12        S300YQXW      ST4000DM000  4000787030016        0   \n",
      "66401  2020-05-12        Z30271GD      ST4000DM000  4000787030016        0   \n",
      "\n",
      "       stat_1_normalized  stat_1_raw  stat_2_normalized  stat_2_raw  \\\n",
      "0                    100           0              135.0       108.0   \n",
      "1                    100           0              136.0       104.0   \n",
      "2                    100           0              134.0       101.0   \n",
      "3                    100           0              136.0       104.0   \n",
      "4                    119   209278624                NaN         NaN   \n",
      "...                  ...         ...                ...         ...   \n",
      "66397                100           0              100.0         0.0   \n",
      "66398                117   142819240                NaN         NaN   \n",
      "66399                100           0              100.0         0.0   \n",
      "66400                117   142801808                NaN         NaN   \n",
      "66401                112    49170872                NaN         NaN   \n",
      "\n",
      "       stat_3_normalized  ...  stat_250_normalized  stat_250_raw  \\\n",
      "0                    143  ...                  NaN           NaN   \n",
      "1                    127  ...                  NaN           NaN   \n",
      "2                    130  ...                  NaN           NaN   \n",
      "3                    137  ...                  NaN           NaN   \n",
      "4                     95  ...                  NaN           NaN   \n",
      "...                  ...  ...                  ...           ...   \n",
      "66397                123  ...                  NaN           NaN   \n",
      "66398                 91  ...                  NaN           NaN   \n",
      "66399                124  ...                  NaN           NaN   \n",
      "66400                 96  ...                  NaN           NaN   \n",
      "66401                 93  ...                  NaN           NaN   \n",
      "\n",
      "       stat_251_normalized  stat_251_raw  stat_252_normalized  stat_252_raw  \\\n",
      "0                      NaN           NaN                  NaN           NaN   \n",
      "1                      NaN           NaN                  NaN           NaN   \n",
      "2                      NaN           NaN                  NaN           NaN   \n",
      "3                      NaN           NaN                  NaN           NaN   \n",
      "4                      NaN           NaN                  NaN           NaN   \n",
      "...                    ...           ...                  ...           ...   \n",
      "66397                  NaN           NaN                  NaN           NaN   \n",
      "66398                  NaN           NaN                  NaN           NaN   \n",
      "66399                  NaN           NaN                  NaN           NaN   \n",
      "66400                  NaN           NaN                  NaN           NaN   \n",
      "66401                  NaN           NaN                  NaN           NaN   \n",
      "\n",
      "       stat_254_normalized  stat_254_raw  stat_255_normalized  stat_255_raw  \n",
      "0                      NaN           NaN                  NaN           NaN  \n",
      "1                      NaN           NaN                  NaN           NaN  \n",
      "2                      NaN           NaN                  NaN           NaN  \n",
      "3                      NaN           NaN                  NaN           NaN  \n",
      "4                      NaN           NaN                  NaN           NaN  \n",
      "...                    ...           ...                  ...           ...  \n",
      "66397                  NaN           NaN                  NaN           NaN  \n",
      "66398                  NaN           NaN                  NaN           NaN  \n",
      "66399                  NaN           NaN                  NaN           NaN  \n",
      "66400                  NaN           NaN                  NaN           NaN  \n",
      "66401                  NaN           NaN                  NaN           NaN  \n",
      "\n",
      "[66402 rows x 95 columns]>\n"
     ]
    }
   ],
   "source": [
    "import pandas as pd\n",
    "file = join(mypath, onlyfiles[0])\n",
    "day = pd.read_csv(file)\n",
    "print(file)\n",
    "print(day.info)\n",
    "#print('Data', day)"
   ]
  },
  {
   "cell_type": "code",
   "execution_count": 4,
   "id": "c0cbecae",
   "metadata": {},
   "outputs": [
    {
     "name": "stdout",
     "output_type": "stream",
     "text": [
      "/opt/notebooks/Sensors/infinum/2020_sensor_data/2020-05-12.csv\n",
      "/opt/notebooks/Sensors/infinum/2020_sensor_data/2020-01-10.csv\n",
      "/opt/notebooks/Sensors/infinum/2020_sensor_data/2020-06-10.csv\n",
      "/opt/notebooks/Sensors/infinum/2020_sensor_data/2020-06-23.csv\n",
      "/opt/notebooks/Sensors/infinum/2020_sensor_data/2020-03-03.csv\n",
      "/opt/notebooks/Sensors/infinum/2020_sensor_data/2020-06-07.csv\n",
      "/opt/notebooks/Sensors/infinum/2020_sensor_data/2020-01-19.csv\n",
      "/opt/notebooks/Sensors/infinum/2020_sensor_data/2020-01-28.csv\n",
      "/opt/notebooks/Sensors/infinum/2020_sensor_data/2020-03-27.csv\n",
      "/opt/notebooks/Sensors/infinum/2020_sensor_data/2020-03-14.csv\n",
      "/opt/notebooks/Sensors/infinum/2020_sensor_data/2020-04-16.csv\n",
      "/opt/notebooks/Sensors/infinum/2020_sensor_data/2020-06-13.csv\n",
      "/opt/notebooks/Sensors/infinum/2020_sensor_data/2020-03-02.csv\n",
      "/opt/notebooks/Sensors/infinum/2020_sensor_data/2020-03-06.csv\n",
      "/opt/notebooks/Sensors/infinum/2020_sensor_data/2020-06-12.csv\n",
      "/opt/notebooks/Sensors/infinum/2020_sensor_data/2020-02-11.csv\n",
      "/opt/notebooks/Sensors/infinum/2020_sensor_data/2020-04-23.csv\n",
      "/opt/notebooks/Sensors/infinum/2020_sensor_data/2020-02-03.csv\n",
      "/opt/notebooks/Sensors/infinum/2020_sensor_data/2020-01-15.csv\n",
      "/opt/notebooks/Sensors/infinum/2020_sensor_data/2020-01-13.csv\n",
      "/opt/notebooks/Sensors/infinum/2020_sensor_data/2020-05-17.csv\n",
      "/opt/notebooks/Sensors/infinum/2020_sensor_data/2020-01-27.csv\n",
      "/opt/notebooks/Sensors/infinum/2020_sensor_data/2020-05-10.csv\n",
      "/opt/notebooks/Sensors/infinum/2020_sensor_data/2020-01-25.csv\n",
      "/opt/notebooks/Sensors/infinum/2020_sensor_data/2020-01-02.csv\n",
      "/opt/notebooks/Sensors/infinum/2020_sensor_data/2020-06-06.csv\n",
      "/opt/notebooks/Sensors/infinum/2020_sensor_data/2020-05-24.csv\n",
      "/opt/notebooks/Sensors/infinum/2020_sensor_data/2020-02-27.csv\n",
      "/opt/notebooks/Sensors/infinum/2020_sensor_data/2020-05-14.csv\n",
      "/opt/notebooks/Sensors/infinum/2020_sensor_data/2020-03-11.csv\n",
      "/opt/notebooks/Sensors/infinum/2020_sensor_data/2020-02-08.csv\n",
      "/opt/notebooks/Sensors/infinum/2020_sensor_data/2020-03-19.csv\n",
      "/opt/notebooks/Sensors/infinum/2020_sensor_data/2020-01-14.csv\n",
      "/opt/notebooks/Sensors/infinum/2020_sensor_data/2020-03-29.csv\n",
      "/opt/notebooks/Sensors/infinum/2020_sensor_data/2020-01-04.csv\n",
      "/opt/notebooks/Sensors/infinum/2020_sensor_data/2020-01-23.csv\n",
      "/opt/notebooks/Sensors/infinum/2020_sensor_data/2020-06-03.csv\n",
      "/opt/notebooks/Sensors/infinum/2020_sensor_data/2020-04-29.csv\n",
      "/opt/notebooks/Sensors/infinum/2020_sensor_data/2020-01-30.csv\n",
      "/opt/notebooks/Sensors/infinum/2020_sensor_data/2020-02-02.csv\n",
      "/opt/notebooks/Sensors/infinum/2020_sensor_data/2020-06-17.csv\n",
      "/opt/notebooks/Sensors/infinum/2020_sensor_data/2020-01-11.csv\n",
      "/opt/notebooks/Sensors/infinum/2020_sensor_data/2020-06-09.csv\n",
      "/opt/notebooks/Sensors/infinum/2020_sensor_data/2020-02-21.csv\n",
      "/opt/notebooks/Sensors/infinum/2020_sensor_data/2020-03-25.csv\n",
      "/opt/notebooks/Sensors/infinum/2020_sensor_data/2020-01-20.csv\n",
      "/opt/notebooks/Sensors/infinum/2020_sensor_data/2020-06-05.csv\n",
      "/opt/notebooks/Sensors/infinum/2020_sensor_data/2020-02-19.csv\n",
      "/opt/notebooks/Sensors/infinum/2020_sensor_data/2020-06-04.csv\n",
      "/opt/notebooks/Sensors/infinum/2020_sensor_data/2020-03-09.csv\n",
      "/opt/notebooks/Sensors/infinum/2020_sensor_data/2020-03-15.csv\n",
      "/opt/notebooks/Sensors/infinum/2020_sensor_data/2020-03-20.csv\n",
      "/opt/notebooks/Sensors/infinum/2020_sensor_data/2020-01-18.csv\n",
      "/opt/notebooks/Sensors/infinum/2020_sensor_data/2020-05-04.csv\n",
      "/opt/notebooks/Sensors/infinum/2020_sensor_data/2020-02-01.csv\n",
      "/opt/notebooks/Sensors/infinum/2020_sensor_data/2020-04-22.csv\n",
      "/opt/notebooks/Sensors/infinum/2020_sensor_data/2020-04-10.csv\n",
      "/opt/notebooks/Sensors/infinum/2020_sensor_data/2020-05-18.csv\n",
      "/opt/notebooks/Sensors/infinum/2020_sensor_data/2020-06-08.csv\n",
      "/opt/notebooks/Sensors/infinum/2020_sensor_data/2020-04-09.csv\n",
      "/opt/notebooks/Sensors/infinum/2020_sensor_data/2020-03-26.csv\n",
      "/opt/notebooks/Sensors/infinum/2020_sensor_data/2020-02-10.csv\n",
      "/opt/notebooks/Sensors/infinum/2020_sensor_data/2020-04-03.csv\n",
      "/opt/notebooks/Sensors/infinum/2020_sensor_data/2020-04-15.csv\n",
      "/opt/notebooks/Sensors/infinum/2020_sensor_data/2020-04-08.csv\n",
      "/opt/notebooks/Sensors/infinum/2020_sensor_data/2020-02-12.csv\n",
      "/opt/notebooks/Sensors/infinum/2020_sensor_data/2020-05-01.csv\n",
      "/opt/notebooks/Sensors/infinum/2020_sensor_data/2020-04-13.csv\n",
      "/opt/notebooks/Sensors/infinum/2020_sensor_data/2020-04-02.csv\n",
      "/opt/notebooks/Sensors/infinum/2020_sensor_data/2020-05-13.csv\n",
      "/opt/notebooks/Sensors/infinum/2020_sensor_data/2020-06-14.csv\n",
      "/opt/notebooks/Sensors/infinum/2020_sensor_data/2020-03-28.csv\n",
      "/opt/notebooks/Sensors/infinum/2020_sensor_data/2020-03-08.csv\n",
      "/opt/notebooks/Sensors/infinum/2020_sensor_data/2020-05-07.csv\n",
      "/opt/notebooks/Sensors/infinum/2020_sensor_data/2020-02-04.csv\n",
      "/opt/notebooks/Sensors/infinum/2020_sensor_data/2020-04-06.csv\n",
      "/opt/notebooks/Sensors/infinum/2020_sensor_data/2020-05-06.csv\n",
      "/opt/notebooks/Sensors/infinum/2020_sensor_data/2020-06-21.csv\n",
      "/opt/notebooks/Sensors/infinum/2020_sensor_data/2020-05-19.csv\n",
      "/opt/notebooks/Sensors/infinum/2020_sensor_data/2020-02-13.csv\n",
      "/opt/notebooks/Sensors/infinum/2020_sensor_data/2020-03-30.csv\n",
      "/opt/notebooks/Sensors/infinum/2020_sensor_data/2020-03-21.csv\n",
      "/opt/notebooks/Sensors/infinum/2020_sensor_data/2020-05-03.csv\n",
      "/opt/notebooks/Sensors/infinum/2020_sensor_data/2020-01-24.csv\n",
      "/opt/notebooks/Sensors/infinum/2020_sensor_data/2020-06-22.csv\n",
      "/opt/notebooks/Sensors/infinum/2020_sensor_data/2020-01-09.csv\n",
      "/opt/notebooks/Sensors/infinum/2020_sensor_data/2020-01-31.csv\n",
      "/opt/notebooks/Sensors/infinum/2020_sensor_data/2020-04-14.csv\n",
      "/opt/notebooks/Sensors/infinum/2020_sensor_data/2020-04-07.csv\n",
      "/opt/notebooks/Sensors/infinum/2020_sensor_data/2020-05-05.csv\n",
      "/opt/notebooks/Sensors/infinum/2020_sensor_data/2020-02-20.csv\n",
      "/opt/notebooks/Sensors/infinum/2020_sensor_data/2020-04-20.csv\n",
      "/opt/notebooks/Sensors/infinum/2020_sensor_data/2020-02-15.csv\n",
      "/opt/notebooks/Sensors/infinum/2020_sensor_data/2020-05-16.csv\n",
      "/opt/notebooks/Sensors/infinum/2020_sensor_data/2020-01-08.csv\n",
      "/opt/notebooks/Sensors/infinum/2020_sensor_data/2020-03-04.csv\n",
      "/opt/notebooks/Sensors/infinum/2020_sensor_data/2020-05-02.csv\n",
      "/opt/notebooks/Sensors/infinum/2020_sensor_data/2020-03-23.csv\n",
      "/opt/notebooks/Sensors/infinum/2020_sensor_data/2020-02-14.csv\n",
      "/opt/notebooks/Sensors/infinum/2020_sensor_data/2020-03-10.csv\n",
      "/opt/notebooks/Sensors/infinum/2020_sensor_data/2020-05-22.csv\n",
      "/opt/notebooks/Sensors/infinum/2020_sensor_data/2020-02-05.csv\n",
      "/opt/notebooks/Sensors/infinum/2020_sensor_data/2020-04-26.csv\n",
      "/opt/notebooks/Sensors/infinum/2020_sensor_data/2020-06-01.csv\n",
      "/opt/notebooks/Sensors/infinum/2020_sensor_data/2020-02-28.csv\n",
      "/opt/notebooks/Sensors/infinum/2020_sensor_data/2020-02-17.csv\n",
      "/opt/notebooks/Sensors/infinum/2020_sensor_data/2020-04-24.csv\n",
      "/opt/notebooks/Sensors/infinum/2020_sensor_data/2020-03-12.csv\n",
      "/opt/notebooks/Sensors/infinum/2020_sensor_data/2020-05-11.csv\n",
      "/opt/notebooks/Sensors/infinum/2020_sensor_data/2020-06-11.csv\n",
      "/opt/notebooks/Sensors/infinum/2020_sensor_data/2020-02-16.csv\n",
      "/opt/notebooks/Sensors/infinum/2020_sensor_data/2020-06-18.csv\n",
      "/opt/notebooks/Sensors/infinum/2020_sensor_data/2020-01-12.csv\n",
      "/opt/notebooks/Sensors/infinum/2020_sensor_data/2020-02-22.csv\n",
      "/opt/notebooks/Sensors/infinum/2020_sensor_data/2020-02-25.csv\n",
      "/opt/notebooks/Sensors/infinum/2020_sensor_data/2020-05-28.csv\n",
      "/opt/notebooks/Sensors/infinum/2020_sensor_data/2020-05-21.csv\n",
      "/opt/notebooks/Sensors/infinum/2020_sensor_data/2020-03-05.csv\n",
      "/opt/notebooks/Sensors/infinum/2020_sensor_data/2020-05-08.csv\n",
      "/opt/notebooks/Sensors/infinum/2020_sensor_data/2020-01-05.csv\n",
      "/opt/notebooks/Sensors/infinum/2020_sensor_data/2020-01-21.csv\n",
      "/opt/notebooks/Sensors/infinum/2020_sensor_data/2020-03-07.csv\n",
      "/opt/notebooks/Sensors/infinum/2020_sensor_data/2020-05-25.csv\n",
      "/opt/notebooks/Sensors/infinum/2020_sensor_data/2020-03-24.csv\n",
      "/opt/notebooks/Sensors/infinum/2020_sensor_data/2020-06-19.csv\n",
      "/opt/notebooks/Sensors/infinum/2020_sensor_data/2020-03-01.csv\n",
      "/opt/notebooks/Sensors/infinum/2020_sensor_data/2020-03-31.csv\n",
      "/opt/notebooks/Sensors/infinum/2020_sensor_data/2020-04-19.csv\n",
      "/opt/notebooks/Sensors/infinum/2020_sensor_data/2020-03-22.csv\n",
      "/opt/notebooks/Sensors/infinum/2020_sensor_data/2020-03-13.csv\n",
      "/opt/notebooks/Sensors/infinum/2020_sensor_data/2020-05-30.csv\n"
     ]
    },
    {
     "name": "stdout",
     "output_type": "stream",
     "text": [
      "/opt/notebooks/Sensors/infinum/2020_sensor_data/2020-02-23.csv\n",
      "/opt/notebooks/Sensors/infinum/2020_sensor_data/2020-04-28.csv\n",
      "/opt/notebooks/Sensors/infinum/2020_sensor_data/2020-05-29.csv\n",
      "/opt/notebooks/Sensors/infinum/2020_sensor_data/2020-03-16.csv\n",
      "/opt/notebooks/Sensors/infinum/2020_sensor_data/2020-06-20.csv\n",
      "/opt/notebooks/Sensors/infinum/2020_sensor_data/2020-04-17.csv\n",
      "/opt/notebooks/Sensors/infinum/2020_sensor_data/2020-05-31.csv\n",
      "/opt/notebooks/Sensors/infinum/2020_sensor_data/2020-04-27.csv\n",
      "/opt/notebooks/Sensors/infinum/2020_sensor_data/2020-01-07.csv\n",
      "/opt/notebooks/Sensors/infinum/2020_sensor_data/2020-05-23.csv\n",
      "/opt/notebooks/Sensors/infinum/2020_sensor_data/2020-03-18.csv\n",
      "/opt/notebooks/Sensors/infinum/2020_sensor_data/2020-02-07.csv\n",
      "/opt/notebooks/Sensors/infinum/2020_sensor_data/2020-01-29.csv\n",
      "/opt/notebooks/Sensors/infinum/2020_sensor_data/2020-04-25.csv\n",
      "/opt/notebooks/Sensors/infinum/2020_sensor_data/2020-04-30.csv\n",
      "/opt/notebooks/Sensors/infinum/2020_sensor_data/2020-01-16.csv\n",
      "/opt/notebooks/Sensors/infinum/2020_sensor_data/2020-04-21.csv\n",
      "/opt/notebooks/Sensors/infinum/2020_sensor_data/2020-05-20.csv\n",
      "/opt/notebooks/Sensors/infinum/2020_sensor_data/2020-01-26.csv\n",
      "/opt/notebooks/Sensors/infinum/2020_sensor_data/2020-04-12.csv\n",
      "/opt/notebooks/Sensors/infinum/2020_sensor_data/2020-02-06.csv\n",
      "/opt/notebooks/Sensors/infinum/2020_sensor_data/2020-02-26.csv\n",
      "/opt/notebooks/Sensors/infinum/2020_sensor_data/2020-04-18.csv\n",
      "/opt/notebooks/Sensors/infinum/2020_sensor_data/2020-01-06.csv\n",
      "/opt/notebooks/Sensors/infinum/2020_sensor_data/2020-06-02.csv\n",
      "/opt/notebooks/Sensors/infinum/2020_sensor_data/2020-06-16.csv\n",
      "/opt/notebooks/Sensors/infinum/2020_sensor_data/2020-04-11.csv\n",
      "/opt/notebooks/Sensors/infinum/2020_sensor_data/2020-01-03.csv\n",
      "/opt/notebooks/Sensors/infinum/2020_sensor_data/2020-05-09.csv\n",
      "/opt/notebooks/Sensors/infinum/2020_sensor_data/2020-02-24.csv\n",
      "/opt/notebooks/Sensors/infinum/2020_sensor_data/2020-02-09.csv\n",
      "/opt/notebooks/Sensors/infinum/2020_sensor_data/2020-02-29.csv\n",
      "/opt/notebooks/Sensors/infinum/2020_sensor_data/2020-04-05.csv\n",
      "/opt/notebooks/Sensors/infinum/2020_sensor_data/2020-01-17.csv\n",
      "/opt/notebooks/Sensors/infinum/2020_sensor_data/2020-01-01.csv\n",
      "/opt/notebooks/Sensors/infinum/2020_sensor_data/2020-03-17.csv\n",
      "/opt/notebooks/Sensors/infinum/2020_sensor_data/2020-05-26.csv\n",
      "/opt/notebooks/Sensors/infinum/2020_sensor_data/2020-05-15.csv\n",
      "/opt/notebooks/Sensors/infinum/2020_sensor_data/2020-04-04.csv\n",
      "/opt/notebooks/Sensors/infinum/2020_sensor_data/2020-06-15.csv\n",
      "/opt/notebooks/Sensors/infinum/2020_sensor_data/2020-01-22.csv\n",
      "/opt/notebooks/Sensors/infinum/2020_sensor_data/2020-02-18.csv\n",
      "/opt/notebooks/Sensors/infinum/2020_sensor_data/2020-04-01.csv\n",
      "/opt/notebooks/Sensors/infinum/2020_sensor_data/2020-05-27.csv\n",
      "Done\n"
     ]
    }
   ],
   "source": [
    "#read selected columns from files\n",
    "import pandas as pd\n",
    "data = pd.DataFrame()\n",
    "for f in onlyfiles:\n",
    "    file = join(mypath, f)\n",
    "    day = pd.read_csv(file, usecols=['date', 'serial_number', 'type', 'failure'])\n",
    "    data = data.append(day, ignore_index=True)\n",
    "    print(file)\n",
    "print('Done')"
   ]
  },
  {
   "cell_type": "code",
   "execution_count": 5,
   "id": "16fce8f8",
   "metadata": {},
   "outputs": [
    {
     "name": "stdout",
     "output_type": "stream",
     "text": [
      "<class 'pandas.core.frame.DataFrame'>\n",
      "RangeIndex: 10982984 entries, 0 to 10982983\n",
      "Data columns (total 4 columns):\n",
      " #   Column         Dtype \n",
      "---  ------         ----- \n",
      " 0   date           object\n",
      " 1   serial_number  object\n",
      " 2   type           object\n",
      " 3   failure        int64 \n",
      "dtypes: int64(1), object(3)\n",
      "memory usage: 335.2+ MB\n"
     ]
    }
   ],
   "source": [
    "data.info()"
   ]
  },
  {
   "cell_type": "code",
   "execution_count": 6,
   "id": "d2cbe5d3",
   "metadata": {},
   "outputs": [
    {
     "data": {
      "text/plain": [
       "date                  2020-05-12\n",
       "serial_number     MJ0351YNG9Z0XA\n",
       "type             HDS5C3030ALA630\n",
       "failure                        0\n",
       "Name: 0, dtype: object"
      ]
     },
     "execution_count": 6,
     "metadata": {},
     "output_type": "execute_result"
    }
   ],
   "source": [
    "#select row by index (or label)\n",
    "data.loc[0]"
   ]
  },
  {
   "cell_type": "code",
   "execution_count": 7,
   "id": "04800843",
   "metadata": {},
   "outputs": [
    {
     "data": {
      "text/plain": [
       "70923"
      ]
     },
     "execution_count": 7,
     "metadata": {},
     "output_type": "execute_result"
    }
   ],
   "source": [
    "#select all rows, but one column and count unique values for serial number\n",
    "data.loc[:, 'serial_number'].unique().size"
   ]
  },
  {
   "cell_type": "code",
   "execution_count": 8,
   "id": "dcea3c75",
   "metadata": {},
   "outputs": [
    {
     "data": {
      "text/plain": [
       "array(['MJ0351YNG9Z0XA', 'MJ0351YNG9WJSA', 'PL1321LAG34XWH', ...,\n",
       "       'Z300KHN0', 'Z3015V4D', 'W3006E5B'], dtype=object)"
      ]
     },
     "execution_count": 8,
     "metadata": {},
     "output_type": "execute_result"
    }
   ],
   "source": [
    "#select all rows, but one column and get unique values for serial number\n",
    "data.loc[:, 'serial_number'].unique()"
   ]
  },
  {
   "cell_type": "code",
   "execution_count": 9,
   "id": "fcdc9c5f",
   "metadata": {},
   "outputs": [
    {
     "name": "stdout",
     "output_type": "stream",
     "text": [
      "<class 'pandas.core.frame.DataFrame'>\n",
      "Int64Index: 794019 entries, 0 to 10982981\n",
      "Data columns (total 4 columns):\n",
      " #   Column         Non-Null Count   Dtype \n",
      "---  ------         --------------   ----- \n",
      " 0   date           794019 non-null  object\n",
      " 1   serial_number  794019 non-null  object\n",
      " 2   type           794019 non-null  object\n",
      " 3   failure        794019 non-null  int64 \n",
      "dtypes: int64(1), object(3)\n",
      "memory usage: 30.3+ MB\n"
     ]
    }
   ],
   "source": [
    "#extracting a subset of rows for a type\n",
    "single = data[data['type'] == 'HDS5C3030ALA630'].copy()\n",
    "single.info()"
   ]
  },
  {
   "cell_type": "code",
   "execution_count": 10,
   "id": "bff2e9c0",
   "metadata": {},
   "outputs": [
    {
     "data": {
      "image/png": "[encoded data removed]",
      "text/plain": [
       "<Figure size 432x288 with 1 Axes>"
      ]
     },
     "metadata": {
      "needs_background": "light"
     },
     "output_type": "display_data"
    }
   ],
   "source": [
    "import pandas as pd\n",
    "import matplotlib.pyplot as plt\n",
    "\n",
    "single.plot()\n",
    "\n",
    "plt.show() "
   ]
  },
  {
   "cell_type": "code",
   "execution_count": 11,
   "id": "995a820a",
   "metadata": {},
   "outputs": [
    {
     "data": {
      "text/plain": [
       "<AxesSubplot:ylabel='Frequency'>"
      ]
     },
     "execution_count": 11,
     "metadata": {},
     "output_type": "execute_result"
    },
    {
     "data": {
      "image/png": "[encoded data removed]",
      "text/plain": [
       "<Figure size 432x288 with 1 Axes>"
      ]
     },
     "metadata": {
      "needs_background": "light"
     },
     "output_type": "display_data"
    }
   ],
   "source": [
    "single[\"failure\"].plot(kind = 'hist')"
   ]
  },
  {
   "cell_type": "code",
   "execution_count": 12,
   "id": "29a8182c",
   "metadata": {},
   "outputs": [
    {
     "data": {
      "text/plain": [
       "68"
      ]
     },
     "execution_count": 12,
     "metadata": {},
     "output_type": "execute_result"
    }
   ],
   "source": [
    "#select all rows, but one column and count unique values for type\n",
    "data.loc[:, 'type'].unique().size"
   ]
  },
  {
   "cell_type": "code",
   "execution_count": 13,
   "id": "b5aa67c5",
   "metadata": {},
   "outputs": [
    {
     "name": "stdout",
     "output_type": "stream",
     "text": [
      "['HDS5C3030ALA630' 'HDS5C4040ALE630' 'ST4000DM000' 'HMS5C4040BLE640'\n",
      " 'WD30EFRX' 'HMS5C4040ALE640' 'ST6000DX000' 'HDS723030ALA640'\n",
      " 'HDS722020ALA330' 'MD04ABA400V' 'DT01ACA300' 'WD60EFRX' 'ST4000DX000'\n",
      " 'WD5000LPVX' 'HUH728080ALE600' 'ST320LT007' 'HN' 'WD40EFRX' 'MD04ABA500V'\n",
      " 'WD1600AAJS' 'ST9320325AS' 'HDS724040ALE640' 'HDS5C3030BLE630'\n",
      " 'ST3160318AS' 'ST8000DM002' 'WD20EFRX' 'ST9250315AS' 'ST3160316AS'\n",
      " 'WD3200BEKX' 'HDS723030BLE640' 'WD800JB' 'WD2500BPVT' 'WD5000BPKT'\n",
      " 'HDS723020BLA642' 'ST2000VN000' 'HDT725025VLA380' 'WD1600AAJB'\n",
      " 'WD800AAJB' 'ST4000DX002' 'WD3200AAJS' 'WD5002ABYS' 'ST250LT007'\n",
      " 'WD2500AAJS' 'WD3200LPVX' 'WD2500BEVT' 'WD5003ABYX' 'WD2500AAJB'\n",
      " 'WD1600BPVT' 'ST3500320AS' 'WD3200AAKS' 'ST31500541AS' 'WD3200AAJB'\n",
      " 'WD800AAJS' 'WD800LB' 'WD3200BEKT' 'WD800BB' 'ST31500341AS' 'WD800JD'\n",
      " 'MQ01ABF050' 'WD10EADS' 'WD10EACS' 'WD10EADX' 'WD15EARS' 'WD10EARS'\n",
      " 'WD10EALS' 'WD10EARX' 'HD154UI' 'WD1001FALS']\n"
     ]
    }
   ],
   "source": [
    "#select all rows, but one column and get unique values for type\n",
    "sensor_types = data.loc[:, 'type'].unique()\n",
    "print(sensor_types)"
   ]
  },
  {
   "cell_type": "code",
   "execution_count": 14,
   "id": "faf6e28a",
   "metadata": {},
   "outputs": [],
   "source": [
    "grouped_by_sensor = data.groupby('type')"
   ]
  },
  {
   "cell_type": "code",
   "execution_count": 15,
   "id": "62a372d7",
   "metadata": {},
   "outputs": [
    {
     "data": {
      "text/plain": [
       "type\n",
       "DT01ACA300           8161\n",
       "HD154UI                 5\n",
       "HDS5C3030ALA630    794019\n",
       "HDS5C3030BLE630       175\n",
       "HDS5C4040ALE630    473298\n",
       "                    ...  \n",
       "WD800AAJS            1733\n",
       "WD800BB               424\n",
       "WD800JB               384\n",
       "WD800JD                84\n",
       "WD800LB                76\n",
       "Length: 68, dtype: int64"
      ]
     },
     "metadata": {},
     "output_type": "display_data"
    }
   ],
   "source": [
    "count_by_sensor = grouped_by_sensor.size()\n",
    "display(count_by_sensor)"
   ]
  },
  {
   "cell_type": "code",
   "execution_count": 17,
   "id": "ce4570fa",
   "metadata": {},
   "outputs": [],
   "source": [
    "#sensor type data extraction function\n",
    "def extractionFunction(files, sensor_type):\n",
    "    data = pd.DataFrame()\n",
    "    for f in onlyfiles:\n",
    "        file = join(mypath, f)\n",
    "        day = pd.read_csv(file)\n",
    "        day_by_sensor = day[day['type'] == sensor_type]\n",
    "        data = data.append(day_by_sensor, ignore_index=True)\n",
    "        print(file)\n",
    "    print('Done')\n",
    "    return data"
   ]
  },
  {
   "cell_type": "code",
   "execution_count": 49,
   "id": "ff5cd2bb",
   "metadata": {},
   "outputs": [],
   "source": [
    "#sensor type and serial number data extraction function\n",
    "def extractionFunction(files, sensor_type, train_serial_number_list, test_serial_number_list):\n",
    "    train_data = pd.DataFrame()\n",
    "    test_data = pd.DataFrame()\n",
    "    for f in onlyfiles:\n",
    "        file = join(mypath, f)\n",
    "        day = pd.read_csv(file)\n",
    "        train_day = day[(day['type'] == sensor_type) & (day['serial_number'].isin(train_serial_number_list))]\n",
    "        test_day = day[(day['type'] == sensor_type) & (day['serial_number'].isin(test_serial_number_list))]\n",
    "        train_data = train_data.append(train_day, ignore_index=True)\n",
    "        test_data = test_data.append(test_day, ignore_index=True)\n",
    "        print(file)\n",
    "    print('Done')\n",
    "    return train_data,test_data"
   ]
  },
  {
   "cell_type": "code",
   "execution_count": 42,
   "id": "6fb1e614",
   "metadata": {},
   "outputs": [
    {
     "data": {
      "text/plain": [
       "(48,)"
      ]
     },
     "execution_count": 42,
     "metadata": {},
     "output_type": "execute_result"
    }
   ],
   "source": [
    "#filtering rows and columns\n",
    "DT01ACA300_sensor_serials = data.loc[data['type'] == 'DT01ACA300', 'serial_number'].unique()\n",
    "DT01ACA300_sensor_serials.shape"
   ]
  },
  {
   "cell_type": "code",
   "execution_count": 36,
   "id": "df9a5e67",
   "metadata": {},
   "outputs": [
    {
     "data": {
      "text/plain": [
       "array(['13H87YWAS', 'Z262EVJAS', 'Z252A7MAS', 'Z252A55AS', 'Z252A59AS',\n",
       "       '13H6A21GS', 'Z262JRNAS', 'Z252MP6AS', 'Z262JRXAS', '13H85BMGS',\n",
       "       'Z252MY8AS', '13H89KSGS', 'Z252N0WAS', '13H8B3SGS', 'Z252A47AS',\n",
       "       'Z252E8NAS', 'Z262A0JAS', 'Z262E7VAS', 'Z252E3ZAS', 'Z262E7ZAS',\n",
       "       'Z2529ZDAS', '13H8D70AS', '13H89U2GS', 'Z262JG9AS', 'Z252A0ZAS',\n",
       "       'Z262A16AS', '13H883WAS', 'Z262G0UAS', 'Z252MWSAS', 'Z262E92AS',\n",
       "       'Z252JSPAS', 'Z2623WBAS', 'Z262A2AAS'], dtype=object)"
      ]
     },
     "metadata": {},
     "output_type": "display_data"
    },
    {
     "data": {
      "text/plain": [
       "array(['13H8B2RGS', 'Z2623ZGAS', 'Z262JM4AS', '13H2B97AS', 'Z252MZ8AS',\n",
       "       '13H7X2HAS', 'Z262A0TAS', 'Z262G13AS', 'Z252A53AS', '13H32WEAS',\n",
       "       'Z252A30AS', 'Z252EGAAS', 'Z262A7AAS', '13H8AB0GS', 'Z262G2UAS'],\n",
       "      dtype=object)"
      ]
     },
     "metadata": {},
     "output_type": "display_data"
    }
   ],
   "source": [
    "from sklearn.model_selection import train_test_split\n",
    "train_serials,test_serials = train_test_split(DT01ACA300_sensor_serials, train_size = 0.7, random_state = 42)\n",
    "display(train_serials,test_serials)"
   ]
  },
  {
   "cell_type": "code",
   "execution_count": 50,
   "id": "5c1438b0",
   "metadata": {},
   "outputs": [
    {
     "name": "stdout",
     "output_type": "stream",
     "text": [
      "/opt/notebooks/Sensors/infinum/2020_sensor_data/2020-05-12.csv\n",
      "/opt/notebooks/Sensors/infinum/2020_sensor_data/2020-01-10.csv\n",
      "/opt/notebooks/Sensors/infinum/2020_sensor_data/2020-06-10.csv\n",
      "/opt/notebooks/Sensors/infinum/2020_sensor_data/2020-06-23.csv\n",
      "/opt/notebooks/Sensors/infinum/2020_sensor_data/2020-03-03.csv\n",
      "/opt/notebooks/Sensors/infinum/2020_sensor_data/2020-06-07.csv\n",
      "/opt/notebooks/Sensors/infinum/2020_sensor_data/2020-01-19.csv\n",
      "/opt/notebooks/Sensors/infinum/2020_sensor_data/2020-01-28.csv\n",
      "/opt/notebooks/Sensors/infinum/2020_sensor_data/2020-03-27.csv\n",
      "/opt/notebooks/Sensors/infinum/2020_sensor_data/2020-03-14.csv\n",
      "/opt/notebooks/Sensors/infinum/2020_sensor_data/2020-04-16.csv\n",
      "/opt/notebooks/Sensors/infinum/2020_sensor_data/2020-06-13.csv\n",
      "/opt/notebooks/Sensors/infinum/2020_sensor_data/2020-03-02.csv\n",
      "/opt/notebooks/Sensors/infinum/2020_sensor_data/2020-03-06.csv\n",
      "/opt/notebooks/Sensors/infinum/2020_sensor_data/2020-06-12.csv\n",
      "/opt/notebooks/Sensors/infinum/2020_sensor_data/2020-02-11.csv\n",
      "/opt/notebooks/Sensors/infinum/2020_sensor_data/2020-04-23.csv\n",
      "/opt/notebooks/Sensors/infinum/2020_sensor_data/2020-02-03.csv\n",
      "/opt/notebooks/Sensors/infinum/2020_sensor_data/2020-01-15.csv\n",
      "/opt/notebooks/Sensors/infinum/2020_sensor_data/2020-01-13.csv\n",
      "/opt/notebooks/Sensors/infinum/2020_sensor_data/2020-05-17.csv\n",
      "/opt/notebooks/Sensors/infinum/2020_sensor_data/2020-01-27.csv\n",
      "/opt/notebooks/Sensors/infinum/2020_sensor_data/2020-05-10.csv\n",
      "/opt/notebooks/Sensors/infinum/2020_sensor_data/2020-01-25.csv\n",
      "/opt/notebooks/Sensors/infinum/2020_sensor_data/2020-01-02.csv\n",
      "/opt/notebooks/Sensors/infinum/2020_sensor_data/2020-06-06.csv\n",
      "/opt/notebooks/Sensors/infinum/2020_sensor_data/2020-05-24.csv\n",
      "/opt/notebooks/Sensors/infinum/2020_sensor_data/2020-02-27.csv\n",
      "/opt/notebooks/Sensors/infinum/2020_sensor_data/2020-05-14.csv\n",
      "/opt/notebooks/Sensors/infinum/2020_sensor_data/2020-03-11.csv\n",
      "/opt/notebooks/Sensors/infinum/2020_sensor_data/2020-02-08.csv\n",
      "/opt/notebooks/Sensors/infinum/2020_sensor_data/2020-03-19.csv\n",
      "/opt/notebooks/Sensors/infinum/2020_sensor_data/2020-01-14.csv\n",
      "/opt/notebooks/Sensors/infinum/2020_sensor_data/2020-03-29.csv\n",
      "/opt/notebooks/Sensors/infinum/2020_sensor_data/2020-01-04.csv\n",
      "/opt/notebooks/Sensors/infinum/2020_sensor_data/2020-01-23.csv\n",
      "/opt/notebooks/Sensors/infinum/2020_sensor_data/2020-06-03.csv\n",
      "/opt/notebooks/Sensors/infinum/2020_sensor_data/2020-04-29.csv\n",
      "/opt/notebooks/Sensors/infinum/2020_sensor_data/2020-01-30.csv\n",
      "/opt/notebooks/Sensors/infinum/2020_sensor_data/2020-02-02.csv\n",
      "/opt/notebooks/Sensors/infinum/2020_sensor_data/2020-06-17.csv\n",
      "/opt/notebooks/Sensors/infinum/2020_sensor_data/2020-01-11.csv\n",
      "/opt/notebooks/Sensors/infinum/2020_sensor_data/2020-06-09.csv\n",
      "/opt/notebooks/Sensors/infinum/2020_sensor_data/2020-02-21.csv\n",
      "/opt/notebooks/Sensors/infinum/2020_sensor_data/2020-03-25.csv\n",
      "/opt/notebooks/Sensors/infinum/2020_sensor_data/2020-01-20.csv\n",
      "/opt/notebooks/Sensors/infinum/2020_sensor_data/2020-06-05.csv\n",
      "/opt/notebooks/Sensors/infinum/2020_sensor_data/2020-02-19.csv\n",
      "/opt/notebooks/Sensors/infinum/2020_sensor_data/2020-06-04.csv\n",
      "/opt/notebooks/Sensors/infinum/2020_sensor_data/2020-03-09.csv\n",
      "/opt/notebooks/Sensors/infinum/2020_sensor_data/2020-03-15.csv\n",
      "/opt/notebooks/Sensors/infinum/2020_sensor_data/2020-03-20.csv\n",
      "/opt/notebooks/Sensors/infinum/2020_sensor_data/2020-01-18.csv\n",
      "/opt/notebooks/Sensors/infinum/2020_sensor_data/2020-05-04.csv\n",
      "/opt/notebooks/Sensors/infinum/2020_sensor_data/2020-02-01.csv\n",
      "/opt/notebooks/Sensors/infinum/2020_sensor_data/2020-04-22.csv\n",
      "/opt/notebooks/Sensors/infinum/2020_sensor_data/2020-04-10.csv\n",
      "/opt/notebooks/Sensors/infinum/2020_sensor_data/2020-05-18.csv\n",
      "/opt/notebooks/Sensors/infinum/2020_sensor_data/2020-06-08.csv\n",
      "/opt/notebooks/Sensors/infinum/2020_sensor_data/2020-04-09.csv\n",
      "/opt/notebooks/Sensors/infinum/2020_sensor_data/2020-03-26.csv\n",
      "/opt/notebooks/Sensors/infinum/2020_sensor_data/2020-02-10.csv\n",
      "/opt/notebooks/Sensors/infinum/2020_sensor_data/2020-04-03.csv\n",
      "/opt/notebooks/Sensors/infinum/2020_sensor_data/2020-04-15.csv\n",
      "/opt/notebooks/Sensors/infinum/2020_sensor_data/2020-04-08.csv\n",
      "/opt/notebooks/Sensors/infinum/2020_sensor_data/2020-02-12.csv\n",
      "/opt/notebooks/Sensors/infinum/2020_sensor_data/2020-05-01.csv\n",
      "/opt/notebooks/Sensors/infinum/2020_sensor_data/2020-04-13.csv\n",
      "/opt/notebooks/Sensors/infinum/2020_sensor_data/2020-04-02.csv\n",
      "/opt/notebooks/Sensors/infinum/2020_sensor_data/2020-05-13.csv\n",
      "/opt/notebooks/Sensors/infinum/2020_sensor_data/2020-06-14.csv\n",
      "/opt/notebooks/Sensors/infinum/2020_sensor_data/2020-03-28.csv\n",
      "/opt/notebooks/Sensors/infinum/2020_sensor_data/2020-03-08.csv\n",
      "/opt/notebooks/Sensors/infinum/2020_sensor_data/2020-05-07.csv\n",
      "/opt/notebooks/Sensors/infinum/2020_sensor_data/2020-02-04.csv\n",
      "/opt/notebooks/Sensors/infinum/2020_sensor_data/2020-04-06.csv\n",
      "/opt/notebooks/Sensors/infinum/2020_sensor_data/2020-05-06.csv\n",
      "/opt/notebooks/Sensors/infinum/2020_sensor_data/2020-06-21.csv\n",
      "/opt/notebooks/Sensors/infinum/2020_sensor_data/2020-05-19.csv\n",
      "/opt/notebooks/Sensors/infinum/2020_sensor_data/2020-02-13.csv\n",
      "/opt/notebooks/Sensors/infinum/2020_sensor_data/2020-03-30.csv\n",
      "/opt/notebooks/Sensors/infinum/2020_sensor_data/2020-03-21.csv\n",
      "/opt/notebooks/Sensors/infinum/2020_sensor_data/2020-05-03.csv\n",
      "/opt/notebooks/Sensors/infinum/2020_sensor_data/2020-01-24.csv\n",
      "/opt/notebooks/Sensors/infinum/2020_sensor_data/2020-06-22.csv\n",
      "/opt/notebooks/Sensors/infinum/2020_sensor_data/2020-01-09.csv\n",
      "/opt/notebooks/Sensors/infinum/2020_sensor_data/2020-01-31.csv\n",
      "/opt/notebooks/Sensors/infinum/2020_sensor_data/2020-04-14.csv\n",
      "/opt/notebooks/Sensors/infinum/2020_sensor_data/2020-04-07.csv\n",
      "/opt/notebooks/Sensors/infinum/2020_sensor_data/2020-05-05.csv\n",
      "/opt/notebooks/Sensors/infinum/2020_sensor_data/2020-02-20.csv\n",
      "/opt/notebooks/Sensors/infinum/2020_sensor_data/2020-04-20.csv\n",
      "/opt/notebooks/Sensors/infinum/2020_sensor_data/2020-02-15.csv\n",
      "/opt/notebooks/Sensors/infinum/2020_sensor_data/2020-05-16.csv\n",
      "/opt/notebooks/Sensors/infinum/2020_sensor_data/2020-01-08.csv\n",
      "/opt/notebooks/Sensors/infinum/2020_sensor_data/2020-03-04.csv\n",
      "/opt/notebooks/Sensors/infinum/2020_sensor_data/2020-05-02.csv\n",
      "/opt/notebooks/Sensors/infinum/2020_sensor_data/2020-03-23.csv\n",
      "/opt/notebooks/Sensors/infinum/2020_sensor_data/2020-02-14.csv\n",
      "/opt/notebooks/Sensors/infinum/2020_sensor_data/2020-03-10.csv\n",
      "/opt/notebooks/Sensors/infinum/2020_sensor_data/2020-05-22.csv\n",
      "/opt/notebooks/Sensors/infinum/2020_sensor_data/2020-02-05.csv\n",
      "/opt/notebooks/Sensors/infinum/2020_sensor_data/2020-04-26.csv\n",
      "/opt/notebooks/Sensors/infinum/2020_sensor_data/2020-06-01.csv\n",
      "/opt/notebooks/Sensors/infinum/2020_sensor_data/2020-02-28.csv\n",
      "/opt/notebooks/Sensors/infinum/2020_sensor_data/2020-02-17.csv\n",
      "/opt/notebooks/Sensors/infinum/2020_sensor_data/2020-04-24.csv\n",
      "/opt/notebooks/Sensors/infinum/2020_sensor_data/2020-03-12.csv\n",
      "/opt/notebooks/Sensors/infinum/2020_sensor_data/2020-05-11.csv\n",
      "/opt/notebooks/Sensors/infinum/2020_sensor_data/2020-06-11.csv\n",
      "/opt/notebooks/Sensors/infinum/2020_sensor_data/2020-02-16.csv\n",
      "/opt/notebooks/Sensors/infinum/2020_sensor_data/2020-06-18.csv\n",
      "/opt/notebooks/Sensors/infinum/2020_sensor_data/2020-01-12.csv\n",
      "/opt/notebooks/Sensors/infinum/2020_sensor_data/2020-02-22.csv\n",
      "/opt/notebooks/Sensors/infinum/2020_sensor_data/2020-02-25.csv\n",
      "/opt/notebooks/Sensors/infinum/2020_sensor_data/2020-05-28.csv\n",
      "/opt/notebooks/Sensors/infinum/2020_sensor_data/2020-05-21.csv\n",
      "/opt/notebooks/Sensors/infinum/2020_sensor_data/2020-03-05.csv\n",
      "/opt/notebooks/Sensors/infinum/2020_sensor_data/2020-05-08.csv\n",
      "/opt/notebooks/Sensors/infinum/2020_sensor_data/2020-01-05.csv\n",
      "/opt/notebooks/Sensors/infinum/2020_sensor_data/2020-01-21.csv\n",
      "/opt/notebooks/Sensors/infinum/2020_sensor_data/2020-03-07.csv\n",
      "/opt/notebooks/Sensors/infinum/2020_sensor_data/2020-05-25.csv\n",
      "/opt/notebooks/Sensors/infinum/2020_sensor_data/2020-03-24.csv\n",
      "/opt/notebooks/Sensors/infinum/2020_sensor_data/2020-06-19.csv\n",
      "/opt/notebooks/Sensors/infinum/2020_sensor_data/2020-03-01.csv\n",
      "/opt/notebooks/Sensors/infinum/2020_sensor_data/2020-03-31.csv\n",
      "/opt/notebooks/Sensors/infinum/2020_sensor_data/2020-04-19.csv\n",
      "/opt/notebooks/Sensors/infinum/2020_sensor_data/2020-03-22.csv\n",
      "/opt/notebooks/Sensors/infinum/2020_sensor_data/2020-03-13.csv\n",
      "/opt/notebooks/Sensors/infinum/2020_sensor_data/2020-05-30.csv\n"
     ]
    },
    {
     "name": "stdout",
     "output_type": "stream",
     "text": [
      "/opt/notebooks/Sensors/infinum/2020_sensor_data/2020-02-23.csv\n",
      "/opt/notebooks/Sensors/infinum/2020_sensor_data/2020-04-28.csv\n",
      "/opt/notebooks/Sensors/infinum/2020_sensor_data/2020-05-29.csv\n",
      "/opt/notebooks/Sensors/infinum/2020_sensor_data/2020-03-16.csv\n",
      "/opt/notebooks/Sensors/infinum/2020_sensor_data/2020-06-20.csv\n",
      "/opt/notebooks/Sensors/infinum/2020_sensor_data/2020-04-17.csv\n",
      "/opt/notebooks/Sensors/infinum/2020_sensor_data/2020-05-31.csv\n",
      "/opt/notebooks/Sensors/infinum/2020_sensor_data/2020-04-27.csv\n",
      "/opt/notebooks/Sensors/infinum/2020_sensor_data/2020-01-07.csv\n",
      "/opt/notebooks/Sensors/infinum/2020_sensor_data/2020-05-23.csv\n",
      "/opt/notebooks/Sensors/infinum/2020_sensor_data/2020-03-18.csv\n",
      "/opt/notebooks/Sensors/infinum/2020_sensor_data/2020-02-07.csv\n",
      "/opt/notebooks/Sensors/infinum/2020_sensor_data/2020-01-29.csv\n",
      "/opt/notebooks/Sensors/infinum/2020_sensor_data/2020-04-25.csv\n",
      "/opt/notebooks/Sensors/infinum/2020_sensor_data/2020-04-30.csv\n",
      "/opt/notebooks/Sensors/infinum/2020_sensor_data/2020-01-16.csv\n",
      "/opt/notebooks/Sensors/infinum/2020_sensor_data/2020-04-21.csv\n",
      "/opt/notebooks/Sensors/infinum/2020_sensor_data/2020-05-20.csv\n",
      "/opt/notebooks/Sensors/infinum/2020_sensor_data/2020-01-26.csv\n",
      "/opt/notebooks/Sensors/infinum/2020_sensor_data/2020-04-12.csv\n",
      "/opt/notebooks/Sensors/infinum/2020_sensor_data/2020-02-06.csv\n",
      "/opt/notebooks/Sensors/infinum/2020_sensor_data/2020-02-26.csv\n",
      "/opt/notebooks/Sensors/infinum/2020_sensor_data/2020-04-18.csv\n",
      "/opt/notebooks/Sensors/infinum/2020_sensor_data/2020-01-06.csv\n",
      "/opt/notebooks/Sensors/infinum/2020_sensor_data/2020-06-02.csv\n",
      "/opt/notebooks/Sensors/infinum/2020_sensor_data/2020-06-16.csv\n",
      "/opt/notebooks/Sensors/infinum/2020_sensor_data/2020-04-11.csv\n",
      "/opt/notebooks/Sensors/infinum/2020_sensor_data/2020-01-03.csv\n",
      "/opt/notebooks/Sensors/infinum/2020_sensor_data/2020-05-09.csv\n",
      "/opt/notebooks/Sensors/infinum/2020_sensor_data/2020-02-24.csv\n",
      "/opt/notebooks/Sensors/infinum/2020_sensor_data/2020-02-09.csv\n",
      "/opt/notebooks/Sensors/infinum/2020_sensor_data/2020-02-29.csv\n",
      "/opt/notebooks/Sensors/infinum/2020_sensor_data/2020-04-05.csv\n",
      "/opt/notebooks/Sensors/infinum/2020_sensor_data/2020-01-17.csv\n",
      "/opt/notebooks/Sensors/infinum/2020_sensor_data/2020-01-01.csv\n",
      "/opt/notebooks/Sensors/infinum/2020_sensor_data/2020-03-17.csv\n",
      "/opt/notebooks/Sensors/infinum/2020_sensor_data/2020-05-26.csv\n",
      "/opt/notebooks/Sensors/infinum/2020_sensor_data/2020-05-15.csv\n",
      "/opt/notebooks/Sensors/infinum/2020_sensor_data/2020-04-04.csv\n",
      "/opt/notebooks/Sensors/infinum/2020_sensor_data/2020-06-15.csv\n",
      "/opt/notebooks/Sensors/infinum/2020_sensor_data/2020-01-22.csv\n",
      "/opt/notebooks/Sensors/infinum/2020_sensor_data/2020-02-18.csv\n",
      "/opt/notebooks/Sensors/infinum/2020_sensor_data/2020-04-01.csv\n",
      "/opt/notebooks/Sensors/infinum/2020_sensor_data/2020-05-27.csv\n",
      "Done\n"
     ]
    },
    {
     "data": {
      "text/plain": [
       "(5604, 95)"
      ]
     },
     "metadata": {},
     "output_type": "display_data"
    },
    {
     "data": {
      "text/plain": [
       "(2557, 95)"
      ]
     },
     "metadata": {},
     "output_type": "display_data"
    }
   ],
   "source": [
    "DT01ACA300_train,DT01ACA300_test = extractionFunction(onlyfiles, 'DT01ACA300', train_serials, test_serials)\n",
    "display(DT01ACA300_train.shape, DT01ACA300_test.shape)"
   ]
  },
  {
   "cell_type": "code",
   "execution_count": 52,
   "id": "f879c198",
   "metadata": {},
   "outputs": [
    {
     "data": {
      "text/html": [
       "<div>\n",
       "<style scoped>\n",
       "    .dataframe tbody tr th:only-of-type {\n",
       "        vertical-align: middle;\n",
       "    }\n",
       "\n",
       "    .dataframe tbody tr th {\n",
       "        vertical-align: top;\n",
       "    }\n",
       "\n",
       "    .dataframe thead th {\n",
       "        text-align: right;\n",
       "    }\n",
       "</style>\n",
       "<table border=\"1\" class=\"dataframe\">\n",
       "  <thead>\n",
       "    <tr style=\"text-align: right;\">\n",
       "      <th></th>\n",
       "      <th>date</th>\n",
       "      <th>serial_number</th>\n",
       "      <th>type</th>\n",
       "      <th>capacity</th>\n",
       "      <th>failure</th>\n",
       "      <th>stat_1_normalized</th>\n",
       "      <th>stat_1_raw</th>\n",
       "      <th>stat_2_normalized</th>\n",
       "      <th>stat_2_raw</th>\n",
       "      <th>stat_3_normalized</th>\n",
       "      <th>...</th>\n",
       "      <th>stat_250_normalized</th>\n",
       "      <th>stat_250_raw</th>\n",
       "      <th>stat_251_normalized</th>\n",
       "      <th>stat_251_raw</th>\n",
       "      <th>stat_252_normalized</th>\n",
       "      <th>stat_252_raw</th>\n",
       "      <th>stat_254_normalized</th>\n",
       "      <th>stat_254_raw</th>\n",
       "      <th>stat_255_normalized</th>\n",
       "      <th>stat_255_raw</th>\n",
       "    </tr>\n",
       "  </thead>\n",
       "  <tbody>\n",
       "    <tr>\n",
       "      <th>2311</th>\n",
       "      <td>2020-03-08</td>\n",
       "      <td>Z262JRXAS</td>\n",
       "      <td>DT01ACA300</td>\n",
       "      <td>3000592982016</td>\n",
       "      <td>1</td>\n",
       "      <td>86.0</td>\n",
       "      <td>4653147.0</td>\n",
       "      <td>138.0</td>\n",
       "      <td>74.0</td>\n",
       "      <td>133.0</td>\n",
       "      <td>...</td>\n",
       "      <td>NaN</td>\n",
       "      <td>NaN</td>\n",
       "      <td>NaN</td>\n",
       "      <td>NaN</td>\n",
       "      <td>NaN</td>\n",
       "      <td>NaN</td>\n",
       "      <td>NaN</td>\n",
       "      <td>NaN</td>\n",
       "      <td>NaN</td>\n",
       "      <td>NaN</td>\n",
       "    </tr>\n",
       "    <tr>\n",
       "      <th>2937</th>\n",
       "      <td>2020-04-20</td>\n",
       "      <td>13H883WAS</td>\n",
       "      <td>DT01ACA300</td>\n",
       "      <td>3000592982016</td>\n",
       "      <td>1</td>\n",
       "      <td>99.0</td>\n",
       "      <td>65538.0</td>\n",
       "      <td>100.0</td>\n",
       "      <td>0.0</td>\n",
       "      <td>132.0</td>\n",
       "      <td>...</td>\n",
       "      <td>NaN</td>\n",
       "      <td>NaN</td>\n",
       "      <td>NaN</td>\n",
       "      <td>NaN</td>\n",
       "      <td>NaN</td>\n",
       "      <td>NaN</td>\n",
       "      <td>NaN</td>\n",
       "      <td>NaN</td>\n",
       "      <td>NaN</td>\n",
       "      <td>NaN</td>\n",
       "    </tr>\n",
       "  </tbody>\n",
       "</table>\n",
       "<p>2 rows × 95 columns</p>\n",
       "</div>"
      ],
      "text/plain": [
       "            date serial_number        type       capacity  failure  \\\n",
       "2311  2020-03-08     Z262JRXAS  DT01ACA300  3000592982016        1   \n",
       "2937  2020-04-20     13H883WAS  DT01ACA300  3000592982016        1   \n",
       "\n",
       "      stat_1_normalized  stat_1_raw  stat_2_normalized  stat_2_raw  \\\n",
       "2311               86.0   4653147.0              138.0        74.0   \n",
       "2937               99.0     65538.0              100.0         0.0   \n",
       "\n",
       "      stat_3_normalized  ...  stat_250_normalized  stat_250_raw  \\\n",
       "2311              133.0  ...                  NaN           NaN   \n",
       "2937              132.0  ...                  NaN           NaN   \n",
       "\n",
       "      stat_251_normalized  stat_251_raw  stat_252_normalized  stat_252_raw  \\\n",
       "2311                  NaN           NaN                  NaN           NaN   \n",
       "2937                  NaN           NaN                  NaN           NaN   \n",
       "\n",
       "      stat_254_normalized  stat_254_raw  stat_255_normalized  stat_255_raw  \n",
       "2311                  NaN           NaN                  NaN           NaN  \n",
       "2937                  NaN           NaN                  NaN           NaN  \n",
       "\n",
       "[2 rows x 95 columns]"
      ]
     },
     "execution_count": 52,
     "metadata": {},
     "output_type": "execute_result"
    },
    {
     "data": {
      "image/png": "[encoded data removed]",
      "text/plain": [
       "<Figure size 432x288 with 1 Axes>"
      ]
     },
     "metadata": {
      "needs_background": "light"
     },
     "output_type": "display_data"
    }
   ],
   "source": [
    "DT01ACA300_train['failure'].plot()\n",
    "DT01ACA300_train[DT01ACA300_train['failure'] == 1]"
   ]
  },
  {
   "cell_type": "code",
   "execution_count": 54,
   "id": "db33816a",
   "metadata": {},
   "outputs": [
    {
     "data": {
      "text/html": [
       "<div>\n",
       "<style scoped>\n",
       "    .dataframe tbody tr th:only-of-type {\n",
       "        vertical-align: middle;\n",
       "    }\n",
       "\n",
       "    .dataframe tbody tr th {\n",
       "        vertical-align: top;\n",
       "    }\n",
       "\n",
       "    .dataframe thead th {\n",
       "        text-align: right;\n",
       "    }\n",
       "</style>\n",
       "<table border=\"1\" class=\"dataframe\">\n",
       "  <thead>\n",
       "    <tr style=\"text-align: right;\">\n",
       "      <th></th>\n",
       "      <th>date</th>\n",
       "      <th>serial_number</th>\n",
       "      <th>type</th>\n",
       "      <th>capacity</th>\n",
       "      <th>failure</th>\n",
       "      <th>stat_1_normalized</th>\n",
       "      <th>stat_1_raw</th>\n",
       "      <th>stat_2_normalized</th>\n",
       "      <th>stat_2_raw</th>\n",
       "      <th>stat_3_normalized</th>\n",
       "      <th>...</th>\n",
       "      <th>stat_250_normalized</th>\n",
       "      <th>stat_250_raw</th>\n",
       "      <th>stat_251_normalized</th>\n",
       "      <th>stat_251_raw</th>\n",
       "      <th>stat_252_normalized</th>\n",
       "      <th>stat_252_raw</th>\n",
       "      <th>stat_254_normalized</th>\n",
       "      <th>stat_254_raw</th>\n",
       "      <th>stat_255_normalized</th>\n",
       "      <th>stat_255_raw</th>\n",
       "    </tr>\n",
       "  </thead>\n",
       "  <tbody>\n",
       "  </tbody>\n",
       "</table>\n",
       "<p>0 rows × 95 columns</p>\n",
       "</div>"
      ],
      "text/plain": [
       "Empty DataFrame\n",
       "Columns: [date, serial_number, type, capacity, failure, stat_1_normalized, stat_1_raw, stat_2_normalized, stat_2_raw, stat_3_normalized, stat_3_raw, stat_4_normalized, stat_4_raw, stat_5_normalized, stat_5_raw, stat_7_normalized, stat_7_raw, stat_8_normalized, stat_8_raw, stat_9_normalized, stat_9_raw, stat_10_normalized, stat_10_raw, stat_11_normalized, stat_11_raw, stat_12_normalized, stat_12_raw, stat_13_normalized, stat_13_raw, stat_15_normalized, stat_15_raw, stat_22_normalized, stat_22_raw, stat_183_normalized, stat_183_raw, stat_184_normalized, stat_184_raw, stat_187_normalized, stat_187_raw, stat_188_normalized, stat_188_raw, stat_189_normalized, stat_189_raw, stat_190_normalized, stat_190_raw, stat_191_normalized, stat_191_raw, stat_192_normalized, stat_192_raw, stat_193_normalized, stat_193_raw, stat_194_normalized, stat_194_raw, stat_195_normalized, stat_195_raw, stat_196_normalized, stat_196_raw, stat_197_normalized, stat_197_raw, stat_198_normalized, stat_198_raw, stat_199_normalized, stat_199_raw, stat_200_normalized, stat_200_raw, stat_201_normalized, stat_201_raw, stat_220_normalized, stat_220_raw, stat_222_normalized, stat_222_raw, stat_223_normalized, stat_223_raw, stat_224_normalized, stat_224_raw, stat_225_normalized, stat_225_raw, stat_226_normalized, stat_226_raw, stat_240_normalized, stat_240_raw, stat_241_normalized, stat_241_raw, stat_242_normalized, stat_242_raw, stat_250_normalized, stat_250_raw, stat_251_normalized, stat_251_raw, stat_252_normalized, stat_252_raw, stat_254_normalized, stat_254_raw, stat_255_normalized, stat_255_raw]\n",
       "Index: []\n",
       "\n",
       "[0 rows x 95 columns]"
      ]
     },
     "execution_count": 54,
     "metadata": {},
     "output_type": "execute_result"
    },
    {
     "data": {
      "image/png": "[encoded data removed]",
      "text/plain": [
       "<Figure size 432x288 with 1 Axes>"
      ]
     },
     "metadata": {
      "needs_background": "light"
     },
     "output_type": "display_data"
    }
   ],
   "source": [
    "DT01ACA300_test['failure'].plot()\n",
    "DT01ACA300_test[DT01ACA300_test['failure'] == 1]"
   ]
  },
  {
   "cell_type": "code",
   "execution_count": 56,
   "id": "4d5d70db",
   "metadata": {},
   "outputs": [
    {
     "name": "stdout",
     "output_type": "stream",
     "text": [
      "/opt/notebooks/Sensors/infinum/2020_sensor_data/2020-05-12.csv\n",
      "/opt/notebooks/Sensors/infinum/2020_sensor_data/2020-01-10.csv\n",
      "/opt/notebooks/Sensors/infinum/2020_sensor_data/2020-06-10.csv\n",
      "/opt/notebooks/Sensors/infinum/2020_sensor_data/2020-06-23.csv\n",
      "/opt/notebooks/Sensors/infinum/2020_sensor_data/2020-03-03.csv\n",
      "/opt/notebooks/Sensors/infinum/2020_sensor_data/2020-06-07.csv\n",
      "/opt/notebooks/Sensors/infinum/2020_sensor_data/2020-01-19.csv\n",
      "/opt/notebooks/Sensors/infinum/2020_sensor_data/2020-01-28.csv\n",
      "/opt/notebooks/Sensors/infinum/2020_sensor_data/2020-03-27.csv\n",
      "/opt/notebooks/Sensors/infinum/2020_sensor_data/2020-03-14.csv\n",
      "/opt/notebooks/Sensors/infinum/2020_sensor_data/2020-04-16.csv\n",
      "/opt/notebooks/Sensors/infinum/2020_sensor_data/2020-06-13.csv\n",
      "/opt/notebooks/Sensors/infinum/2020_sensor_data/2020-03-02.csv\n",
      "/opt/notebooks/Sensors/infinum/2020_sensor_data/2020-03-06.csv\n",
      "/opt/notebooks/Sensors/infinum/2020_sensor_data/2020-06-12.csv\n",
      "/opt/notebooks/Sensors/infinum/2020_sensor_data/2020-02-11.csv\n",
      "/opt/notebooks/Sensors/infinum/2020_sensor_data/2020-04-23.csv\n",
      "/opt/notebooks/Sensors/infinum/2020_sensor_data/2020-02-03.csv\n",
      "/opt/notebooks/Sensors/infinum/2020_sensor_data/2020-01-15.csv\n",
      "/opt/notebooks/Sensors/infinum/2020_sensor_data/2020-01-13.csv\n",
      "/opt/notebooks/Sensors/infinum/2020_sensor_data/2020-05-17.csv\n",
      "/opt/notebooks/Sensors/infinum/2020_sensor_data/2020-01-27.csv\n",
      "/opt/notebooks/Sensors/infinum/2020_sensor_data/2020-05-10.csv\n",
      "/opt/notebooks/Sensors/infinum/2020_sensor_data/2020-01-25.csv\n",
      "/opt/notebooks/Sensors/infinum/2020_sensor_data/2020-01-02.csv\n",
      "/opt/notebooks/Sensors/infinum/2020_sensor_data/2020-06-06.csv\n",
      "/opt/notebooks/Sensors/infinum/2020_sensor_data/2020-05-24.csv\n",
      "/opt/notebooks/Sensors/infinum/2020_sensor_data/2020-02-27.csv\n",
      "/opt/notebooks/Sensors/infinum/2020_sensor_data/2020-05-14.csv\n",
      "/opt/notebooks/Sensors/infinum/2020_sensor_data/2020-03-11.csv\n",
      "/opt/notebooks/Sensors/infinum/2020_sensor_data/2020-02-08.csv\n",
      "/opt/notebooks/Sensors/infinum/2020_sensor_data/2020-03-19.csv\n",
      "/opt/notebooks/Sensors/infinum/2020_sensor_data/2020-01-14.csv\n",
      "/opt/notebooks/Sensors/infinum/2020_sensor_data/2020-03-29.csv\n",
      "/opt/notebooks/Sensors/infinum/2020_sensor_data/2020-01-04.csv\n",
      "/opt/notebooks/Sensors/infinum/2020_sensor_data/2020-01-23.csv\n",
      "/opt/notebooks/Sensors/infinum/2020_sensor_data/2020-06-03.csv\n",
      "/opt/notebooks/Sensors/infinum/2020_sensor_data/2020-04-29.csv\n",
      "/opt/notebooks/Sensors/infinum/2020_sensor_data/2020-01-30.csv\n",
      "/opt/notebooks/Sensors/infinum/2020_sensor_data/2020-02-02.csv\n",
      "/opt/notebooks/Sensors/infinum/2020_sensor_data/2020-06-17.csv\n",
      "/opt/notebooks/Sensors/infinum/2020_sensor_data/2020-01-11.csv\n",
      "/opt/notebooks/Sensors/infinum/2020_sensor_data/2020-06-09.csv\n",
      "/opt/notebooks/Sensors/infinum/2020_sensor_data/2020-02-21.csv\n",
      "/opt/notebooks/Sensors/infinum/2020_sensor_data/2020-03-25.csv\n",
      "/opt/notebooks/Sensors/infinum/2020_sensor_data/2020-01-20.csv\n",
      "/opt/notebooks/Sensors/infinum/2020_sensor_data/2020-06-05.csv\n",
      "/opt/notebooks/Sensors/infinum/2020_sensor_data/2020-02-19.csv\n",
      "/opt/notebooks/Sensors/infinum/2020_sensor_data/2020-06-04.csv\n",
      "/opt/notebooks/Sensors/infinum/2020_sensor_data/2020-03-09.csv\n",
      "/opt/notebooks/Sensors/infinum/2020_sensor_data/2020-03-15.csv\n",
      "/opt/notebooks/Sensors/infinum/2020_sensor_data/2020-03-20.csv\n",
      "/opt/notebooks/Sensors/infinum/2020_sensor_data/2020-01-18.csv\n",
      "/opt/notebooks/Sensors/infinum/2020_sensor_data/2020-05-04.csv\n",
      "/opt/notebooks/Sensors/infinum/2020_sensor_data/2020-02-01.csv\n",
      "/opt/notebooks/Sensors/infinum/2020_sensor_data/2020-04-22.csv\n",
      "/opt/notebooks/Sensors/infinum/2020_sensor_data/2020-04-10.csv\n",
      "/opt/notebooks/Sensors/infinum/2020_sensor_data/2020-05-18.csv\n",
      "/opt/notebooks/Sensors/infinum/2020_sensor_data/2020-06-08.csv\n",
      "/opt/notebooks/Sensors/infinum/2020_sensor_data/2020-04-09.csv\n",
      "/opt/notebooks/Sensors/infinum/2020_sensor_data/2020-03-26.csv\n",
      "/opt/notebooks/Sensors/infinum/2020_sensor_data/2020-02-10.csv\n",
      "/opt/notebooks/Sensors/infinum/2020_sensor_data/2020-04-03.csv\n",
      "/opt/notebooks/Sensors/infinum/2020_sensor_data/2020-04-15.csv\n",
      "/opt/notebooks/Sensors/infinum/2020_sensor_data/2020-04-08.csv\n",
      "/opt/notebooks/Sensors/infinum/2020_sensor_data/2020-02-12.csv\n",
      "/opt/notebooks/Sensors/infinum/2020_sensor_data/2020-05-01.csv\n",
      "/opt/notebooks/Sensors/infinum/2020_sensor_data/2020-04-13.csv\n",
      "/opt/notebooks/Sensors/infinum/2020_sensor_data/2020-04-02.csv\n",
      "/opt/notebooks/Sensors/infinum/2020_sensor_data/2020-05-13.csv\n",
      "/opt/notebooks/Sensors/infinum/2020_sensor_data/2020-06-14.csv\n",
      "/opt/notebooks/Sensors/infinum/2020_sensor_data/2020-03-28.csv\n",
      "/opt/notebooks/Sensors/infinum/2020_sensor_data/2020-03-08.csv\n",
      "/opt/notebooks/Sensors/infinum/2020_sensor_data/2020-05-07.csv\n",
      "/opt/notebooks/Sensors/infinum/2020_sensor_data/2020-02-04.csv\n",
      "/opt/notebooks/Sensors/infinum/2020_sensor_data/2020-04-06.csv\n",
      "/opt/notebooks/Sensors/infinum/2020_sensor_data/2020-05-06.csv\n",
      "/opt/notebooks/Sensors/infinum/2020_sensor_data/2020-06-21.csv\n",
      "/opt/notebooks/Sensors/infinum/2020_sensor_data/2020-05-19.csv\n",
      "/opt/notebooks/Sensors/infinum/2020_sensor_data/2020-02-13.csv\n",
      "/opt/notebooks/Sensors/infinum/2020_sensor_data/2020-03-30.csv\n",
      "/opt/notebooks/Sensors/infinum/2020_sensor_data/2020-03-21.csv\n",
      "/opt/notebooks/Sensors/infinum/2020_sensor_data/2020-05-03.csv\n",
      "/opt/notebooks/Sensors/infinum/2020_sensor_data/2020-01-24.csv\n",
      "/opt/notebooks/Sensors/infinum/2020_sensor_data/2020-06-22.csv\n",
      "/opt/notebooks/Sensors/infinum/2020_sensor_data/2020-01-09.csv\n",
      "/opt/notebooks/Sensors/infinum/2020_sensor_data/2020-01-31.csv\n",
      "/opt/notebooks/Sensors/infinum/2020_sensor_data/2020-04-14.csv\n",
      "/opt/notebooks/Sensors/infinum/2020_sensor_data/2020-04-07.csv\n",
      "/opt/notebooks/Sensors/infinum/2020_sensor_data/2020-05-05.csv\n",
      "/opt/notebooks/Sensors/infinum/2020_sensor_data/2020-02-20.csv\n",
      "/opt/notebooks/Sensors/infinum/2020_sensor_data/2020-04-20.csv\n",
      "/opt/notebooks/Sensors/infinum/2020_sensor_data/2020-02-15.csv\n",
      "/opt/notebooks/Sensors/infinum/2020_sensor_data/2020-05-16.csv\n",
      "/opt/notebooks/Sensors/infinum/2020_sensor_data/2020-01-08.csv\n",
      "/opt/notebooks/Sensors/infinum/2020_sensor_data/2020-03-04.csv\n",
      "/opt/notebooks/Sensors/infinum/2020_sensor_data/2020-05-02.csv\n",
      "/opt/notebooks/Sensors/infinum/2020_sensor_data/2020-03-23.csv\n",
      "/opt/notebooks/Sensors/infinum/2020_sensor_data/2020-02-14.csv\n",
      "/opt/notebooks/Sensors/infinum/2020_sensor_data/2020-03-10.csv\n",
      "/opt/notebooks/Sensors/infinum/2020_sensor_data/2020-05-22.csv\n",
      "/opt/notebooks/Sensors/infinum/2020_sensor_data/2020-02-05.csv\n",
      "/opt/notebooks/Sensors/infinum/2020_sensor_data/2020-04-26.csv\n",
      "/opt/notebooks/Sensors/infinum/2020_sensor_data/2020-06-01.csv\n",
      "/opt/notebooks/Sensors/infinum/2020_sensor_data/2020-02-28.csv\n",
      "/opt/notebooks/Sensors/infinum/2020_sensor_data/2020-02-17.csv\n",
      "/opt/notebooks/Sensors/infinum/2020_sensor_data/2020-04-24.csv\n",
      "/opt/notebooks/Sensors/infinum/2020_sensor_data/2020-03-12.csv\n",
      "/opt/notebooks/Sensors/infinum/2020_sensor_data/2020-05-11.csv\n",
      "/opt/notebooks/Sensors/infinum/2020_sensor_data/2020-06-11.csv\n",
      "/opt/notebooks/Sensors/infinum/2020_sensor_data/2020-02-16.csv\n",
      "/opt/notebooks/Sensors/infinum/2020_sensor_data/2020-06-18.csv\n",
      "/opt/notebooks/Sensors/infinum/2020_sensor_data/2020-01-12.csv\n",
      "/opt/notebooks/Sensors/infinum/2020_sensor_data/2020-02-22.csv\n",
      "/opt/notebooks/Sensors/infinum/2020_sensor_data/2020-02-25.csv\n",
      "/opt/notebooks/Sensors/infinum/2020_sensor_data/2020-05-28.csv\n",
      "/opt/notebooks/Sensors/infinum/2020_sensor_data/2020-05-21.csv\n",
      "/opt/notebooks/Sensors/infinum/2020_sensor_data/2020-03-05.csv\n",
      "/opt/notebooks/Sensors/infinum/2020_sensor_data/2020-05-08.csv\n",
      "/opt/notebooks/Sensors/infinum/2020_sensor_data/2020-01-05.csv\n",
      "/opt/notebooks/Sensors/infinum/2020_sensor_data/2020-01-21.csv\n",
      "/opt/notebooks/Sensors/infinum/2020_sensor_data/2020-03-07.csv\n",
      "/opt/notebooks/Sensors/infinum/2020_sensor_data/2020-05-25.csv\n",
      "/opt/notebooks/Sensors/infinum/2020_sensor_data/2020-03-24.csv\n",
      "/opt/notebooks/Sensors/infinum/2020_sensor_data/2020-06-19.csv\n",
      "/opt/notebooks/Sensors/infinum/2020_sensor_data/2020-03-01.csv\n",
      "/opt/notebooks/Sensors/infinum/2020_sensor_data/2020-03-31.csv\n",
      "/opt/notebooks/Sensors/infinum/2020_sensor_data/2020-04-19.csv\n",
      "/opt/notebooks/Sensors/infinum/2020_sensor_data/2020-03-22.csv\n",
      "/opt/notebooks/Sensors/infinum/2020_sensor_data/2020-03-13.csv\n",
      "/opt/notebooks/Sensors/infinum/2020_sensor_data/2020-05-30.csv\n"
     ]
    },
    {
     "name": "stdout",
     "output_type": "stream",
     "text": [
      "/opt/notebooks/Sensors/infinum/2020_sensor_data/2020-02-23.csv\n",
      "/opt/notebooks/Sensors/infinum/2020_sensor_data/2020-04-28.csv\n",
      "/opt/notebooks/Sensors/infinum/2020_sensor_data/2020-05-29.csv\n",
      "/opt/notebooks/Sensors/infinum/2020_sensor_data/2020-03-16.csv\n",
      "/opt/notebooks/Sensors/infinum/2020_sensor_data/2020-06-20.csv\n",
      "/opt/notebooks/Sensors/infinum/2020_sensor_data/2020-04-17.csv\n",
      "/opt/notebooks/Sensors/infinum/2020_sensor_data/2020-05-31.csv\n",
      "/opt/notebooks/Sensors/infinum/2020_sensor_data/2020-04-27.csv\n",
      "/opt/notebooks/Sensors/infinum/2020_sensor_data/2020-01-07.csv\n",
      "/opt/notebooks/Sensors/infinum/2020_sensor_data/2020-05-23.csv\n",
      "/opt/notebooks/Sensors/infinum/2020_sensor_data/2020-03-18.csv\n",
      "/opt/notebooks/Sensors/infinum/2020_sensor_data/2020-02-07.csv\n",
      "/opt/notebooks/Sensors/infinum/2020_sensor_data/2020-01-29.csv\n",
      "/opt/notebooks/Sensors/infinum/2020_sensor_data/2020-04-25.csv\n",
      "/opt/notebooks/Sensors/infinum/2020_sensor_data/2020-04-30.csv\n",
      "/opt/notebooks/Sensors/infinum/2020_sensor_data/2020-01-16.csv\n",
      "/opt/notebooks/Sensors/infinum/2020_sensor_data/2020-04-21.csv\n",
      "/opt/notebooks/Sensors/infinum/2020_sensor_data/2020-05-20.csv\n",
      "/opt/notebooks/Sensors/infinum/2020_sensor_data/2020-01-26.csv\n",
      "/opt/notebooks/Sensors/infinum/2020_sensor_data/2020-04-12.csv\n",
      "/opt/notebooks/Sensors/infinum/2020_sensor_data/2020-02-06.csv\n",
      "/opt/notebooks/Sensors/infinum/2020_sensor_data/2020-02-26.csv\n",
      "/opt/notebooks/Sensors/infinum/2020_sensor_data/2020-04-18.csv\n",
      "/opt/notebooks/Sensors/infinum/2020_sensor_data/2020-01-06.csv\n",
      "/opt/notebooks/Sensors/infinum/2020_sensor_data/2020-06-02.csv\n",
      "/opt/notebooks/Sensors/infinum/2020_sensor_data/2020-06-16.csv\n",
      "/opt/notebooks/Sensors/infinum/2020_sensor_data/2020-04-11.csv\n",
      "/opt/notebooks/Sensors/infinum/2020_sensor_data/2020-01-03.csv\n",
      "/opt/notebooks/Sensors/infinum/2020_sensor_data/2020-05-09.csv\n",
      "/opt/notebooks/Sensors/infinum/2020_sensor_data/2020-02-24.csv\n",
      "/opt/notebooks/Sensors/infinum/2020_sensor_data/2020-02-09.csv\n",
      "/opt/notebooks/Sensors/infinum/2020_sensor_data/2020-02-29.csv\n",
      "/opt/notebooks/Sensors/infinum/2020_sensor_data/2020-04-05.csv\n",
      "/opt/notebooks/Sensors/infinum/2020_sensor_data/2020-01-17.csv\n",
      "/opt/notebooks/Sensors/infinum/2020_sensor_data/2020-01-01.csv\n",
      "/opt/notebooks/Sensors/infinum/2020_sensor_data/2020-03-17.csv\n",
      "/opt/notebooks/Sensors/infinum/2020_sensor_data/2020-05-26.csv\n",
      "/opt/notebooks/Sensors/infinum/2020_sensor_data/2020-05-15.csv\n",
      "/opt/notebooks/Sensors/infinum/2020_sensor_data/2020-04-04.csv\n",
      "/opt/notebooks/Sensors/infinum/2020_sensor_data/2020-06-15.csv\n",
      "/opt/notebooks/Sensors/infinum/2020_sensor_data/2020-01-22.csv\n",
      "/opt/notebooks/Sensors/infinum/2020_sensor_data/2020-02-18.csv\n",
      "/opt/notebooks/Sensors/infinum/2020_sensor_data/2020-04-01.csv\n",
      "/opt/notebooks/Sensors/infinum/2020_sensor_data/2020-05-27.csv\n",
      "Done\n"
     ]
    },
    {
     "name": "stderr",
     "output_type": "stream",
     "text": [
      "<ipython-input-56-040d44013390>:7: UserWarning: Boolean Series key will be reindexed to match DataFrame index.\n",
      "  HDS5C4040ALE630_train[DT01ACA300_train['failure'] == 1]\n"
     ]
    },
    {
     "ename": "IndexingError",
     "evalue": "Unalignable boolean Series provided as indexer (index of the boolean Series and of the indexed object do not match).",
     "output_type": "error",
     "traceback": [
      "\u001b[0;31m\u001b[0m",
      "\u001b[0;31mIndexingError\u001b[0mTraceback (most recent call last)",
      "\u001b[0;32m<ipython-input-56-040d44013390>\u001b[0m in \u001b[0;36m<module>\u001b[0;34m\u001b[0m\n\u001b[1;32m      5\u001b[0m \u001b[0mHDS5C4040ALE630_train\u001b[0m\u001b[0;34m,\u001b[0m\u001b[0mHDS5C4040ALE630_test\u001b[0m \u001b[0;34m=\u001b[0m \u001b[0mextractionFunction\u001b[0m\u001b[0;34m(\u001b[0m\u001b[0monlyfiles\u001b[0m\u001b[0;34m,\u001b[0m \u001b[0;34m'HDS5C4040ALE630'\u001b[0m\u001b[0;34m,\u001b[0m \u001b[0mHDS5C4040ALE630_train_serials\u001b[0m\u001b[0;34m,\u001b[0m \u001b[0mHDS5C4040ALE630_test_serials\u001b[0m\u001b[0;34m)\u001b[0m\u001b[0;34m\u001b[0m\u001b[0;34m\u001b[0m\u001b[0m\n\u001b[1;32m      6\u001b[0m \u001b[0mHDS5C4040ALE630_train\u001b[0m\u001b[0;34m[\u001b[0m\u001b[0;34m'failure'\u001b[0m\u001b[0;34m]\u001b[0m\u001b[0;34m.\u001b[0m\u001b[0mplot\u001b[0m\u001b[0;34m(\u001b[0m\u001b[0;34m)\u001b[0m\u001b[0;34m\u001b[0m\u001b[0;34m\u001b[0m\u001b[0m\n\u001b[0;32m----> 7\u001b[0;31m \u001b[0mHDS5C4040ALE630_train\u001b[0m\u001b[0;34m[\u001b[0m\u001b[0mDT01ACA300_train\u001b[0m\u001b[0;34m[\u001b[0m\u001b[0;34m'failure'\u001b[0m\u001b[0;34m]\u001b[0m \u001b[0;34m==\u001b[0m \u001b[0;36m1\u001b[0m\u001b[0;34m]\u001b[0m\u001b[0;34m\u001b[0m\u001b[0;34m\u001b[0m\u001b[0m\n\u001b[0m\u001b[1;32m      8\u001b[0m \u001b[0mHDS5C4040ALE630_test\u001b[0m\u001b[0;34m[\u001b[0m\u001b[0;34m'failure'\u001b[0m\u001b[0;34m]\u001b[0m\u001b[0;34m.\u001b[0m\u001b[0mplot\u001b[0m\u001b[0;34m(\u001b[0m\u001b[0;34m)\u001b[0m\u001b[0;34m\u001b[0m\u001b[0;34m\u001b[0m\u001b[0m\n\u001b[1;32m      9\u001b[0m \u001b[0mHDS5C4040ALE630_test\u001b[0m\u001b[0;34m[\u001b[0m\u001b[0mDT01ACA300_test\u001b[0m\u001b[0;34m[\u001b[0m\u001b[0;34m'failure'\u001b[0m\u001b[0;34m]\u001b[0m \u001b[0;34m==\u001b[0m \u001b[0;36m1\u001b[0m\u001b[0;34m]\u001b[0m\u001b[0;34m\u001b[0m\u001b[0;34m\u001b[0m\u001b[0m\n",
      "\u001b[0;32m/opt/conda/lib/python3.8/site-packages/pandas/core/frame.py\u001b[0m in \u001b[0;36m__getitem__\u001b[0;34m(self, key)\u001b[0m\n\u001b[1;32m   3013\u001b[0m         \u001b[0;31m# Do we have a (boolean) 1d indexer?\u001b[0m\u001b[0;34m\u001b[0m\u001b[0;34m\u001b[0m\u001b[0;34m\u001b[0m\u001b[0m\n\u001b[1;32m   3014\u001b[0m         \u001b[0;32mif\u001b[0m \u001b[0mcom\u001b[0m\u001b[0;34m.\u001b[0m\u001b[0mis_bool_indexer\u001b[0m\u001b[0;34m(\u001b[0m\u001b[0mkey\u001b[0m\u001b[0;34m)\u001b[0m\u001b[0;34m:\u001b[0m\u001b[0;34m\u001b[0m\u001b[0;34m\u001b[0m\u001b[0m\n\u001b[0;32m-> 3015\u001b[0;31m             \u001b[0;32mreturn\u001b[0m \u001b[0mself\u001b[0m\u001b[0;34m.\u001b[0m\u001b[0m_getitem_bool_array\u001b[0m\u001b[0;34m(\u001b[0m\u001b[0mkey\u001b[0m\u001b[0;34m)\u001b[0m\u001b[0;34m\u001b[0m\u001b[0;34m\u001b[0m\u001b[0m\n\u001b[0m\u001b[1;32m   3016\u001b[0m \u001b[0;34m\u001b[0m\u001b[0m\n\u001b[1;32m   3017\u001b[0m         \u001b[0;31m# We are left with two options: a single key, and a collection of keys,\u001b[0m\u001b[0;34m\u001b[0m\u001b[0;34m\u001b[0m\u001b[0;34m\u001b[0m\u001b[0m\n",
      "\u001b[0;32m/opt/conda/lib/python3.8/site-packages/pandas/core/frame.py\u001b[0m in \u001b[0;36m_getitem_bool_array\u001b[0;34m(self, key)\u001b[0m\n\u001b[1;32m   3066\u001b[0m         \u001b[0;31m# check_bool_indexer will throw exception if Series key cannot\u001b[0m\u001b[0;34m\u001b[0m\u001b[0;34m\u001b[0m\u001b[0;34m\u001b[0m\u001b[0m\n\u001b[1;32m   3067\u001b[0m         \u001b[0;31m# be reindexed to match DataFrame rows\u001b[0m\u001b[0;34m\u001b[0m\u001b[0;34m\u001b[0m\u001b[0;34m\u001b[0m\u001b[0m\n\u001b[0;32m-> 3068\u001b[0;31m         \u001b[0mkey\u001b[0m \u001b[0;34m=\u001b[0m \u001b[0mcheck_bool_indexer\u001b[0m\u001b[0;34m(\u001b[0m\u001b[0mself\u001b[0m\u001b[0;34m.\u001b[0m\u001b[0mindex\u001b[0m\u001b[0;34m,\u001b[0m \u001b[0mkey\u001b[0m\u001b[0;34m)\u001b[0m\u001b[0;34m\u001b[0m\u001b[0;34m\u001b[0m\u001b[0m\n\u001b[0m\u001b[1;32m   3069\u001b[0m         \u001b[0mindexer\u001b[0m \u001b[0;34m=\u001b[0m \u001b[0mkey\u001b[0m\u001b[0;34m.\u001b[0m\u001b[0mnonzero\u001b[0m\u001b[0;34m(\u001b[0m\u001b[0;34m)\u001b[0m\u001b[0;34m[\u001b[0m\u001b[0;36m0\u001b[0m\u001b[0;34m]\u001b[0m\u001b[0;34m\u001b[0m\u001b[0;34m\u001b[0m\u001b[0m\n\u001b[1;32m   3070\u001b[0m         \u001b[0;32mreturn\u001b[0m \u001b[0mself\u001b[0m\u001b[0;34m.\u001b[0m\u001b[0m_take_with_is_copy\u001b[0m\u001b[0;34m(\u001b[0m\u001b[0mindexer\u001b[0m\u001b[0;34m,\u001b[0m \u001b[0maxis\u001b[0m\u001b[0;34m=\u001b[0m\u001b[0;36m0\u001b[0m\u001b[0;34m)\u001b[0m\u001b[0;34m\u001b[0m\u001b[0;34m\u001b[0m\u001b[0m\n",
      "\u001b[0;32m/opt/conda/lib/python3.8/site-packages/pandas/core/indexing.py\u001b[0m in \u001b[0;36mcheck_bool_indexer\u001b[0;34m(index, key)\u001b[0m\n\u001b[1;32m   2267\u001b[0m         \u001b[0mmask\u001b[0m \u001b[0;34m=\u001b[0m \u001b[0misna\u001b[0m\u001b[0;34m(\u001b[0m\u001b[0mresult\u001b[0m\u001b[0;34m.\u001b[0m\u001b[0m_values\u001b[0m\u001b[0;34m)\u001b[0m\u001b[0;34m\u001b[0m\u001b[0;34m\u001b[0m\u001b[0m\n\u001b[1;32m   2268\u001b[0m         \u001b[0;32mif\u001b[0m \u001b[0mmask\u001b[0m\u001b[0;34m.\u001b[0m\u001b[0many\u001b[0m\u001b[0;34m(\u001b[0m\u001b[0;34m)\u001b[0m\u001b[0;34m:\u001b[0m\u001b[0;34m\u001b[0m\u001b[0;34m\u001b[0m\u001b[0m\n\u001b[0;32m-> 2269\u001b[0;31m             raise IndexingError(\n\u001b[0m\u001b[1;32m   2270\u001b[0m                 \u001b[0;34m\"Unalignable boolean Series provided as \"\u001b[0m\u001b[0;34m\u001b[0m\u001b[0;34m\u001b[0m\u001b[0m\n\u001b[1;32m   2271\u001b[0m                 \u001b[0;34m\"indexer (index of the boolean Series and of \"\u001b[0m\u001b[0;34m\u001b[0m\u001b[0;34m\u001b[0m\u001b[0m\n",
      "\u001b[0;31mIndexingError\u001b[0m: Unalignable boolean Series provided as indexer (index of the boolean Series and of the indexed object do not match)."
     ]
    },
    {
     "data": {
      "image/png": "[encoded data removed]",
      "text/plain": [
       "<Figure size 432x288 with 1 Axes>"
      ]
     },
     "metadata": {
      "needs_background": "light"
     },
     "output_type": "display_data"
    }
   ],
   "source": [
    "#filtering rows and columns\n",
    "HDS5C4040ALE630_sensor_serials = data.loc[data['type'] == 'HDS5C4040ALE630', 'serial_number'].unique()\n",
    "HDS5C4040ALE630_sensor_serials.shape\n",
    "HDS5C4040ALE630_train_serials,HDS5C4040ALE630_test_serials = train_test_split(HDS5C4040ALE630_sensor_serials, train_size = 0.7, random_state = 42)\n",
    "HDS5C4040ALE630_train,HDS5C4040ALE630_test = extractionFunction(onlyfiles, 'HDS5C4040ALE630', HDS5C4040ALE630_train_serials, HDS5C4040ALE630_test_serials)"
   ]
  },
  {
   "cell_type": "code",
   "execution_count": 58,
   "id": "d62f639c",
   "metadata": {},
   "outputs": [
    {
     "data": {
      "text/html": [
       "<div>\n",
       "<style scoped>\n",
       "    .dataframe tbody tr th:only-of-type {\n",
       "        vertical-align: middle;\n",
       "    }\n",
       "\n",
       "    .dataframe tbody tr th {\n",
       "        vertical-align: top;\n",
       "    }\n",
       "\n",
       "    .dataframe thead th {\n",
       "        text-align: right;\n",
       "    }\n",
       "</style>\n",
       "<table border=\"1\" class=\"dataframe\">\n",
       "  <thead>\n",
       "    <tr style=\"text-align: right;\">\n",
       "      <th></th>\n",
       "      <th>date</th>\n",
       "      <th>serial_number</th>\n",
       "      <th>type</th>\n",
       "      <th>capacity</th>\n",
       "      <th>failure</th>\n",
       "      <th>stat_1_normalized</th>\n",
       "      <th>stat_1_raw</th>\n",
       "      <th>stat_2_normalized</th>\n",
       "      <th>stat_2_raw</th>\n",
       "      <th>stat_3_normalized</th>\n",
       "      <th>...</th>\n",
       "      <th>stat_250_normalized</th>\n",
       "      <th>stat_250_raw</th>\n",
       "      <th>stat_251_normalized</th>\n",
       "      <th>stat_251_raw</th>\n",
       "      <th>stat_252_normalized</th>\n",
       "      <th>stat_252_raw</th>\n",
       "      <th>stat_254_normalized</th>\n",
       "      <th>stat_254_raw</th>\n",
       "      <th>stat_255_normalized</th>\n",
       "      <th>stat_255_raw</th>\n",
       "    </tr>\n",
       "  </thead>\n",
       "  <tbody>\n",
       "    <tr>\n",
       "      <th>93631</th>\n",
       "      <td>2020-03-09</td>\n",
       "      <td>PL1311LAG2E3LH</td>\n",
       "      <td>HDS5C4040ALE630</td>\n",
       "      <td>4000787030016</td>\n",
       "      <td>1</td>\n",
       "      <td>100.0</td>\n",
       "      <td>65536.0</td>\n",
       "      <td>136.0</td>\n",
       "      <td>95.0</td>\n",
       "      <td>128.0</td>\n",
       "      <td>...</td>\n",
       "      <td>NaN</td>\n",
       "      <td>NaN</td>\n",
       "      <td>NaN</td>\n",
       "      <td>NaN</td>\n",
       "      <td>NaN</td>\n",
       "      <td>NaN</td>\n",
       "      <td>NaN</td>\n",
       "      <td>NaN</td>\n",
       "      <td>NaN</td>\n",
       "      <td>NaN</td>\n",
       "    </tr>\n",
       "    <tr>\n",
       "      <th>210166</th>\n",
       "      <td>2020-02-16</td>\n",
       "      <td>PL1321LAG34GMH</td>\n",
       "      <td>HDS5C4040ALE630</td>\n",
       "      <td>4000787030016</td>\n",
       "      <td>1</td>\n",
       "      <td>99.0</td>\n",
       "      <td>131072.0</td>\n",
       "      <td>135.0</td>\n",
       "      <td>97.0</td>\n",
       "      <td>126.0</td>\n",
       "      <td>...</td>\n",
       "      <td>NaN</td>\n",
       "      <td>NaN</td>\n",
       "      <td>NaN</td>\n",
       "      <td>NaN</td>\n",
       "      <td>NaN</td>\n",
       "      <td>NaN</td>\n",
       "      <td>NaN</td>\n",
       "      <td>NaN</td>\n",
       "      <td>NaN</td>\n",
       "      <td>NaN</td>\n",
       "    </tr>\n",
       "    <tr>\n",
       "      <th>244228</th>\n",
       "      <td>2020-03-22</td>\n",
       "      <td>PL1321LAG2DHGH</td>\n",
       "      <td>HDS5C4040ALE630</td>\n",
       "      <td>4000787030016</td>\n",
       "      <td>1</td>\n",
       "      <td>99.0</td>\n",
       "      <td>65538.0</td>\n",
       "      <td>134.0</td>\n",
       "      <td>100.0</td>\n",
       "      <td>131.0</td>\n",
       "      <td>...</td>\n",
       "      <td>NaN</td>\n",
       "      <td>NaN</td>\n",
       "      <td>NaN</td>\n",
       "      <td>NaN</td>\n",
       "      <td>NaN</td>\n",
       "      <td>NaN</td>\n",
       "      <td>NaN</td>\n",
       "      <td>NaN</td>\n",
       "      <td>NaN</td>\n",
       "      <td>NaN</td>\n",
       "    </tr>\n",
       "  </tbody>\n",
       "</table>\n",
       "<p>3 rows × 95 columns</p>\n",
       "</div>"
      ],
      "text/plain": [
       "              date   serial_number             type       capacity  failure  \\\n",
       "93631   2020-03-09  PL1311LAG2E3LH  HDS5C4040ALE630  4000787030016        1   \n",
       "210166  2020-02-16  PL1321LAG34GMH  HDS5C4040ALE630  4000787030016        1   \n",
       "244228  2020-03-22  PL1321LAG2DHGH  HDS5C4040ALE630  4000787030016        1   \n",
       "\n",
       "        stat_1_normalized  stat_1_raw  stat_2_normalized  stat_2_raw  \\\n",
       "93631               100.0     65536.0              136.0        95.0   \n",
       "210166               99.0    131072.0              135.0        97.0   \n",
       "244228               99.0     65538.0              134.0       100.0   \n",
       "\n",
       "        stat_3_normalized  ...  stat_250_normalized  stat_250_raw  \\\n",
       "93631               128.0  ...                  NaN           NaN   \n",
       "210166              126.0  ...                  NaN           NaN   \n",
       "244228              131.0  ...                  NaN           NaN   \n",
       "\n",
       "        stat_251_normalized  stat_251_raw  stat_252_normalized  stat_252_raw  \\\n",
       "93631                   NaN           NaN                  NaN           NaN   \n",
       "210166                  NaN           NaN                  NaN           NaN   \n",
       "244228                  NaN           NaN                  NaN           NaN   \n",
       "\n",
       "        stat_254_normalized  stat_254_raw  stat_255_normalized  stat_255_raw  \n",
       "93631                   NaN           NaN                  NaN           NaN  \n",
       "210166                  NaN           NaN                  NaN           NaN  \n",
       "244228                  NaN           NaN                  NaN           NaN  \n",
       "\n",
       "[3 rows x 95 columns]"
      ]
     },
     "execution_count": 58,
     "metadata": {},
     "output_type": "execute_result"
    },
    {
     "data": {
      "image/png": "[encoded data removed]",
      "text/plain": [
       "<Figure size 432x288 with 1 Axes>"
      ]
     },
     "metadata": {
      "needs_background": "light"
     },
     "output_type": "display_data"
    }
   ],
   "source": [
    "HDS5C4040ALE630_train['failure'].plot()\n",
    "HDS5C4040ALE630_train[HDS5C4040ALE630_train['failure'] == 1]"
   ]
  },
  {
   "cell_type": "code",
   "execution_count": 59,
   "id": "90945b61",
   "metadata": {},
   "outputs": [
    {
     "data": {
      "text/html": [
       "<div>\n",
       "<style scoped>\n",
       "    .dataframe tbody tr th:only-of-type {\n",
       "        vertical-align: middle;\n",
       "    }\n",
       "\n",
       "    .dataframe tbody tr th {\n",
       "        vertical-align: top;\n",
       "    }\n",
       "\n",
       "    .dataframe thead th {\n",
       "        text-align: right;\n",
       "    }\n",
       "</style>\n",
       "<table border=\"1\" class=\"dataframe\">\n",
       "  <thead>\n",
       "    <tr style=\"text-align: right;\">\n",
       "      <th></th>\n",
       "      <th>date</th>\n",
       "      <th>serial_number</th>\n",
       "      <th>type</th>\n",
       "      <th>capacity</th>\n",
       "      <th>failure</th>\n",
       "      <th>stat_1_normalized</th>\n",
       "      <th>stat_1_raw</th>\n",
       "      <th>stat_2_normalized</th>\n",
       "      <th>stat_2_raw</th>\n",
       "      <th>stat_3_normalized</th>\n",
       "      <th>...</th>\n",
       "      <th>stat_250_normalized</th>\n",
       "      <th>stat_250_raw</th>\n",
       "      <th>stat_251_normalized</th>\n",
       "      <th>stat_251_raw</th>\n",
       "      <th>stat_252_normalized</th>\n",
       "      <th>stat_252_raw</th>\n",
       "      <th>stat_254_normalized</th>\n",
       "      <th>stat_254_raw</th>\n",
       "      <th>stat_255_normalized</th>\n",
       "      <th>stat_255_raw</th>\n",
       "    </tr>\n",
       "  </thead>\n",
       "  <tbody>\n",
       "    <tr>\n",
       "      <th>3448</th>\n",
       "      <td>2020-03-03</td>\n",
       "      <td>PL1321LAG34N8H</td>\n",
       "      <td>HDS5C4040ALE630</td>\n",
       "      <td>4000787030016</td>\n",
       "      <td>1</td>\n",
       "      <td>86.0</td>\n",
       "      <td>2687066.0</td>\n",
       "      <td>133.0</td>\n",
       "      <td>104.0</td>\n",
       "      <td>122.0</td>\n",
       "      <td>...</td>\n",
       "      <td>NaN</td>\n",
       "      <td>NaN</td>\n",
       "      <td>NaN</td>\n",
       "      <td>NaN</td>\n",
       "      <td>NaN</td>\n",
       "      <td>NaN</td>\n",
       "      <td>NaN</td>\n",
       "      <td>NaN</td>\n",
       "      <td>NaN</td>\n",
       "      <td>NaN</td>\n",
       "    </tr>\n",
       "    <tr>\n",
       "      <th>17440</th>\n",
       "      <td>2020-01-27</td>\n",
       "      <td>PL2310LAG0MBEC</td>\n",
       "      <td>HDS5C4040ALE630</td>\n",
       "      <td>4000787030016</td>\n",
       "      <td>1</td>\n",
       "      <td>100.0</td>\n",
       "      <td>0.0</td>\n",
       "      <td>134.0</td>\n",
       "      <td>100.0</td>\n",
       "      <td>124.0</td>\n",
       "      <td>...</td>\n",
       "      <td>NaN</td>\n",
       "      <td>NaN</td>\n",
       "      <td>NaN</td>\n",
       "      <td>NaN</td>\n",
       "      <td>NaN</td>\n",
       "      <td>NaN</td>\n",
       "      <td>NaN</td>\n",
       "      <td>NaN</td>\n",
       "      <td>NaN</td>\n",
       "      <td>NaN</td>\n",
       "    </tr>\n",
       "    <tr>\n",
       "      <th>19642</th>\n",
       "      <td>2020-01-02</td>\n",
       "      <td>PL1301LAG3594H</td>\n",
       "      <td>HDS5C4040ALE630</td>\n",
       "      <td>4000787030016</td>\n",
       "      <td>1</td>\n",
       "      <td>85.0</td>\n",
       "      <td>14548994.0</td>\n",
       "      <td>135.0</td>\n",
       "      <td>98.0</td>\n",
       "      <td>126.0</td>\n",
       "      <td>...</td>\n",
       "      <td>NaN</td>\n",
       "      <td>NaN</td>\n",
       "      <td>NaN</td>\n",
       "      <td>NaN</td>\n",
       "      <td>NaN</td>\n",
       "      <td>NaN</td>\n",
       "      <td>NaN</td>\n",
       "      <td>NaN</td>\n",
       "      <td>NaN</td>\n",
       "      <td>NaN</td>\n",
       "    </tr>\n",
       "    <tr>\n",
       "      <th>97463</th>\n",
       "      <td>2020-01-21</td>\n",
       "      <td>PL1311LAG3D6WH</td>\n",
       "      <td>HDS5C4040ALE630</td>\n",
       "      <td>4000787030016</td>\n",
       "      <td>1</td>\n",
       "      <td>74.0</td>\n",
       "      <td>99615823.0</td>\n",
       "      <td>134.0</td>\n",
       "      <td>100.0</td>\n",
       "      <td>123.0</td>\n",
       "      <td>...</td>\n",
       "      <td>NaN</td>\n",
       "      <td>NaN</td>\n",
       "      <td>NaN</td>\n",
       "      <td>NaN</td>\n",
       "      <td>NaN</td>\n",
       "      <td>NaN</td>\n",
       "      <td>NaN</td>\n",
       "      <td>NaN</td>\n",
       "      <td>NaN</td>\n",
       "      <td>NaN</td>\n",
       "    </tr>\n",
       "    <tr>\n",
       "      <th>140516</th>\n",
       "      <td>2020-04-01</td>\n",
       "      <td>PL1311LAG2B1NH</td>\n",
       "      <td>HDS5C4040ALE630</td>\n",
       "      <td>4000787030016</td>\n",
       "      <td>1</td>\n",
       "      <td>92.0</td>\n",
       "      <td>1245206.0</td>\n",
       "      <td>134.0</td>\n",
       "      <td>100.0</td>\n",
       "      <td>124.0</td>\n",
       "      <td>...</td>\n",
       "      <td>NaN</td>\n",
       "      <td>NaN</td>\n",
       "      <td>NaN</td>\n",
       "      <td>NaN</td>\n",
       "      <td>NaN</td>\n",
       "      <td>NaN</td>\n",
       "      <td>NaN</td>\n",
       "      <td>NaN</td>\n",
       "      <td>NaN</td>\n",
       "      <td>NaN</td>\n",
       "    </tr>\n",
       "  </tbody>\n",
       "</table>\n",
       "<p>5 rows × 95 columns</p>\n",
       "</div>"
      ],
      "text/plain": [
       "              date   serial_number             type       capacity  failure  \\\n",
       "3448    2020-03-03  PL1321LAG34N8H  HDS5C4040ALE630  4000787030016        1   \n",
       "17440   2020-01-27  PL2310LAG0MBEC  HDS5C4040ALE630  4000787030016        1   \n",
       "19642   2020-01-02  PL1301LAG3594H  HDS5C4040ALE630  4000787030016        1   \n",
       "97463   2020-01-21  PL1311LAG3D6WH  HDS5C4040ALE630  4000787030016        1   \n",
       "140516  2020-04-01  PL1311LAG2B1NH  HDS5C4040ALE630  4000787030016        1   \n",
       "\n",
       "        stat_1_normalized  stat_1_raw  stat_2_normalized  stat_2_raw  \\\n",
       "3448                 86.0   2687066.0              133.0       104.0   \n",
       "17440               100.0         0.0              134.0       100.0   \n",
       "19642                85.0  14548994.0              135.0        98.0   \n",
       "97463                74.0  99615823.0              134.0       100.0   \n",
       "140516               92.0   1245206.0              134.0       100.0   \n",
       "\n",
       "        stat_3_normalized  ...  stat_250_normalized  stat_250_raw  \\\n",
       "3448                122.0  ...                  NaN           NaN   \n",
       "17440               124.0  ...                  NaN           NaN   \n",
       "19642               126.0  ...                  NaN           NaN   \n",
       "97463               123.0  ...                  NaN           NaN   \n",
       "140516              124.0  ...                  NaN           NaN   \n",
       "\n",
       "        stat_251_normalized  stat_251_raw  stat_252_normalized  stat_252_raw  \\\n",
       "3448                    NaN           NaN                  NaN           NaN   \n",
       "17440                   NaN           NaN                  NaN           NaN   \n",
       "19642                   NaN           NaN                  NaN           NaN   \n",
       "97463                   NaN           NaN                  NaN           NaN   \n",
       "140516                  NaN           NaN                  NaN           NaN   \n",
       "\n",
       "        stat_254_normalized  stat_254_raw  stat_255_normalized  stat_255_raw  \n",
       "3448                    NaN           NaN                  NaN           NaN  \n",
       "17440                   NaN           NaN                  NaN           NaN  \n",
       "19642                   NaN           NaN                  NaN           NaN  \n",
       "97463                   NaN           NaN                  NaN           NaN  \n",
       "140516                  NaN           NaN                  NaN           NaN  \n",
       "\n",
       "[5 rows x 95 columns]"
      ]
     },
     "execution_count": 59,
     "metadata": {},
     "output_type": "execute_result"
    },
    {
     "data": {
      "image/png": "[encoded data removed]",
      "text/plain": [
       "<Figure size 432x288 with 1 Axes>"
      ]
     },
     "metadata": {
      "needs_background": "light"
     },
     "output_type": "display_data"
    }
   ],
   "source": [
    "HDS5C4040ALE630_test['failure'].plot()\n",
    "HDS5C4040ALE630_test[HDS5C4040ALE630_test['failure'] == 1]"
   ]
  },
  {
   "cell_type": "code",
   "execution_count": 60,
   "id": "85f46dc3",
   "metadata": {},
   "outputs": [],
   "source": [
    "HDS5C4040ALE630_train_x = HDS5C4040ALE630_train.iloc[:, 5::2]\n",
    "HDS5C4040ALE630_train_y = HDS5C4040ALE630_train.iloc[:, 4]"
   ]
  },
  {
   "cell_type": "code",
   "execution_count": 69,
   "id": "72d021ab",
   "metadata": {},
   "outputs": [
    {
     "data": {
      "text/plain": [
       "Int64Index([93631, 210166, 244228], dtype='int64')"
      ]
     },
     "metadata": {},
     "output_type": "display_data"
    }
   ],
   "source": [
    "HDS5C4040ALE630_train_fail_indices = HDS5C4040ALE630_train_y.index[HDS5C4040ALE630_train_y == 1]\n",
    "display(HDS5C4040ALE630_train_fail_indices)"
   ]
  },
  {
   "cell_type": "code",
   "execution_count": 70,
   "id": "a8f6d321",
   "metadata": {},
   "outputs": [],
   "source": [
    "HDS5C4040ALE630_train_y_adjusted = HDS5C4040ALE630_train_y.copy()\n",
    "for failure_index in HDS5C4040ALE630_train_fail_indices:\n",
    "    for step in range(1, 6):\n",
    "        HDS5C4040ALE630_train_y_adjusted[failure_index-step] = 1;"
   ]
  },
  {
   "cell_type": "code",
   "execution_count": null,
   "id": "a53d884e",
   "metadata": {},
   "outputs": [],
   "source": []
  }
 ],
 "metadata": {
  "kernelspec": {
   "display_name": "Python 3",
   "language": "python",
   "name": "python3"
  },
  "language_info": {
   "codemirror_mode": {
    "name": "ipython",
    "version": 3
   },
   "file_extension": ".py",
   "mimetype": "text/x-python",
   "name": "python",
   "nbconvert_exporter": "python",
   "pygments_lexer": "ipython3",
   "version": "3.8.8"
  }
 },
 "nbformat": 4,
 "nbformat_minor": 5
}
