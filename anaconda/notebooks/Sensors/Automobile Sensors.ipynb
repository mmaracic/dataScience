{
 "cells": [
  {
   "cell_type": "code",
   "execution_count": 2,
   "id": "d0240ae3",
   "metadata": {},
   "outputs": [
    {
     "name": "stdout",
     "output_type": "stream",
     "text": [
      "/opt/notebooks/Sensors\n"
     ]
    }
   ],
   "source": [
    "#current directory\n",
    "import os\n",
    "cwd = os.getcwd()\n",
    "print(cwd)"
   ]
  },
  {
   "cell_type": "code",
   "execution_count": 3,
   "id": "e91eab08",
   "metadata": {},
   "outputs": [
    {
     "name": "stdout",
     "output_type": "stream",
     "text": [
      "['2020-05-12.csv', '2020-01-10.csv', '2020-06-10.csv', '2020-06-23.csv', '2020-03-03.csv', '2020-06-07.csv', '2020-01-19.csv', '2020-01-28.csv', '2020-03-27.csv', '2020-03-14.csv', '2020-04-16.csv', '2020-06-13.csv', '2020-03-02.csv', '2020-03-06.csv', '2020-06-12.csv', '2020-02-11.csv', '2020-04-23.csv', '2020-02-03.csv', '2020-01-15.csv', '2020-01-13.csv', '2020-05-17.csv', '2020-01-27.csv', '2020-05-10.csv', '2020-01-25.csv', '2020-01-02.csv', '2020-06-06.csv', '2020-05-24.csv', '2020-02-27.csv', '2020-05-14.csv', '2020-03-11.csv', '2020-02-08.csv', '2020-03-19.csv', '2020-01-14.csv', '2020-03-29.csv', '2020-01-04.csv', '2020-01-23.csv', '2020-06-03.csv', '2020-04-29.csv', '2020-01-30.csv', '2020-02-02.csv', '2020-06-17.csv', '2020-01-11.csv', '2020-06-09.csv', '2020-02-21.csv', '2020-03-25.csv', '2020-01-20.csv', '2020-06-05.csv', '2020-02-19.csv', '2020-06-04.csv', '2020-03-09.csv', '2020-03-15.csv', '2020-03-20.csv', '2020-01-18.csv', '2020-05-04.csv', '2020-02-01.csv', '2020-04-22.csv', '2020-04-10.csv', '2020-05-18.csv', '2020-06-08.csv', '2020-04-09.csv', '2020-03-26.csv', '2020-02-10.csv', '2020-04-03.csv', '2020-04-15.csv', '2020-04-08.csv', '2020-02-12.csv', '2020-05-01.csv', '2020-04-13.csv', '2020-04-02.csv', '2020-05-13.csv', '2020-06-14.csv', '2020-03-28.csv', '2020-03-08.csv', '2020-05-07.csv', '2020-02-04.csv', '2020-04-06.csv', '2020-05-06.csv', '2020-06-21.csv', '2020-05-19.csv', '2020-02-13.csv', '2020-03-30.csv', '2020-03-21.csv', '2020-05-03.csv', '2020-01-24.csv', '2020-06-22.csv', '2020-01-09.csv', '2020-01-31.csv', '2020-04-14.csv', '2020-04-07.csv', '2020-05-05.csv', '2020-02-20.csv', '2020-04-20.csv', '2020-02-15.csv', '2020-05-16.csv', '2020-01-08.csv', '2020-03-04.csv', '2020-05-02.csv', '2020-03-23.csv', '2020-02-14.csv', '2020-03-10.csv', '2020-05-22.csv', '2020-02-05.csv', '2020-04-26.csv', '2020-06-01.csv', '2020-02-28.csv', '2020-02-17.csv', '2020-04-24.csv', '2020-03-12.csv', '2020-05-11.csv', '2020-06-11.csv', '2020-02-16.csv', '2020-06-18.csv', '2020-01-12.csv', '2020-02-22.csv', '2020-02-25.csv', '2020-05-28.csv', '2020-05-21.csv', '2020-03-05.csv', '2020-05-08.csv', '2020-01-05.csv', '2020-01-21.csv', '2020-03-07.csv', '2020-05-25.csv', '2020-03-24.csv', '2020-06-19.csv', '2020-03-01.csv', '2020-03-31.csv', '2020-04-19.csv', '2020-03-22.csv', '2020-03-13.csv', '2020-05-30.csv', '2020-02-23.csv', '2020-04-28.csv', '2020-05-29.csv', '2020-03-16.csv', '2020-06-20.csv', '2020-04-17.csv', '2020-05-31.csv', '2020-04-27.csv', '2020-01-07.csv', '2020-05-23.csv', '2020-03-18.csv', '2020-02-07.csv', '2020-01-29.csv', '2020-04-25.csv', '2020-04-30.csv', '2020-01-16.csv', '2020-04-21.csv', '2020-05-20.csv', '2020-01-26.csv', '2020-04-12.csv', '2020-02-06.csv', '2020-02-26.csv', '2020-04-18.csv', '2020-01-06.csv', '2020-06-02.csv', '2020-06-16.csv', '2020-04-11.csv', '2020-01-03.csv', '2020-05-09.csv', '2020-02-24.csv', '2020-02-09.csv', '2020-02-29.csv', '2020-04-05.csv', '2020-01-17.csv', '2020-01-01.csv', '2020-03-17.csv', '2020-05-26.csv', '2020-05-15.csv', '2020-04-04.csv', '2020-06-15.csv', '2020-01-22.csv', '2020-02-18.csv', '2020-04-01.csv', '2020-05-27.csv']\n"
     ]
    }
   ],
   "source": [
    "from os import listdir\n",
    "from os.path import isfile, join\n",
    "mypath = '/opt/notebooks/Sensors/infinum/2020_sensor_data'\n",
    "onlyfiles = [f for f in listdir(mypath) if isfile(join(mypath, f))]\n",
    "print(onlyfiles)"
   ]
  },
  {
   "cell_type": "code",
   "execution_count": 4,
   "id": "7a6a23a0",
   "metadata": {},
   "outputs": [
    {
     "name": "stdout",
     "output_type": "stream",
     "text": [
      "/opt/notebooks/Sensors/infinum/2020_sensor_data/2020-05-12.csv\n",
      "<bound method DataFrame.info of              date   serial_number             type       capacity  failure  \\\n",
      "0      2020-05-12  MJ0351YNG9Z0XA  HDS5C3030ALA630  3000592982016        0   \n",
      "1      2020-05-12  MJ0351YNG9WJSA  HDS5C3030ALA630  3000592982016        0   \n",
      "2      2020-05-12  PL1321LAG34XWH  HDS5C4040ALE630  4000787030016        0   \n",
      "3      2020-05-12  MJ0351YNGABYAA  HDS5C3030ALA630  3000592982016        0   \n",
      "4      2020-05-12        Z305B2QN      ST4000DM000  4000787030016        0   \n",
      "...           ...             ...              ...            ...      ...   \n",
      "66397  2020-05-12  MJ1311YNG3G5NA  HDS5C3030ALA630  3000592982016        0   \n",
      "66398  2020-05-12        Z3016V0V      ST4000DM000  4000787030016        0   \n",
      "66399  2020-05-12  MJ1323YNG1LZJC  HDS5C3030ALA630  3000592982016        0   \n",
      "66400  2020-05-12        S300YQXW      ST4000DM000  4000787030016        0   \n",
      "66401  2020-05-12        Z30271GD      ST4000DM000  4000787030016        0   \n",
      "\n",
      "       stat_1_normalized  stat_1_raw  stat_2_normalized  stat_2_raw  \\\n",
      "0                    100           0              135.0       108.0   \n",
      "1                    100           0              136.0       104.0   \n",
      "2                    100           0              134.0       101.0   \n",
      "3                    100           0              136.0       104.0   \n",
      "4                    119   209278624                NaN         NaN   \n",
      "...                  ...         ...                ...         ...   \n",
      "66397                100           0              100.0         0.0   \n",
      "66398                117   142819240                NaN         NaN   \n",
      "66399                100           0              100.0         0.0   \n",
      "66400                117   142801808                NaN         NaN   \n",
      "66401                112    49170872                NaN         NaN   \n",
      "\n",
      "       stat_3_normalized  ...  stat_250_normalized  stat_250_raw  \\\n",
      "0                    143  ...                  NaN           NaN   \n",
      "1                    127  ...                  NaN           NaN   \n",
      "2                    130  ...                  NaN           NaN   \n",
      "3                    137  ...                  NaN           NaN   \n",
      "4                     95  ...                  NaN           NaN   \n",
      "...                  ...  ...                  ...           ...   \n",
      "66397                123  ...                  NaN           NaN   \n",
      "66398                 91  ...                  NaN           NaN   \n",
      "66399                124  ...                  NaN           NaN   \n",
      "66400                 96  ...                  NaN           NaN   \n",
      "66401                 93  ...                  NaN           NaN   \n",
      "\n",
      "       stat_251_normalized  stat_251_raw  stat_252_normalized  stat_252_raw  \\\n",
      "0                      NaN           NaN                  NaN           NaN   \n",
      "1                      NaN           NaN                  NaN           NaN   \n",
      "2                      NaN           NaN                  NaN           NaN   \n",
      "3                      NaN           NaN                  NaN           NaN   \n",
      "4                      NaN           NaN                  NaN           NaN   \n",
      "...                    ...           ...                  ...           ...   \n",
      "66397                  NaN           NaN                  NaN           NaN   \n",
      "66398                  NaN           NaN                  NaN           NaN   \n",
      "66399                  NaN           NaN                  NaN           NaN   \n",
      "66400                  NaN           NaN                  NaN           NaN   \n",
      "66401                  NaN           NaN                  NaN           NaN   \n",
      "\n",
      "       stat_254_normalized  stat_254_raw  stat_255_normalized  stat_255_raw  \n",
      "0                      NaN           NaN                  NaN           NaN  \n",
      "1                      NaN           NaN                  NaN           NaN  \n",
      "2                      NaN           NaN                  NaN           NaN  \n",
      "3                      NaN           NaN                  NaN           NaN  \n",
      "4                      NaN           NaN                  NaN           NaN  \n",
      "...                    ...           ...                  ...           ...  \n",
      "66397                  NaN           NaN                  NaN           NaN  \n",
      "66398                  NaN           NaN                  NaN           NaN  \n",
      "66399                  NaN           NaN                  NaN           NaN  \n",
      "66400                  NaN           NaN                  NaN           NaN  \n",
      "66401                  NaN           NaN                  NaN           NaN  \n",
      "\n",
      "[66402 rows x 95 columns]>\n"
     ]
    }
   ],
   "source": [
    "import pandas as pd\n",
    "file = join(mypath, onlyfiles[0])\n",
    "day = pd.read_csv(file)\n",
    "print(file)\n",
    "print(day.info)\n",
    "#print('Data', day)"
   ]
  },
  {
   "cell_type": "code",
   "execution_count": 5,
   "id": "c0cbecae",
   "metadata": {},
   "outputs": [
    {
     "name": "stdout",
     "output_type": "stream",
     "text": [
      "/opt/notebooks/Sensors/infinum/2020_sensor_data/2020-05-12.csv\n",
      "/opt/notebooks/Sensors/infinum/2020_sensor_data/2020-01-10.csv\n",
      "/opt/notebooks/Sensors/infinum/2020_sensor_data/2020-06-10.csv\n",
      "/opt/notebooks/Sensors/infinum/2020_sensor_data/2020-06-23.csv\n",
      "/opt/notebooks/Sensors/infinum/2020_sensor_data/2020-03-03.csv\n",
      "/opt/notebooks/Sensors/infinum/2020_sensor_data/2020-06-07.csv\n",
      "/opt/notebooks/Sensors/infinum/2020_sensor_data/2020-01-19.csv\n",
      "/opt/notebooks/Sensors/infinum/2020_sensor_data/2020-01-28.csv\n",
      "/opt/notebooks/Sensors/infinum/2020_sensor_data/2020-03-27.csv\n",
      "/opt/notebooks/Sensors/infinum/2020_sensor_data/2020-03-14.csv\n",
      "/opt/notebooks/Sensors/infinum/2020_sensor_data/2020-04-16.csv\n",
      "/opt/notebooks/Sensors/infinum/2020_sensor_data/2020-06-13.csv\n",
      "/opt/notebooks/Sensors/infinum/2020_sensor_data/2020-03-02.csv\n",
      "/opt/notebooks/Sensors/infinum/2020_sensor_data/2020-03-06.csv\n",
      "/opt/notebooks/Sensors/infinum/2020_sensor_data/2020-06-12.csv\n",
      "/opt/notebooks/Sensors/infinum/2020_sensor_data/2020-02-11.csv\n",
      "/opt/notebooks/Sensors/infinum/2020_sensor_data/2020-04-23.csv\n",
      "/opt/notebooks/Sensors/infinum/2020_sensor_data/2020-02-03.csv\n",
      "/opt/notebooks/Sensors/infinum/2020_sensor_data/2020-01-15.csv\n",
      "/opt/notebooks/Sensors/infinum/2020_sensor_data/2020-01-13.csv\n",
      "/opt/notebooks/Sensors/infinum/2020_sensor_data/2020-05-17.csv\n",
      "/opt/notebooks/Sensors/infinum/2020_sensor_data/2020-01-27.csv\n",
      "/opt/notebooks/Sensors/infinum/2020_sensor_data/2020-05-10.csv\n",
      "/opt/notebooks/Sensors/infinum/2020_sensor_data/2020-01-25.csv\n",
      "/opt/notebooks/Sensors/infinum/2020_sensor_data/2020-01-02.csv\n",
      "/opt/notebooks/Sensors/infinum/2020_sensor_data/2020-06-06.csv\n",
      "/opt/notebooks/Sensors/infinum/2020_sensor_data/2020-05-24.csv\n",
      "/opt/notebooks/Sensors/infinum/2020_sensor_data/2020-02-27.csv\n",
      "/opt/notebooks/Sensors/infinum/2020_sensor_data/2020-05-14.csv\n",
      "/opt/notebooks/Sensors/infinum/2020_sensor_data/2020-03-11.csv\n",
      "/opt/notebooks/Sensors/infinum/2020_sensor_data/2020-02-08.csv\n",
      "/opt/notebooks/Sensors/infinum/2020_sensor_data/2020-03-19.csv\n",
      "/opt/notebooks/Sensors/infinum/2020_sensor_data/2020-01-14.csv\n",
      "/opt/notebooks/Sensors/infinum/2020_sensor_data/2020-03-29.csv\n",
      "/opt/notebooks/Sensors/infinum/2020_sensor_data/2020-01-04.csv\n",
      "/opt/notebooks/Sensors/infinum/2020_sensor_data/2020-01-23.csv\n",
      "/opt/notebooks/Sensors/infinum/2020_sensor_data/2020-06-03.csv\n",
      "/opt/notebooks/Sensors/infinum/2020_sensor_data/2020-04-29.csv\n",
      "/opt/notebooks/Sensors/infinum/2020_sensor_data/2020-01-30.csv\n",
      "/opt/notebooks/Sensors/infinum/2020_sensor_data/2020-02-02.csv\n",
      "/opt/notebooks/Sensors/infinum/2020_sensor_data/2020-06-17.csv\n",
      "/opt/notebooks/Sensors/infinum/2020_sensor_data/2020-01-11.csv\n",
      "/opt/notebooks/Sensors/infinum/2020_sensor_data/2020-06-09.csv\n",
      "/opt/notebooks/Sensors/infinum/2020_sensor_data/2020-02-21.csv\n",
      "/opt/notebooks/Sensors/infinum/2020_sensor_data/2020-03-25.csv\n",
      "/opt/notebooks/Sensors/infinum/2020_sensor_data/2020-01-20.csv\n",
      "/opt/notebooks/Sensors/infinum/2020_sensor_data/2020-06-05.csv\n",
      "/opt/notebooks/Sensors/infinum/2020_sensor_data/2020-02-19.csv\n",
      "/opt/notebooks/Sensors/infinum/2020_sensor_data/2020-06-04.csv\n",
      "/opt/notebooks/Sensors/infinum/2020_sensor_data/2020-03-09.csv\n",
      "/opt/notebooks/Sensors/infinum/2020_sensor_data/2020-03-15.csv\n",
      "/opt/notebooks/Sensors/infinum/2020_sensor_data/2020-03-20.csv\n",
      "/opt/notebooks/Sensors/infinum/2020_sensor_data/2020-01-18.csv\n",
      "/opt/notebooks/Sensors/infinum/2020_sensor_data/2020-05-04.csv\n",
      "/opt/notebooks/Sensors/infinum/2020_sensor_data/2020-02-01.csv\n",
      "/opt/notebooks/Sensors/infinum/2020_sensor_data/2020-04-22.csv\n",
      "/opt/notebooks/Sensors/infinum/2020_sensor_data/2020-04-10.csv\n",
      "/opt/notebooks/Sensors/infinum/2020_sensor_data/2020-05-18.csv\n",
      "/opt/notebooks/Sensors/infinum/2020_sensor_data/2020-06-08.csv\n",
      "/opt/notebooks/Sensors/infinum/2020_sensor_data/2020-04-09.csv\n",
      "/opt/notebooks/Sensors/infinum/2020_sensor_data/2020-03-26.csv\n",
      "/opt/notebooks/Sensors/infinum/2020_sensor_data/2020-02-10.csv\n",
      "/opt/notebooks/Sensors/infinum/2020_sensor_data/2020-04-03.csv\n",
      "/opt/notebooks/Sensors/infinum/2020_sensor_data/2020-04-15.csv\n",
      "/opt/notebooks/Sensors/infinum/2020_sensor_data/2020-04-08.csv\n",
      "/opt/notebooks/Sensors/infinum/2020_sensor_data/2020-02-12.csv\n",
      "/opt/notebooks/Sensors/infinum/2020_sensor_data/2020-05-01.csv\n",
      "/opt/notebooks/Sensors/infinum/2020_sensor_data/2020-04-13.csv\n",
      "/opt/notebooks/Sensors/infinum/2020_sensor_data/2020-04-02.csv\n",
      "/opt/notebooks/Sensors/infinum/2020_sensor_data/2020-05-13.csv\n",
      "/opt/notebooks/Sensors/infinum/2020_sensor_data/2020-06-14.csv\n",
      "/opt/notebooks/Sensors/infinum/2020_sensor_data/2020-03-28.csv\n",
      "/opt/notebooks/Sensors/infinum/2020_sensor_data/2020-03-08.csv\n",
      "/opt/notebooks/Sensors/infinum/2020_sensor_data/2020-05-07.csv\n",
      "/opt/notebooks/Sensors/infinum/2020_sensor_data/2020-02-04.csv\n",
      "/opt/notebooks/Sensors/infinum/2020_sensor_data/2020-04-06.csv\n",
      "/opt/notebooks/Sensors/infinum/2020_sensor_data/2020-05-06.csv\n",
      "/opt/notebooks/Sensors/infinum/2020_sensor_data/2020-06-21.csv\n",
      "/opt/notebooks/Sensors/infinum/2020_sensor_data/2020-05-19.csv\n",
      "/opt/notebooks/Sensors/infinum/2020_sensor_data/2020-02-13.csv\n",
      "/opt/notebooks/Sensors/infinum/2020_sensor_data/2020-03-30.csv\n",
      "/opt/notebooks/Sensors/infinum/2020_sensor_data/2020-03-21.csv\n",
      "/opt/notebooks/Sensors/infinum/2020_sensor_data/2020-05-03.csv\n",
      "/opt/notebooks/Sensors/infinum/2020_sensor_data/2020-01-24.csv\n",
      "/opt/notebooks/Sensors/infinum/2020_sensor_data/2020-06-22.csv\n",
      "/opt/notebooks/Sensors/infinum/2020_sensor_data/2020-01-09.csv\n",
      "/opt/notebooks/Sensors/infinum/2020_sensor_data/2020-01-31.csv\n",
      "/opt/notebooks/Sensors/infinum/2020_sensor_data/2020-04-14.csv\n",
      "/opt/notebooks/Sensors/infinum/2020_sensor_data/2020-04-07.csv\n",
      "/opt/notebooks/Sensors/infinum/2020_sensor_data/2020-05-05.csv\n",
      "/opt/notebooks/Sensors/infinum/2020_sensor_data/2020-02-20.csv\n",
      "/opt/notebooks/Sensors/infinum/2020_sensor_data/2020-04-20.csv\n",
      "/opt/notebooks/Sensors/infinum/2020_sensor_data/2020-02-15.csv\n",
      "/opt/notebooks/Sensors/infinum/2020_sensor_data/2020-05-16.csv\n",
      "/opt/notebooks/Sensors/infinum/2020_sensor_data/2020-01-08.csv\n",
      "/opt/notebooks/Sensors/infinum/2020_sensor_data/2020-03-04.csv\n",
      "/opt/notebooks/Sensors/infinum/2020_sensor_data/2020-05-02.csv\n",
      "/opt/notebooks/Sensors/infinum/2020_sensor_data/2020-03-23.csv\n",
      "/opt/notebooks/Sensors/infinum/2020_sensor_data/2020-02-14.csv\n",
      "/opt/notebooks/Sensors/infinum/2020_sensor_data/2020-03-10.csv\n",
      "/opt/notebooks/Sensors/infinum/2020_sensor_data/2020-05-22.csv\n",
      "/opt/notebooks/Sensors/infinum/2020_sensor_data/2020-02-05.csv\n",
      "/opt/notebooks/Sensors/infinum/2020_sensor_data/2020-04-26.csv\n",
      "/opt/notebooks/Sensors/infinum/2020_sensor_data/2020-06-01.csv\n",
      "/opt/notebooks/Sensors/infinum/2020_sensor_data/2020-02-28.csv\n",
      "/opt/notebooks/Sensors/infinum/2020_sensor_data/2020-02-17.csv\n",
      "/opt/notebooks/Sensors/infinum/2020_sensor_data/2020-04-24.csv\n",
      "/opt/notebooks/Sensors/infinum/2020_sensor_data/2020-03-12.csv\n",
      "/opt/notebooks/Sensors/infinum/2020_sensor_data/2020-05-11.csv\n",
      "/opt/notebooks/Sensors/infinum/2020_sensor_data/2020-06-11.csv\n",
      "/opt/notebooks/Sensors/infinum/2020_sensor_data/2020-02-16.csv\n",
      "/opt/notebooks/Sensors/infinum/2020_sensor_data/2020-06-18.csv\n",
      "/opt/notebooks/Sensors/infinum/2020_sensor_data/2020-01-12.csv\n",
      "/opt/notebooks/Sensors/infinum/2020_sensor_data/2020-02-22.csv\n",
      "/opt/notebooks/Sensors/infinum/2020_sensor_data/2020-02-25.csv\n",
      "/opt/notebooks/Sensors/infinum/2020_sensor_data/2020-05-28.csv\n",
      "/opt/notebooks/Sensors/infinum/2020_sensor_data/2020-05-21.csv\n",
      "/opt/notebooks/Sensors/infinum/2020_sensor_data/2020-03-05.csv\n",
      "/opt/notebooks/Sensors/infinum/2020_sensor_data/2020-05-08.csv\n",
      "/opt/notebooks/Sensors/infinum/2020_sensor_data/2020-01-05.csv\n",
      "/opt/notebooks/Sensors/infinum/2020_sensor_data/2020-01-21.csv\n",
      "/opt/notebooks/Sensors/infinum/2020_sensor_data/2020-03-07.csv\n",
      "/opt/notebooks/Sensors/infinum/2020_sensor_data/2020-05-25.csv\n",
      "/opt/notebooks/Sensors/infinum/2020_sensor_data/2020-03-24.csv\n",
      "/opt/notebooks/Sensors/infinum/2020_sensor_data/2020-06-19.csv\n",
      "/opt/notebooks/Sensors/infinum/2020_sensor_data/2020-03-01.csv\n",
      "/opt/notebooks/Sensors/infinum/2020_sensor_data/2020-03-31.csv\n",
      "/opt/notebooks/Sensors/infinum/2020_sensor_data/2020-04-19.csv\n",
      "/opt/notebooks/Sensors/infinum/2020_sensor_data/2020-03-22.csv\n",
      "/opt/notebooks/Sensors/infinum/2020_sensor_data/2020-03-13.csv\n",
      "/opt/notebooks/Sensors/infinum/2020_sensor_data/2020-05-30.csv\n"
     ]
    },
    {
     "name": "stdout",
     "output_type": "stream",
     "text": [
      "/opt/notebooks/Sensors/infinum/2020_sensor_data/2020-02-23.csv\n",
      "/opt/notebooks/Sensors/infinum/2020_sensor_data/2020-04-28.csv\n",
      "/opt/notebooks/Sensors/infinum/2020_sensor_data/2020-05-29.csv\n",
      "/opt/notebooks/Sensors/infinum/2020_sensor_data/2020-03-16.csv\n",
      "/opt/notebooks/Sensors/infinum/2020_sensor_data/2020-06-20.csv\n",
      "/opt/notebooks/Sensors/infinum/2020_sensor_data/2020-04-17.csv\n",
      "/opt/notebooks/Sensors/infinum/2020_sensor_data/2020-05-31.csv\n",
      "/opt/notebooks/Sensors/infinum/2020_sensor_data/2020-04-27.csv\n",
      "/opt/notebooks/Sensors/infinum/2020_sensor_data/2020-01-07.csv\n",
      "/opt/notebooks/Sensors/infinum/2020_sensor_data/2020-05-23.csv\n",
      "/opt/notebooks/Sensors/infinum/2020_sensor_data/2020-03-18.csv\n",
      "/opt/notebooks/Sensors/infinum/2020_sensor_data/2020-02-07.csv\n",
      "/opt/notebooks/Sensors/infinum/2020_sensor_data/2020-01-29.csv\n",
      "/opt/notebooks/Sensors/infinum/2020_sensor_data/2020-04-25.csv\n",
      "/opt/notebooks/Sensors/infinum/2020_sensor_data/2020-04-30.csv\n",
      "/opt/notebooks/Sensors/infinum/2020_sensor_data/2020-01-16.csv\n",
      "/opt/notebooks/Sensors/infinum/2020_sensor_data/2020-04-21.csv\n",
      "/opt/notebooks/Sensors/infinum/2020_sensor_data/2020-05-20.csv\n",
      "/opt/notebooks/Sensors/infinum/2020_sensor_data/2020-01-26.csv\n",
      "/opt/notebooks/Sensors/infinum/2020_sensor_data/2020-04-12.csv\n",
      "/opt/notebooks/Sensors/infinum/2020_sensor_data/2020-02-06.csv\n",
      "/opt/notebooks/Sensors/infinum/2020_sensor_data/2020-02-26.csv\n",
      "/opt/notebooks/Sensors/infinum/2020_sensor_data/2020-04-18.csv\n",
      "/opt/notebooks/Sensors/infinum/2020_sensor_data/2020-01-06.csv\n",
      "/opt/notebooks/Sensors/infinum/2020_sensor_data/2020-06-02.csv\n",
      "/opt/notebooks/Sensors/infinum/2020_sensor_data/2020-06-16.csv\n",
      "/opt/notebooks/Sensors/infinum/2020_sensor_data/2020-04-11.csv\n",
      "/opt/notebooks/Sensors/infinum/2020_sensor_data/2020-01-03.csv\n",
      "/opt/notebooks/Sensors/infinum/2020_sensor_data/2020-05-09.csv\n",
      "/opt/notebooks/Sensors/infinum/2020_sensor_data/2020-02-24.csv\n",
      "/opt/notebooks/Sensors/infinum/2020_sensor_data/2020-02-09.csv\n",
      "/opt/notebooks/Sensors/infinum/2020_sensor_data/2020-02-29.csv\n",
      "/opt/notebooks/Sensors/infinum/2020_sensor_data/2020-04-05.csv\n",
      "/opt/notebooks/Sensors/infinum/2020_sensor_data/2020-01-17.csv\n",
      "/opt/notebooks/Sensors/infinum/2020_sensor_data/2020-01-01.csv\n",
      "/opt/notebooks/Sensors/infinum/2020_sensor_data/2020-03-17.csv\n",
      "/opt/notebooks/Sensors/infinum/2020_sensor_data/2020-05-26.csv\n",
      "/opt/notebooks/Sensors/infinum/2020_sensor_data/2020-05-15.csv\n",
      "/opt/notebooks/Sensors/infinum/2020_sensor_data/2020-04-04.csv\n",
      "/opt/notebooks/Sensors/infinum/2020_sensor_data/2020-06-15.csv\n",
      "/opt/notebooks/Sensors/infinum/2020_sensor_data/2020-01-22.csv\n",
      "/opt/notebooks/Sensors/infinum/2020_sensor_data/2020-02-18.csv\n",
      "/opt/notebooks/Sensors/infinum/2020_sensor_data/2020-04-01.csv\n",
      "/opt/notebooks/Sensors/infinum/2020_sensor_data/2020-05-27.csv\n",
      "Done\n"
     ]
    }
   ],
   "source": [
    "#read selected columns from files\n",
    "import pandas as pd\n",
    "data = pd.DataFrame()\n",
    "for f in onlyfiles:\n",
    "    file = join(mypath, f)\n",
    "    day = pd.read_csv(file, usecols=['date', 'serial_number', 'type', 'failure'])\n",
    "    data = data.append(day, ignore_index=True)\n",
    "    print(file)\n",
    "print('Done')"
   ]
  },
  {
   "cell_type": "code",
   "execution_count": 6,
   "id": "16fce8f8",
   "metadata": {},
   "outputs": [
    {
     "name": "stdout",
     "output_type": "stream",
     "text": [
      "<class 'pandas.core.frame.DataFrame'>\n",
      "RangeIndex: 10982984 entries, 0 to 10982983\n",
      "Data columns (total 4 columns):\n",
      " #   Column         Dtype \n",
      "---  ------         ----- \n",
      " 0   date           object\n",
      " 1   serial_number  object\n",
      " 2   type           object\n",
      " 3   failure        int64 \n",
      "dtypes: int64(1), object(3)\n",
      "memory usage: 335.2+ MB\n"
     ]
    }
   ],
   "source": [
    "data.info()"
   ]
  },
  {
   "cell_type": "code",
   "execution_count": 7,
   "id": "d2cbe5d3",
   "metadata": {},
   "outputs": [
    {
     "data": {
      "text/plain": [
       "date                  2020-05-12\n",
       "serial_number     MJ0351YNG9Z0XA\n",
       "type             HDS5C3030ALA630\n",
       "failure                        0\n",
       "Name: 0, dtype: object"
      ]
     },
     "execution_count": 7,
     "metadata": {},
     "output_type": "execute_result"
    }
   ],
   "source": [
    "#select row by index (or label)\n",
    "data.loc[0]"
   ]
  },
  {
   "cell_type": "code",
   "execution_count": 8,
   "id": "04800843",
   "metadata": {},
   "outputs": [
    {
     "data": {
      "text/plain": [
       "70923"
      ]
     },
     "execution_count": 8,
     "metadata": {},
     "output_type": "execute_result"
    }
   ],
   "source": [
    "#select all rows, but one column and count unique values for serial number\n",
    "data.loc[:, 'serial_number'].unique().size"
   ]
  },
  {
   "cell_type": "code",
   "execution_count": 9,
   "id": "dcea3c75",
   "metadata": {},
   "outputs": [
    {
     "data": {
      "text/plain": [
       "array(['MJ0351YNG9Z0XA', 'MJ0351YNG9WJSA', 'PL1321LAG34XWH', ...,\n",
       "       'Z300KHN0', 'Z3015V4D', 'W3006E5B'], dtype=object)"
      ]
     },
     "execution_count": 9,
     "metadata": {},
     "output_type": "execute_result"
    }
   ],
   "source": [
    "#select all rows, but one column and get unique values for serial number\n",
    "data.loc[:, 'serial_number'].unique()"
   ]
  },
  {
   "cell_type": "code",
   "execution_count": 10,
   "id": "fcdc9c5f",
   "metadata": {},
   "outputs": [
    {
     "name": "stdout",
     "output_type": "stream",
     "text": [
      "<class 'pandas.core.frame.DataFrame'>\n",
      "Int64Index: 794019 entries, 0 to 10982981\n",
      "Data columns (total 4 columns):\n",
      " #   Column         Non-Null Count   Dtype \n",
      "---  ------         --------------   ----- \n",
      " 0   date           794019 non-null  object\n",
      " 1   serial_number  794019 non-null  object\n",
      " 2   type           794019 non-null  object\n",
      " 3   failure        794019 non-null  int64 \n",
      "dtypes: int64(1), object(3)\n",
      "memory usage: 30.3+ MB\n"
     ]
    }
   ],
   "source": [
    "#extracting a subset of rows for a type\n",
    "single = data[data['type'] == 'HDS5C3030ALA630'].copy()\n",
    "single.info()"
   ]
  },
  {
   "cell_type": "code",
   "execution_count": 11,
   "id": "bff2e9c0",
   "metadata": {},
   "outputs": [
    {
     "data": {
      "image/png": "[encoded data removed]",
      "text/plain": [
       "<Figure size 432x288 with 1 Axes>"
      ]
     },
     "metadata": {
      "needs_background": "light"
     },
     "output_type": "display_data"
    }
   ],
   "source": [
    "import pandas as pd\n",
    "import matplotlib.pyplot as plt\n",
    "\n",
    "single.plot()\n",
    "\n",
    "plt.show() "
   ]
  },
  {
   "cell_type": "code",
   "execution_count": 12,
   "id": "995a820a",
   "metadata": {},
   "outputs": [
    {
     "data": {
      "text/plain": [
       "<AxesSubplot:ylabel='Frequency'>"
      ]
     },
     "execution_count": 12,
     "metadata": {},
     "output_type": "execute_result"
    },
    {
     "data": {
      "image/png": "[encoded data removed]",
      "text/plain": [
       "<Figure size 432x288 with 1 Axes>"
      ]
     },
     "metadata": {
      "needs_background": "light"
     },
     "output_type": "display_data"
    }
   ],
   "source": [
    "single[\"failure\"].plot(kind = 'hist')"
   ]
  },
  {
   "cell_type": "code",
   "execution_count": 13,
   "id": "29a8182c",
   "metadata": {},
   "outputs": [
    {
     "data": {
      "text/plain": [
       "68"
      ]
     },
     "execution_count": 13,
     "metadata": {},
     "output_type": "execute_result"
    }
   ],
   "source": [
    "#select all rows, but one column and count unique values for type\n",
    "data.loc[:, 'type'].unique().size"
   ]
  },
  {
   "cell_type": "code",
   "execution_count": 14,
   "id": "b5aa67c5",
   "metadata": {},
   "outputs": [
    {
     "name": "stdout",
     "output_type": "stream",
     "text": [
      "['HDS5C3030ALA630' 'HDS5C4040ALE630' 'ST4000DM000' 'HMS5C4040BLE640'\n",
      " 'WD30EFRX' 'HMS5C4040ALE640' 'ST6000DX000' 'HDS723030ALA640'\n",
      " 'HDS722020ALA330' 'MD04ABA400V' 'DT01ACA300' 'WD60EFRX' 'ST4000DX000'\n",
      " 'WD5000LPVX' 'HUH728080ALE600' 'ST320LT007' 'HN' 'WD40EFRX' 'MD04ABA500V'\n",
      " 'WD1600AAJS' 'ST9320325AS' 'HDS724040ALE640' 'HDS5C3030BLE630'\n",
      " 'ST3160318AS' 'ST8000DM002' 'WD20EFRX' 'ST9250315AS' 'ST3160316AS'\n",
      " 'WD3200BEKX' 'HDS723030BLE640' 'WD800JB' 'WD2500BPVT' 'WD5000BPKT'\n",
      " 'HDS723020BLA642' 'ST2000VN000' 'HDT725025VLA380' 'WD1600AAJB'\n",
      " 'WD800AAJB' 'ST4000DX002' 'WD3200AAJS' 'WD5002ABYS' 'ST250LT007'\n",
      " 'WD2500AAJS' 'WD3200LPVX' 'WD2500BEVT' 'WD5003ABYX' 'WD2500AAJB'\n",
      " 'WD1600BPVT' 'ST3500320AS' 'WD3200AAKS' 'ST31500541AS' 'WD3200AAJB'\n",
      " 'WD800AAJS' 'WD800LB' 'WD3200BEKT' 'WD800BB' 'ST31500341AS' 'WD800JD'\n",
      " 'MQ01ABF050' 'WD10EADS' 'WD10EACS' 'WD10EADX' 'WD15EARS' 'WD10EARS'\n",
      " 'WD10EALS' 'WD10EARX' 'HD154UI' 'WD1001FALS']\n"
     ]
    }
   ],
   "source": [
    "#select all rows, but one column and get unique values for type\n",
    "sensor_types = data.loc[:, 'type'].unique()\n",
    "print(sensor_types)"
   ]
  },
  {
   "cell_type": "code",
   "execution_count": 38,
   "id": "faf6e28a",
   "metadata": {},
   "outputs": [],
   "source": [
    "grouped_by_sensor = data.groupby('type')"
   ]
  },
  {
   "cell_type": "code",
   "execution_count": 45,
   "id": "62a372d7",
   "metadata": {},
   "outputs": [
    {
     "data": {
      "text/plain": [
       "type\n",
       "DT01ACA300           8161\n",
       "HD154UI                 5\n",
       "HDS5C3030ALA630    794019\n",
       "HDS5C3030BLE630       175\n",
       "HDS5C4040ALE630    473298\n",
       "                    ...  \n",
       "WD800AAJS            1733\n",
       "WD800BB               424\n",
       "WD800JB               384\n",
       "WD800JD                84\n",
       "WD800LB                76\n",
       "Length: 68, dtype: int64"
      ]
     },
     "metadata": {},
     "output_type": "display_data"
    }
   ],
   "source": [
    "count_by_sensor = grouped_by_sensor.size()\n",
    "display(count_by_sensor)"
   ]
  },
  {
   "cell_type": "code",
   "execution_count": 18,
   "id": "87137d33",
   "metadata": {},
   "outputs": [],
   "source": [
    "data_by_sensor = {}\n",
    "for t in sensor_types:\n",
    "    #extracting a subset of rows for a type\n",
    "    data_by_sensor[t] = data[data['type'] == t]"
   ]
  },
  {
   "cell_type": "code",
   "execution_count": 52,
   "id": "ce4570fa",
   "metadata": {},
   "outputs": [],
   "source": [
    "#sensor type data extraction function\n",
    "def extractionFunction(files, sensor_type):\n",
    "    data = pd.DataFrame()\n",
    "    for f in onlyfiles:\n",
    "        file = join(mypath, f)\n",
    "        day = pd.read_csv(file)\n",
    "        day_by_sensor = day[day['type'] == sensor_type]\n",
    "        data = data.append(day_by_sensor, ignore_index=True)\n",
    "        print(file)\n",
    "    print('Done')\n",
    "    return data"
   ]
  },
  {
   "cell_type": "code",
   "execution_count": 53,
   "id": "5c1438b0",
   "metadata": {},
   "outputs": [
    {
     "name": "stdout",
     "output_type": "stream",
     "text": [
      "/opt/notebooks/Sensors/infinum/2020_sensor_data/2020-05-12.csv\n",
      "/opt/notebooks/Sensors/infinum/2020_sensor_data/2020-01-10.csv\n",
      "/opt/notebooks/Sensors/infinum/2020_sensor_data/2020-06-10.csv\n",
      "/opt/notebooks/Sensors/infinum/2020_sensor_data/2020-06-23.csv\n",
      "/opt/notebooks/Sensors/infinum/2020_sensor_data/2020-03-03.csv\n",
      "/opt/notebooks/Sensors/infinum/2020_sensor_data/2020-06-07.csv\n",
      "/opt/notebooks/Sensors/infinum/2020_sensor_data/2020-01-19.csv\n",
      "/opt/notebooks/Sensors/infinum/2020_sensor_data/2020-01-28.csv\n",
      "/opt/notebooks/Sensors/infinum/2020_sensor_data/2020-03-27.csv\n",
      "/opt/notebooks/Sensors/infinum/2020_sensor_data/2020-03-14.csv\n",
      "/opt/notebooks/Sensors/infinum/2020_sensor_data/2020-04-16.csv\n",
      "/opt/notebooks/Sensors/infinum/2020_sensor_data/2020-06-13.csv\n",
      "/opt/notebooks/Sensors/infinum/2020_sensor_data/2020-03-02.csv\n",
      "/opt/notebooks/Sensors/infinum/2020_sensor_data/2020-03-06.csv\n",
      "/opt/notebooks/Sensors/infinum/2020_sensor_data/2020-06-12.csv\n",
      "/opt/notebooks/Sensors/infinum/2020_sensor_data/2020-02-11.csv\n",
      "/opt/notebooks/Sensors/infinum/2020_sensor_data/2020-04-23.csv\n",
      "/opt/notebooks/Sensors/infinum/2020_sensor_data/2020-02-03.csv\n",
      "/opt/notebooks/Sensors/infinum/2020_sensor_data/2020-01-15.csv\n",
      "/opt/notebooks/Sensors/infinum/2020_sensor_data/2020-01-13.csv\n",
      "/opt/notebooks/Sensors/infinum/2020_sensor_data/2020-05-17.csv\n",
      "/opt/notebooks/Sensors/infinum/2020_sensor_data/2020-01-27.csv\n",
      "/opt/notebooks/Sensors/infinum/2020_sensor_data/2020-05-10.csv\n",
      "/opt/notebooks/Sensors/infinum/2020_sensor_data/2020-01-25.csv\n",
      "/opt/notebooks/Sensors/infinum/2020_sensor_data/2020-01-02.csv\n",
      "/opt/notebooks/Sensors/infinum/2020_sensor_data/2020-06-06.csv\n",
      "/opt/notebooks/Sensors/infinum/2020_sensor_data/2020-05-24.csv\n",
      "/opt/notebooks/Sensors/infinum/2020_sensor_data/2020-02-27.csv\n",
      "/opt/notebooks/Sensors/infinum/2020_sensor_data/2020-05-14.csv\n",
      "/opt/notebooks/Sensors/infinum/2020_sensor_data/2020-03-11.csv\n",
      "/opt/notebooks/Sensors/infinum/2020_sensor_data/2020-02-08.csv\n",
      "/opt/notebooks/Sensors/infinum/2020_sensor_data/2020-03-19.csv\n",
      "/opt/notebooks/Sensors/infinum/2020_sensor_data/2020-01-14.csv\n",
      "/opt/notebooks/Sensors/infinum/2020_sensor_data/2020-03-29.csv\n",
      "/opt/notebooks/Sensors/infinum/2020_sensor_data/2020-01-04.csv\n",
      "/opt/notebooks/Sensors/infinum/2020_sensor_data/2020-01-23.csv\n",
      "/opt/notebooks/Sensors/infinum/2020_sensor_data/2020-06-03.csv\n",
      "/opt/notebooks/Sensors/infinum/2020_sensor_data/2020-04-29.csv\n",
      "/opt/notebooks/Sensors/infinum/2020_sensor_data/2020-01-30.csv\n",
      "/opt/notebooks/Sensors/infinum/2020_sensor_data/2020-02-02.csv\n",
      "/opt/notebooks/Sensors/infinum/2020_sensor_data/2020-06-17.csv\n",
      "/opt/notebooks/Sensors/infinum/2020_sensor_data/2020-01-11.csv\n",
      "/opt/notebooks/Sensors/infinum/2020_sensor_data/2020-06-09.csv\n",
      "/opt/notebooks/Sensors/infinum/2020_sensor_data/2020-02-21.csv\n",
      "/opt/notebooks/Sensors/infinum/2020_sensor_data/2020-03-25.csv\n",
      "/opt/notebooks/Sensors/infinum/2020_sensor_data/2020-01-20.csv\n",
      "/opt/notebooks/Sensors/infinum/2020_sensor_data/2020-06-05.csv\n",
      "/opt/notebooks/Sensors/infinum/2020_sensor_data/2020-02-19.csv\n",
      "/opt/notebooks/Sensors/infinum/2020_sensor_data/2020-06-04.csv\n",
      "/opt/notebooks/Sensors/infinum/2020_sensor_data/2020-03-09.csv\n",
      "/opt/notebooks/Sensors/infinum/2020_sensor_data/2020-03-15.csv\n",
      "/opt/notebooks/Sensors/infinum/2020_sensor_data/2020-03-20.csv\n",
      "/opt/notebooks/Sensors/infinum/2020_sensor_data/2020-01-18.csv\n",
      "/opt/notebooks/Sensors/infinum/2020_sensor_data/2020-05-04.csv\n",
      "/opt/notebooks/Sensors/infinum/2020_sensor_data/2020-02-01.csv\n",
      "/opt/notebooks/Sensors/infinum/2020_sensor_data/2020-04-22.csv\n",
      "/opt/notebooks/Sensors/infinum/2020_sensor_data/2020-04-10.csv\n",
      "/opt/notebooks/Sensors/infinum/2020_sensor_data/2020-05-18.csv\n",
      "/opt/notebooks/Sensors/infinum/2020_sensor_data/2020-06-08.csv\n",
      "/opt/notebooks/Sensors/infinum/2020_sensor_data/2020-04-09.csv\n",
      "/opt/notebooks/Sensors/infinum/2020_sensor_data/2020-03-26.csv\n",
      "/opt/notebooks/Sensors/infinum/2020_sensor_data/2020-02-10.csv\n",
      "/opt/notebooks/Sensors/infinum/2020_sensor_data/2020-04-03.csv\n",
      "/opt/notebooks/Sensors/infinum/2020_sensor_data/2020-04-15.csv\n",
      "/opt/notebooks/Sensors/infinum/2020_sensor_data/2020-04-08.csv\n",
      "/opt/notebooks/Sensors/infinum/2020_sensor_data/2020-02-12.csv\n",
      "/opt/notebooks/Sensors/infinum/2020_sensor_data/2020-05-01.csv\n",
      "/opt/notebooks/Sensors/infinum/2020_sensor_data/2020-04-13.csv\n",
      "/opt/notebooks/Sensors/infinum/2020_sensor_data/2020-04-02.csv\n",
      "/opt/notebooks/Sensors/infinum/2020_sensor_data/2020-05-13.csv\n",
      "/opt/notebooks/Sensors/infinum/2020_sensor_data/2020-06-14.csv\n",
      "/opt/notebooks/Sensors/infinum/2020_sensor_data/2020-03-28.csv\n",
      "/opt/notebooks/Sensors/infinum/2020_sensor_data/2020-03-08.csv\n",
      "/opt/notebooks/Sensors/infinum/2020_sensor_data/2020-05-07.csv\n",
      "/opt/notebooks/Sensors/infinum/2020_sensor_data/2020-02-04.csv\n",
      "/opt/notebooks/Sensors/infinum/2020_sensor_data/2020-04-06.csv\n",
      "/opt/notebooks/Sensors/infinum/2020_sensor_data/2020-05-06.csv\n",
      "/opt/notebooks/Sensors/infinum/2020_sensor_data/2020-06-21.csv\n",
      "/opt/notebooks/Sensors/infinum/2020_sensor_data/2020-05-19.csv\n",
      "/opt/notebooks/Sensors/infinum/2020_sensor_data/2020-02-13.csv\n",
      "/opt/notebooks/Sensors/infinum/2020_sensor_data/2020-03-30.csv\n",
      "/opt/notebooks/Sensors/infinum/2020_sensor_data/2020-03-21.csv\n",
      "/opt/notebooks/Sensors/infinum/2020_sensor_data/2020-05-03.csv\n",
      "/opt/notebooks/Sensors/infinum/2020_sensor_data/2020-01-24.csv\n",
      "/opt/notebooks/Sensors/infinum/2020_sensor_data/2020-06-22.csv\n",
      "/opt/notebooks/Sensors/infinum/2020_sensor_data/2020-01-09.csv\n",
      "/opt/notebooks/Sensors/infinum/2020_sensor_data/2020-01-31.csv\n",
      "/opt/notebooks/Sensors/infinum/2020_sensor_data/2020-04-14.csv\n",
      "/opt/notebooks/Sensors/infinum/2020_sensor_data/2020-04-07.csv\n",
      "/opt/notebooks/Sensors/infinum/2020_sensor_data/2020-05-05.csv\n",
      "/opt/notebooks/Sensors/infinum/2020_sensor_data/2020-02-20.csv\n",
      "/opt/notebooks/Sensors/infinum/2020_sensor_data/2020-04-20.csv\n",
      "/opt/notebooks/Sensors/infinum/2020_sensor_data/2020-02-15.csv\n",
      "/opt/notebooks/Sensors/infinum/2020_sensor_data/2020-05-16.csv\n",
      "/opt/notebooks/Sensors/infinum/2020_sensor_data/2020-01-08.csv\n",
      "/opt/notebooks/Sensors/infinum/2020_sensor_data/2020-03-04.csv\n",
      "/opt/notebooks/Sensors/infinum/2020_sensor_data/2020-05-02.csv\n",
      "/opt/notebooks/Sensors/infinum/2020_sensor_data/2020-03-23.csv\n",
      "/opt/notebooks/Sensors/infinum/2020_sensor_data/2020-02-14.csv\n",
      "/opt/notebooks/Sensors/infinum/2020_sensor_data/2020-03-10.csv\n",
      "/opt/notebooks/Sensors/infinum/2020_sensor_data/2020-05-22.csv\n",
      "/opt/notebooks/Sensors/infinum/2020_sensor_data/2020-02-05.csv\n",
      "/opt/notebooks/Sensors/infinum/2020_sensor_data/2020-04-26.csv\n",
      "/opt/notebooks/Sensors/infinum/2020_sensor_data/2020-06-01.csv\n",
      "/opt/notebooks/Sensors/infinum/2020_sensor_data/2020-02-28.csv\n",
      "/opt/notebooks/Sensors/infinum/2020_sensor_data/2020-02-17.csv\n",
      "/opt/notebooks/Sensors/infinum/2020_sensor_data/2020-04-24.csv\n",
      "/opt/notebooks/Sensors/infinum/2020_sensor_data/2020-03-12.csv\n",
      "/opt/notebooks/Sensors/infinum/2020_sensor_data/2020-05-11.csv\n",
      "/opt/notebooks/Sensors/infinum/2020_sensor_data/2020-06-11.csv\n",
      "/opt/notebooks/Sensors/infinum/2020_sensor_data/2020-02-16.csv\n",
      "/opt/notebooks/Sensors/infinum/2020_sensor_data/2020-06-18.csv\n",
      "/opt/notebooks/Sensors/infinum/2020_sensor_data/2020-01-12.csv\n",
      "/opt/notebooks/Sensors/infinum/2020_sensor_data/2020-02-22.csv\n",
      "/opt/notebooks/Sensors/infinum/2020_sensor_data/2020-02-25.csv\n",
      "/opt/notebooks/Sensors/infinum/2020_sensor_data/2020-05-28.csv\n",
      "/opt/notebooks/Sensors/infinum/2020_sensor_data/2020-05-21.csv\n",
      "/opt/notebooks/Sensors/infinum/2020_sensor_data/2020-03-05.csv\n",
      "/opt/notebooks/Sensors/infinum/2020_sensor_data/2020-05-08.csv\n",
      "/opt/notebooks/Sensors/infinum/2020_sensor_data/2020-01-05.csv\n",
      "/opt/notebooks/Sensors/infinum/2020_sensor_data/2020-01-21.csv\n",
      "/opt/notebooks/Sensors/infinum/2020_sensor_data/2020-03-07.csv\n",
      "/opt/notebooks/Sensors/infinum/2020_sensor_data/2020-05-25.csv\n",
      "/opt/notebooks/Sensors/infinum/2020_sensor_data/2020-03-24.csv\n",
      "/opt/notebooks/Sensors/infinum/2020_sensor_data/2020-06-19.csv\n",
      "/opt/notebooks/Sensors/infinum/2020_sensor_data/2020-03-01.csv\n",
      "/opt/notebooks/Sensors/infinum/2020_sensor_data/2020-03-31.csv\n",
      "/opt/notebooks/Sensors/infinum/2020_sensor_data/2020-04-19.csv\n",
      "/opt/notebooks/Sensors/infinum/2020_sensor_data/2020-03-22.csv\n",
      "/opt/notebooks/Sensors/infinum/2020_sensor_data/2020-03-13.csv\n",
      "/opt/notebooks/Sensors/infinum/2020_sensor_data/2020-05-30.csv\n"
     ]
    },
    {
     "name": "stdout",
     "output_type": "stream",
     "text": [
      "/opt/notebooks/Sensors/infinum/2020_sensor_data/2020-02-23.csv\n",
      "/opt/notebooks/Sensors/infinum/2020_sensor_data/2020-04-28.csv\n",
      "/opt/notebooks/Sensors/infinum/2020_sensor_data/2020-05-29.csv\n",
      "/opt/notebooks/Sensors/infinum/2020_sensor_data/2020-03-16.csv\n",
      "/opt/notebooks/Sensors/infinum/2020_sensor_data/2020-06-20.csv\n",
      "/opt/notebooks/Sensors/infinum/2020_sensor_data/2020-04-17.csv\n",
      "/opt/notebooks/Sensors/infinum/2020_sensor_data/2020-05-31.csv\n",
      "/opt/notebooks/Sensors/infinum/2020_sensor_data/2020-04-27.csv\n",
      "/opt/notebooks/Sensors/infinum/2020_sensor_data/2020-01-07.csv\n",
      "/opt/notebooks/Sensors/infinum/2020_sensor_data/2020-05-23.csv\n",
      "/opt/notebooks/Sensors/infinum/2020_sensor_data/2020-03-18.csv\n",
      "/opt/notebooks/Sensors/infinum/2020_sensor_data/2020-02-07.csv\n",
      "/opt/notebooks/Sensors/infinum/2020_sensor_data/2020-01-29.csv\n",
      "/opt/notebooks/Sensors/infinum/2020_sensor_data/2020-04-25.csv\n",
      "/opt/notebooks/Sensors/infinum/2020_sensor_data/2020-04-30.csv\n",
      "/opt/notebooks/Sensors/infinum/2020_sensor_data/2020-01-16.csv\n",
      "/opt/notebooks/Sensors/infinum/2020_sensor_data/2020-04-21.csv\n",
      "/opt/notebooks/Sensors/infinum/2020_sensor_data/2020-05-20.csv\n",
      "/opt/notebooks/Sensors/infinum/2020_sensor_data/2020-01-26.csv\n",
      "/opt/notebooks/Sensors/infinum/2020_sensor_data/2020-04-12.csv\n",
      "/opt/notebooks/Sensors/infinum/2020_sensor_data/2020-02-06.csv\n",
      "/opt/notebooks/Sensors/infinum/2020_sensor_data/2020-02-26.csv\n",
      "/opt/notebooks/Sensors/infinum/2020_sensor_data/2020-04-18.csv\n",
      "/opt/notebooks/Sensors/infinum/2020_sensor_data/2020-01-06.csv\n",
      "/opt/notebooks/Sensors/infinum/2020_sensor_data/2020-06-02.csv\n",
      "/opt/notebooks/Sensors/infinum/2020_sensor_data/2020-06-16.csv\n",
      "/opt/notebooks/Sensors/infinum/2020_sensor_data/2020-04-11.csv\n",
      "/opt/notebooks/Sensors/infinum/2020_sensor_data/2020-01-03.csv\n",
      "/opt/notebooks/Sensors/infinum/2020_sensor_data/2020-05-09.csv\n",
      "/opt/notebooks/Sensors/infinum/2020_sensor_data/2020-02-24.csv\n",
      "/opt/notebooks/Sensors/infinum/2020_sensor_data/2020-02-09.csv\n",
      "/opt/notebooks/Sensors/infinum/2020_sensor_data/2020-02-29.csv\n",
      "/opt/notebooks/Sensors/infinum/2020_sensor_data/2020-04-05.csv\n",
      "/opt/notebooks/Sensors/infinum/2020_sensor_data/2020-01-17.csv\n",
      "/opt/notebooks/Sensors/infinum/2020_sensor_data/2020-01-01.csv\n",
      "/opt/notebooks/Sensors/infinum/2020_sensor_data/2020-03-17.csv\n",
      "/opt/notebooks/Sensors/infinum/2020_sensor_data/2020-05-26.csv\n",
      "/opt/notebooks/Sensors/infinum/2020_sensor_data/2020-05-15.csv\n",
      "/opt/notebooks/Sensors/infinum/2020_sensor_data/2020-04-04.csv\n",
      "/opt/notebooks/Sensors/infinum/2020_sensor_data/2020-06-15.csv\n",
      "/opt/notebooks/Sensors/infinum/2020_sensor_data/2020-01-22.csv\n",
      "/opt/notebooks/Sensors/infinum/2020_sensor_data/2020-02-18.csv\n",
      "/opt/notebooks/Sensors/infinum/2020_sensor_data/2020-04-01.csv\n",
      "/opt/notebooks/Sensors/infinum/2020_sensor_data/2020-05-27.csv\n",
      "Done\n"
     ]
    }
   ],
   "source": [
    "DT01ACA300 = extractionFunction(onlyfiles, 'DT01ACA300')"
   ]
  },
  {
   "cell_type": "code",
   "execution_count": 54,
   "id": "c5dc2307",
   "metadata": {},
   "outputs": [
    {
     "name": "stdout",
     "output_type": "stream",
     "text": [
      "<class 'pandas.core.frame.DataFrame'>\n",
      "RangeIndex: 8161 entries, 0 to 8160\n",
      "Data columns (total 95 columns):\n",
      " #   Column               Non-Null Count  Dtype  \n",
      "---  ------               --------------  -----  \n",
      " 0   date                 8161 non-null   object \n",
      " 1   serial_number        8161 non-null   object \n",
      " 2   type                 8161 non-null   object \n",
      " 3   capacity             8161 non-null   int64  \n",
      " 4   failure              8161 non-null   int64  \n",
      " 5   stat_1_normalized    8161 non-null   float64\n",
      " 6   stat_1_raw           8161 non-null   float64\n",
      " 7   stat_2_normalized    8161 non-null   float64\n",
      " 8   stat_2_raw           8161 non-null   float64\n",
      " 9   stat_3_normalized    8161 non-null   float64\n",
      " 10  stat_3_raw           8161 non-null   float64\n",
      " 11  stat_4_normalized    8161 non-null   float64\n",
      " 12  stat_4_raw           8161 non-null   float64\n",
      " 13  stat_5_normalized    8161 non-null   float64\n",
      " 14  stat_5_raw           8161 non-null   float64\n",
      " 15  stat_7_normalized    8161 non-null   float64\n",
      " 16  stat_7_raw           8161 non-null   float64\n",
      " 17  stat_8_normalized    8161 non-null   float64\n",
      " 18  stat_8_raw           8161 non-null   float64\n",
      " 19  stat_9_normalized    8161 non-null   float64\n",
      " 20  stat_9_raw           8161 non-null   float64\n",
      " 21  stat_10_normalized   8161 non-null   float64\n",
      " 22  stat_10_raw          8161 non-null   float64\n",
      " 23  stat_11_normalized   0 non-null      float64\n",
      " 24  stat_11_raw          0 non-null      float64\n",
      " 25  stat_12_normalized   8161 non-null   float64\n",
      " 26  stat_12_raw          8161 non-null   float64\n",
      " 27  stat_13_normalized   0 non-null      float64\n",
      " 28  stat_13_raw          0 non-null      float64\n",
      " 29  stat_15_normalized   0 non-null      float64\n",
      " 30  stat_15_raw          0 non-null      float64\n",
      " 31  stat_22_normalized   0 non-null      float64\n",
      " 32  stat_22_raw          0 non-null      float64\n",
      " 33  stat_183_normalized  0 non-null      float64\n",
      " 34  stat_183_raw         0 non-null      float64\n",
      " 35  stat_184_normalized  0 non-null      float64\n",
      " 36  stat_184_raw         0 non-null      float64\n",
      " 37  stat_187_normalized  0 non-null      float64\n",
      " 38  stat_187_raw         0 non-null      float64\n",
      " 39  stat_188_normalized  0 non-null      float64\n",
      " 40  stat_188_raw         0 non-null      float64\n",
      " 41  stat_189_normalized  0 non-null      float64\n",
      " 42  stat_189_raw         0 non-null      float64\n",
      " 43  stat_190_normalized  0 non-null      float64\n",
      " 44  stat_190_raw         0 non-null      float64\n",
      " 45  stat_191_normalized  0 non-null      float64\n",
      " 46  stat_191_raw         0 non-null      float64\n",
      " 47  stat_192_normalized  8161 non-null   float64\n",
      " 48  stat_192_raw         8161 non-null   float64\n",
      " 49  stat_193_normalized  8161 non-null   float64\n",
      " 50  stat_193_raw         8161 non-null   float64\n",
      " 51  stat_194_normalized  8161 non-null   float64\n",
      " 52  stat_194_raw         8161 non-null   float64\n",
      " 53  stat_195_normalized  0 non-null      float64\n",
      " 54  stat_195_raw         0 non-null      float64\n",
      " 55  stat_196_normalized  8161 non-null   float64\n",
      " 56  stat_196_raw         8161 non-null   float64\n",
      " 57  stat_197_normalized  8161 non-null   float64\n",
      " 58  stat_197_raw         8161 non-null   float64\n",
      " 59  stat_198_normalized  8161 non-null   float64\n",
      " 60  stat_198_raw         8161 non-null   float64\n",
      " 61  stat_199_normalized  8161 non-null   float64\n",
      " 62  stat_199_raw         8161 non-null   float64\n",
      " 63  stat_200_normalized  0 non-null      float64\n",
      " 64  stat_200_raw         0 non-null      float64\n",
      " 65  stat_201_normalized  0 non-null      float64\n",
      " 66  stat_201_raw         0 non-null      float64\n",
      " 67  stat_220_normalized  0 non-null      float64\n",
      " 68  stat_220_raw         0 non-null      float64\n",
      " 69  stat_222_normalized  0 non-null      float64\n",
      " 70  stat_222_raw         0 non-null      float64\n",
      " 71  stat_223_normalized  0 non-null      float64\n",
      " 72  stat_223_raw         0 non-null      float64\n",
      " 73  stat_224_normalized  0 non-null      float64\n",
      " 74  stat_224_raw         0 non-null      float64\n",
      " 75  stat_225_normalized  0 non-null      float64\n",
      " 76  stat_225_raw         0 non-null      float64\n",
      " 77  stat_226_normalized  0 non-null      float64\n",
      " 78  stat_226_raw         0 non-null      float64\n",
      " 79  stat_240_normalized  0 non-null      float64\n",
      " 80  stat_240_raw         0 non-null      float64\n",
      " 81  stat_241_normalized  0 non-null      float64\n",
      " 82  stat_241_raw         0 non-null      float64\n",
      " 83  stat_242_normalized  0 non-null      float64\n",
      " 84  stat_242_raw         0 non-null      float64\n",
      " 85  stat_250_normalized  0 non-null      float64\n",
      " 86  stat_250_raw         0 non-null      float64\n",
      " 87  stat_251_normalized  0 non-null      float64\n",
      " 88  stat_251_raw         0 non-null      float64\n",
      " 89  stat_252_normalized  0 non-null      float64\n",
      " 90  stat_252_raw         0 non-null      float64\n",
      " 91  stat_254_normalized  0 non-null      float64\n",
      " 92  stat_254_raw         0 non-null      float64\n",
      " 93  stat_255_normalized  0 non-null      float64\n",
      " 94  stat_255_raw         0 non-null      float64\n",
      "dtypes: float64(90), int64(2), object(3)\n",
      "memory usage: 5.9+ MB\n"
     ]
    }
   ],
   "source": [
    "DT01ACA300.info()"
   ]
  },
  {
   "cell_type": "code",
   "execution_count": 57,
   "id": "f879c198",
   "metadata": {},
   "outputs": [
    {
     "data": {
      "text/html": [
       "<div>\n",
       "<style scoped>\n",
       "    .dataframe tbody tr th:only-of-type {\n",
       "        vertical-align: middle;\n",
       "    }\n",
       "\n",
       "    .dataframe tbody tr th {\n",
       "        vertical-align: top;\n",
       "    }\n",
       "\n",
       "    .dataframe thead th {\n",
       "        text-align: right;\n",
       "    }\n",
       "</style>\n",
       "<table border=\"1\" class=\"dataframe\">\n",
       "  <thead>\n",
       "    <tr style=\"text-align: right;\">\n",
       "      <th></th>\n",
       "      <th>date</th>\n",
       "      <th>serial_number</th>\n",
       "      <th>type</th>\n",
       "      <th>capacity</th>\n",
       "      <th>failure</th>\n",
       "      <th>stat_1_normalized</th>\n",
       "      <th>stat_1_raw</th>\n",
       "      <th>stat_2_normalized</th>\n",
       "      <th>stat_2_raw</th>\n",
       "      <th>stat_3_normalized</th>\n",
       "      <th>...</th>\n",
       "      <th>stat_250_normalized</th>\n",
       "      <th>stat_250_raw</th>\n",
       "      <th>stat_251_normalized</th>\n",
       "      <th>stat_251_raw</th>\n",
       "      <th>stat_252_normalized</th>\n",
       "      <th>stat_252_raw</th>\n",
       "      <th>stat_254_normalized</th>\n",
       "      <th>stat_254_raw</th>\n",
       "      <th>stat_255_normalized</th>\n",
       "      <th>stat_255_raw</th>\n",
       "    </tr>\n",
       "  </thead>\n",
       "  <tbody>\n",
       "    <tr>\n",
       "      <th>3364</th>\n",
       "      <td>2020-03-08</td>\n",
       "      <td>Z262JRXAS</td>\n",
       "      <td>DT01ACA300</td>\n",
       "      <td>3000592982016</td>\n",
       "      <td>1</td>\n",
       "      <td>86.0</td>\n",
       "      <td>4653147.0</td>\n",
       "      <td>138.0</td>\n",
       "      <td>74.0</td>\n",
       "      <td>133.0</td>\n",
       "      <td>...</td>\n",
       "      <td>NaN</td>\n",
       "      <td>NaN</td>\n",
       "      <td>NaN</td>\n",
       "      <td>NaN</td>\n",
       "      <td>NaN</td>\n",
       "      <td>NaN</td>\n",
       "      <td>NaN</td>\n",
       "      <td>NaN</td>\n",
       "      <td>NaN</td>\n",
       "      <td>NaN</td>\n",
       "    </tr>\n",
       "    <tr>\n",
       "      <th>4278</th>\n",
       "      <td>2020-04-20</td>\n",
       "      <td>13H883WAS</td>\n",
       "      <td>DT01ACA300</td>\n",
       "      <td>3000592982016</td>\n",
       "      <td>1</td>\n",
       "      <td>99.0</td>\n",
       "      <td>65538.0</td>\n",
       "      <td>100.0</td>\n",
       "      <td>0.0</td>\n",
       "      <td>132.0</td>\n",
       "      <td>...</td>\n",
       "      <td>NaN</td>\n",
       "      <td>NaN</td>\n",
       "      <td>NaN</td>\n",
       "      <td>NaN</td>\n",
       "      <td>NaN</td>\n",
       "      <td>NaN</td>\n",
       "      <td>NaN</td>\n",
       "      <td>NaN</td>\n",
       "      <td>NaN</td>\n",
       "      <td>NaN</td>\n",
       "    </tr>\n",
       "  </tbody>\n",
       "</table>\n",
       "<p>2 rows × 95 columns</p>\n",
       "</div>"
      ],
      "text/plain": [
       "            date serial_number        type       capacity  failure  \\\n",
       "3364  2020-03-08     Z262JRXAS  DT01ACA300  3000592982016        1   \n",
       "4278  2020-04-20     13H883WAS  DT01ACA300  3000592982016        1   \n",
       "\n",
       "      stat_1_normalized  stat_1_raw  stat_2_normalized  stat_2_raw  \\\n",
       "3364               86.0   4653147.0              138.0        74.0   \n",
       "4278               99.0     65538.0              100.0         0.0   \n",
       "\n",
       "      stat_3_normalized  ...  stat_250_normalized  stat_250_raw  \\\n",
       "3364              133.0  ...                  NaN           NaN   \n",
       "4278              132.0  ...                  NaN           NaN   \n",
       "\n",
       "      stat_251_normalized  stat_251_raw  stat_252_normalized  stat_252_raw  \\\n",
       "3364                  NaN           NaN                  NaN           NaN   \n",
       "4278                  NaN           NaN                  NaN           NaN   \n",
       "\n",
       "      stat_254_normalized  stat_254_raw  stat_255_normalized  stat_255_raw  \n",
       "3364                  NaN           NaN                  NaN           NaN  \n",
       "4278                  NaN           NaN                  NaN           NaN  \n",
       "\n",
       "[2 rows x 95 columns]"
      ]
     },
     "execution_count": 57,
     "metadata": {},
     "output_type": "execute_result"
    },
    {
     "data": {
      "image/png": "[encoded data removed]",
      "text/plain": [
       "<Figure size 432x288 with 1 Axes>"
      ]
     },
     "metadata": {
      "needs_background": "light"
     },
     "output_type": "display_data"
    }
   ],
   "source": [
    "DT01ACA300['failure'].plot()\n",
    "DT01ACA300[DT01ACA300['failure'] == 1]"
   ]
  },
  {
   "cell_type": "code",
   "execution_count": null,
   "id": "db33816a",
   "metadata": {},
   "outputs": [],
   "source": []
  }
 ],
 "metadata": {
  "kernelspec": {
   "display_name": "Python 3",
   "language": "python",
   "name": "python3"
  },
  "language_info": {
   "codemirror_mode": {
    "name": "ipython",
    "version": 3
   },
   "file_extension": ".py",
   "mimetype": "text/x-python",
   "name": "python",
   "nbconvert_exporter": "python",
   "pygments_lexer": "ipython3",
   "version": "3.8.8"
  }
 },
 "nbformat": 4,
 "nbformat_minor": 5
}
