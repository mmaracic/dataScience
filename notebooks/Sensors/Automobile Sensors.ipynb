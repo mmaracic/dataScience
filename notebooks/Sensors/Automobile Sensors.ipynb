{
 "cells": [
  {
   "cell_type": "code",
   "execution_count": 1,
   "id": "d0240ae3",
   "metadata": {},
   "outputs": [
    {
     "name": "stdout",
     "output_type": "stream",
     "text": [
      "/opt/notebooks/Sensors\n"
     ]
    }
   ],
   "source": [
    "#current directory\n",
    "import os\n",
    "cwd = os.getcwd()\n",
    "print(cwd)"
   ]
  },
  {
   "cell_type": "code",
   "execution_count": 2,
   "id": "e91eab08",
   "metadata": {},
   "outputs": [
    {
     "name": "stdout",
     "output_type": "stream",
     "text": [
      "['2020-05-12.csv', '2020-01-10.csv', '2020-06-10.csv', '2020-06-23.csv', '2020-03-03.csv', '2020-06-07.csv', '2020-01-19.csv', '2020-01-28.csv', '2020-03-27.csv', '2020-03-14.csv', '2020-04-16.csv', '2020-06-13.csv', '2020-03-02.csv', '2020-03-06.csv', '2020-06-12.csv', '2020-02-11.csv', '2020-04-23.csv', '2020-02-03.csv', '2020-01-15.csv', '2020-01-13.csv', '2020-05-17.csv', '2020-01-27.csv', '2020-05-10.csv', '2020-01-25.csv', '2020-01-02.csv', '2020-06-06.csv', '2020-05-24.csv', '2020-02-27.csv', '2020-05-14.csv', '2020-03-11.csv', '2020-02-08.csv', '2020-03-19.csv', '2020-01-14.csv', '2020-03-29.csv', '2020-01-04.csv', '2020-01-23.csv', '2020-06-03.csv', '2020-04-29.csv', '2020-01-30.csv', '2020-02-02.csv', '2020-06-17.csv', '2020-01-11.csv', '2020-06-09.csv', '2020-02-21.csv', '2020-03-25.csv', '2020-01-20.csv', '2020-06-05.csv', '2020-02-19.csv', '2020-06-04.csv', '2020-03-09.csv', '2020-03-15.csv', '2020-03-20.csv', '2020-01-18.csv', '2020-05-04.csv', '2020-02-01.csv', '2020-04-22.csv', '2020-04-10.csv', '2020-05-18.csv', '2020-06-08.csv', '2020-04-09.csv', '2020-03-26.csv', '2020-02-10.csv', '2020-04-03.csv', '2020-04-15.csv', '2020-04-08.csv', '2020-02-12.csv', '2020-05-01.csv', '2020-04-13.csv', '2020-04-02.csv', '2020-05-13.csv', '2020-06-14.csv', '2020-03-28.csv', '2020-03-08.csv', '2020-05-07.csv', '2020-02-04.csv', '2020-04-06.csv', '2020-05-06.csv', '2020-06-21.csv', '2020-05-19.csv', '2020-02-13.csv', '2020-03-30.csv', '2020-03-21.csv', '2020-05-03.csv', '2020-01-24.csv', '2020-06-22.csv', '2020-01-09.csv', '2020-01-31.csv', '2020-04-14.csv', '2020-04-07.csv', '2020-05-05.csv', '2020-02-20.csv', '2020-04-20.csv', '2020-02-15.csv', '2020-05-16.csv', '2020-01-08.csv', '2020-03-04.csv', '2020-05-02.csv', '2020-03-23.csv', '2020-02-14.csv', '2020-03-10.csv', '2020-05-22.csv', '2020-02-05.csv', '2020-04-26.csv', '2020-06-01.csv', '2020-02-28.csv', '2020-02-17.csv', '2020-04-24.csv', '2020-03-12.csv', '2020-05-11.csv', '2020-06-11.csv', '2020-02-16.csv', '2020-06-18.csv', '2020-01-12.csv', '2020-02-22.csv', '2020-02-25.csv', '2020-05-28.csv', '2020-05-21.csv', '2020-03-05.csv', '2020-05-08.csv', '2020-01-05.csv', '2020-01-21.csv', '2020-03-07.csv', '2020-05-25.csv', '2020-03-24.csv', '2020-06-19.csv', '2020-03-01.csv', '2020-03-31.csv', '2020-04-19.csv', '2020-03-22.csv', '2020-03-13.csv', '2020-05-30.csv', '2020-02-23.csv', '2020-04-28.csv', '2020-05-29.csv', '2020-03-16.csv', '2020-06-20.csv', '2020-04-17.csv', '2020-05-31.csv', '2020-04-27.csv', '2020-01-07.csv', '2020-05-23.csv', '2020-03-18.csv', '2020-02-07.csv', '2020-01-29.csv', '2020-04-25.csv', '2020-04-30.csv', '2020-01-16.csv', '2020-04-21.csv', '2020-05-20.csv', '2020-01-26.csv', '2020-04-12.csv', '2020-02-06.csv', '2020-02-26.csv', '2020-04-18.csv', '2020-01-06.csv', '2020-06-02.csv', '2020-06-16.csv', '2020-04-11.csv', '2020-01-03.csv', '2020-05-09.csv', '2020-02-24.csv', '2020-02-09.csv', '2020-02-29.csv', '2020-04-05.csv', '2020-01-17.csv', '2020-01-01.csv', '2020-03-17.csv', '2020-05-26.csv', '2020-05-15.csv', '2020-04-04.csv', '2020-06-15.csv', '2020-01-22.csv', '2020-02-18.csv', '2020-04-01.csv', '2020-05-27.csv']\n"
     ]
    }
   ],
   "source": [
    "from os import listdir\n",
    "from os.path import isfile, join\n",
    "mypath = '/opt/notebooks/Sensors/infinum/2020_sensor_data'\n",
    "onlyfiles = [f for f in listdir(mypath) if isfile(join(mypath, f))]\n",
    "print(onlyfiles)"
   ]
  },
  {
   "cell_type": "code",
   "execution_count": 5,
   "id": "7a6a23a0",
   "metadata": {},
   "outputs": [
    {
     "name": "stdout",
     "output_type": "stream",
     "text": [
      "/opt/notebooks/Sensors/infinum/2020_sensor_data/2020-05-12.csv\n",
      "<bound method DataFrame.info of              date   serial_number             type       capacity  failure  \\\n",
      "0      2020-05-12  MJ0351YNG9Z0XA  HDS5C3030ALA630  3000592982016        0   \n",
      "1      2020-05-12  MJ0351YNG9WJSA  HDS5C3030ALA630  3000592982016        0   \n",
      "2      2020-05-12  PL1321LAG34XWH  HDS5C4040ALE630  4000787030016        0   \n",
      "3      2020-05-12  MJ0351YNGABYAA  HDS5C3030ALA630  3000592982016        0   \n",
      "4      2020-05-12        Z305B2QN      ST4000DM000  4000787030016        0   \n",
      "...           ...             ...              ...            ...      ...   \n",
      "66397  2020-05-12  MJ1311YNG3G5NA  HDS5C3030ALA630  3000592982016        0   \n",
      "66398  2020-05-12        Z3016V0V      ST4000DM000  4000787030016        0   \n",
      "66399  2020-05-12  MJ1323YNG1LZJC  HDS5C3030ALA630  3000592982016        0   \n",
      "66400  2020-05-12        S300YQXW      ST4000DM000  4000787030016        0   \n",
      "66401  2020-05-12        Z30271GD      ST4000DM000  4000787030016        0   \n",
      "\n",
      "       stat_1_normalized  stat_1_raw  stat_2_normalized  stat_2_raw  \\\n",
      "0                    100           0              135.0       108.0   \n",
      "1                    100           0              136.0       104.0   \n",
      "2                    100           0              134.0       101.0   \n",
      "3                    100           0              136.0       104.0   \n",
      "4                    119   209278624                NaN         NaN   \n",
      "...                  ...         ...                ...         ...   \n",
      "66397                100           0              100.0         0.0   \n",
      "66398                117   142819240                NaN         NaN   \n",
      "66399                100           0              100.0         0.0   \n",
      "66400                117   142801808                NaN         NaN   \n",
      "66401                112    49170872                NaN         NaN   \n",
      "\n",
      "       stat_3_normalized  ...  stat_250_normalized  stat_250_raw  \\\n",
      "0                    143  ...                  NaN           NaN   \n",
      "1                    127  ...                  NaN           NaN   \n",
      "2                    130  ...                  NaN           NaN   \n",
      "3                    137  ...                  NaN           NaN   \n",
      "4                     95  ...                  NaN           NaN   \n",
      "...                  ...  ...                  ...           ...   \n",
      "66397                123  ...                  NaN           NaN   \n",
      "66398                 91  ...                  NaN           NaN   \n",
      "66399                124  ...                  NaN           NaN   \n",
      "66400                 96  ...                  NaN           NaN   \n",
      "66401                 93  ...                  NaN           NaN   \n",
      "\n",
      "       stat_251_normalized  stat_251_raw  stat_252_normalized  stat_252_raw  \\\n",
      "0                      NaN           NaN                  NaN           NaN   \n",
      "1                      NaN           NaN                  NaN           NaN   \n",
      "2                      NaN           NaN                  NaN           NaN   \n",
      "3                      NaN           NaN                  NaN           NaN   \n",
      "4                      NaN           NaN                  NaN           NaN   \n",
      "...                    ...           ...                  ...           ...   \n",
      "66397                  NaN           NaN                  NaN           NaN   \n",
      "66398                  NaN           NaN                  NaN           NaN   \n",
      "66399                  NaN           NaN                  NaN           NaN   \n",
      "66400                  NaN           NaN                  NaN           NaN   \n",
      "66401                  NaN           NaN                  NaN           NaN   \n",
      "\n",
      "       stat_254_normalized  stat_254_raw  stat_255_normalized  stat_255_raw  \n",
      "0                      NaN           NaN                  NaN           NaN  \n",
      "1                      NaN           NaN                  NaN           NaN  \n",
      "2                      NaN           NaN                  NaN           NaN  \n",
      "3                      NaN           NaN                  NaN           NaN  \n",
      "4                      NaN           NaN                  NaN           NaN  \n",
      "...                    ...           ...                  ...           ...  \n",
      "66397                  NaN           NaN                  NaN           NaN  \n",
      "66398                  NaN           NaN                  NaN           NaN  \n",
      "66399                  NaN           NaN                  NaN           NaN  \n",
      "66400                  NaN           NaN                  NaN           NaN  \n",
      "66401                  NaN           NaN                  NaN           NaN  \n",
      "\n",
      "[66402 rows x 95 columns]>\n"
     ]
    }
   ],
   "source": [
    "import pandas as pd\n",
    "file = join(mypath, onlyfiles[0])\n",
    "day = pd.read_csv(file)\n",
    "print(file)\n",
    "print(day.info)\n",
    "#print('Data', day)"
   ]
  },
  {
   "cell_type": "code",
   "execution_count": null,
   "id": "beaef38d",
   "metadata": {},
   "outputs": [],
   "source": []
  }
 ],
 "metadata": {
  "kernelspec": {
   "display_name": "Python 3",
   "language": "python",
   "name": "python3"
  },
  "language_info": {
   "codemirror_mode": {
    "name": "ipython",
    "version": 3
   },
   "file_extension": ".py",
   "mimetype": "text/x-python",
   "name": "python",
   "nbconvert_exporter": "python",
   "pygments_lexer": "ipython3",
   "version": "3.8.8"
  }
 },
 "nbformat": 4,
 "nbformat_minor": 5
}
